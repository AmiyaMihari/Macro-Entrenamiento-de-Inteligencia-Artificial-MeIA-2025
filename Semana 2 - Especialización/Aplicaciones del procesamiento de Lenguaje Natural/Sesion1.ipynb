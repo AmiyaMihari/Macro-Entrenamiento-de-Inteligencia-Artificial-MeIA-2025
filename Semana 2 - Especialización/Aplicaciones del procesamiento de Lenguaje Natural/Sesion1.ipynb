{
 "cells": [
  {
   "cell_type": "markdown",
   "id": "5f95a845",
   "metadata": {},
   "source": [
    "# Sesión 1"
   ]
  },
  {
   "cell_type": "code",
   "execution_count": 14,
   "id": "c2182c27",
   "metadata": {},
   "outputs": [],
   "source": [
    "# !pip install -U spacy\n",
    "# !python -m spacy download es_core_news_sm\n",
    "# pip install fasttext\n",
    "# !wget https://dl.fbaipublicfiles.com/fasttext/vectors-crawl/cc.es.300.bin.gz"
   ]
  },
  {
   "cell_type": "code",
   "execution_count": 8,
   "id": "a3ee8933",
   "metadata": {},
   "outputs": [],
   "source": [
    "import spacy\n",
    "nlp = spacy.load(\"es_core_news_sm\")"
   ]
  },
  {
   "cell_type": "code",
   "execution_count": 9,
   "id": "ce595b46",
   "metadata": {},
   "outputs": [
    {
     "name": "stdout",
     "output_type": "stream",
     "text": [
      "['Alla', 'en', 'la', 'fuente', 'habia', 'un', 'chorrito']\n"
     ]
    }
   ],
   "source": [
    "texto = \"Alla en la fuente habia un chorrito\"\n",
    "doc = nlp(texto)\n",
    "\n",
    "tokens = [token.text for token in doc]\n",
    "print(tokens)"
   ]
  },
  {
   "cell_type": "code",
   "execution_count": 12,
   "id": "68cf17c4",
   "metadata": {},
   "outputs": [
    {
     "name": "stdout",
     "output_type": "stream",
     "text": [
      "['azul', 'toro', 'gatito', 'beber', 'geología']\n"
     ]
    }
   ],
   "source": [
    "palabras = ['azul', 'toro', 'gatito', 'beber', 'geología']\n",
    "\n",
    "doc = nlp(\" \".join(palabras))\n",
    "\n",
    "lemmatizadas = [token.lemma_ for token in doc]\n",
    "print(lemmatizadas)"
   ]
  },
  {
   "cell_type": "code",
   "execution_count": 13,
   "id": "68ab036e",
   "metadata": {},
   "outputs": [
    {
     "data": {
      "text/plain": [
       "[('El', 'DET'),\n",
       " ('dragón', 'NOUN'),\n",
       " ('condujo', 'VERB'),\n",
       " ('su', 'DET'),\n",
       " ('camaro', 'ADJ'),\n",
       " ('rojo', 'ADJ')]"
      ]
     },
     "execution_count": 13,
     "metadata": {},
     "output_type": "execute_result"
    }
   ],
   "source": [
    "texto = \"El dragón condujo su camaro rojo\"\n",
    "doc = nlp(texto)\n",
    "\n",
    "[(token.text, token.pos_) for token in doc]"
   ]
  },
  {
   "cell_type": "code",
   "execution_count": null,
   "id": "82afee2b",
   "metadata": {},
   "outputs": [],
   "source": [
    "!gunzip cc.es.300.bin.gz"
   ]
  },
  {
   "cell_type": "code",
   "execution_count": null,
   "id": "d06d2c15",
   "metadata": {},
   "outputs": [],
   "source": [
    "import fasttext as ft"
   ]
  },
  {
   "cell_type": "code",
   "execution_count": null,
   "id": "8033f1ab",
   "metadata": {},
   "outputs": [],
   "source": [
    "import fasttext\n",
    "import fasttext.util\n",
    "\n",
    "ft = fasttext.load_model('cc.es.300.bin')"
   ]
  },
  {
   "cell_type": "code",
   "execution_count": null,
   "id": "05ac77b4",
   "metadata": {},
   "outputs": [],
   "source": [
    "vector = ft.get_word_vector(\"Camaro\")\n",
    "print(vector[:5])\n",
    "\n",
    "print(ft.get_nearest_neighbors(\"Plátano\"))"
   ]
  },
  {
   "cell_type": "code",
   "execution_count": null,
   "id": "e59c18ce",
   "metadata": {},
   "outputs": [],
   "source": [
    "palabritas = ['perro', 'gato', 'bola', 'avión']\n",
    "for x in palabritas:\n",
    "    vec = ft.get_word_vector(x)\n",
    "    print(vec[:5])"
   ]
  }
 ],
 "metadata": {
  "kernelspec": {
   "display_name": ".venv",
   "language": "python",
   "name": "python3"
  },
  "language_info": {
   "codemirror_mode": {
    "name": "ipython",
    "version": 3
   },
   "file_extension": ".py",
   "mimetype": "text/x-python",
   "name": "python",
   "nbconvert_exporter": "python",
   "pygments_lexer": "ipython3",
   "version": "3.13.3"
  }
 },
 "nbformat": 4,
 "nbformat_minor": 5
}
