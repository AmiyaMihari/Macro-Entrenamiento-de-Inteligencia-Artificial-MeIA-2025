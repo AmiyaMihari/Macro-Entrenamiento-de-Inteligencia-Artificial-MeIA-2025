{
 "cells": [
  {
   "cell_type": "code",
   "execution_count": null,
   "metadata": {
    "collapsed": true,
    "id": "Zt_kDtFOI_Ec"
   },
   "outputs": [],
   "source": [
    "!python -m spacy download es_core_news_sm"
   ]
  },
  {
   "cell_type": "code",
   "execution_count": null,
   "metadata": {
    "id": "X9lAHdjmJZhH"
   },
   "outputs": [],
   "source": [
    "import spacy\n",
    "\n",
    "nlp = spacy.load(\"es_core_news_sm\")"
   ]
  },
  {
   "cell_type": "code",
   "execution_count": null,
   "metadata": {
    "id": "yg_34IBqJwL5"
   },
   "outputs": [],
   "source": [
    "texto = \"Allá en la fuente había un chorrito\"\n",
    "\n",
    "doc = nlp(texto)"
   ]
  },
  {
   "cell_type": "code",
   "execution_count": null,
   "metadata": {
    "id": "dmVMR8SoKHPV"
   },
   "outputs": [],
   "source": [
    "tokens = [token.text for token in doc]\n",
    "print(tokens)"
   ]
  },
  {
   "cell_type": "code",
   "execution_count": null,
   "metadata": {
    "id": "HKad-frsKi0h"
   },
   "outputs": [],
   "source": [
    "palabras = ['azul', 'toro', 'gatito', 'bebió', 'corremos']\n",
    "\n",
    "doc = nlp(\" \".join(palabras))\n",
    "\n",
    "lemmatizadas = [token.lemma_ for token in doc]\n",
    "\n",
    "print(lemmatizadas)"
   ]
  },
  {
   "cell_type": "code",
   "execution_count": null,
   "metadata": {
    "id": "UZMXpJz-M3Zp"
   },
   "outputs": [],
   "source": [
    "texto = \"El dragón condujo su Camaro rojo\"\n",
    "\n",
    "doc = nlp(texto)\n",
    "\n",
    "[(token.text, token.pos_) for token in doc]"
   ]
  },
  {
   "cell_type": "code",
   "execution_count": null,
   "metadata": {
    "id": "Q652IFQWhsKq"
   },
   "outputs": [],
   "source": [
    "texto = \"¡Hola! ¿Cómo estás? Tengo hambre y sueño.\"\n",
    "\n",
    "# Procesar texto con spaCy\n",
    "doc = nlp(texto)\n",
    "\n",
    "# Limpiar: minúsculas, sin puntuación, sin stopwords\n",
    "tokens_limpios = [token.text.lower() for token in doc\n",
    "                   if not token.is_punct and not token.is_stop]\n",
    "\n",
    "print(tokens_limpios)"
   ]
  },
  {
   "cell_type": "code",
   "execution_count": null,
   "metadata": {
    "id": "MjQQusQzh14E"
   },
   "outputs": [],
   "source": [
    "from sklearn.feature_extraction.text import TfidfVectorizer\n",
    "\n",
    "corpus = [\n",
    "    \"El PLN es una rama de la inteligencia artificial.\",\n",
    "    \"Las máquinas pueden aprender a procesar lenguaje humano.\",\n",
    "    \"Los modelos de PLN usan técnicas como tokenización y lematización.\"\n",
    "]\n",
    "\n",
    "vectorizer = TfidfVectorizer()\n",
    "X = vectorizer.fit_transform(corpus)\n",
    "\n",
    "print(vectorizer.get_feature_names_out())\n",
    "print(X.toarray())"
   ]
  },
  {
   "cell_type": "code",
   "execution_count": null,
   "metadata": {
    "id": "_snkiw8ciAwB"
   },
   "outputs": [],
   "source": [
    "doc = nlp(\"La ociosidad es la madre de todos los vicios.\")\n",
    "for token in doc:\n",
    "    print(f\"{token.text}: {token.vector[:5]}...\")  # mostrar solo las primeras 5 dimensiones\n"
   ]
  },
  {
   "cell_type": "code",
   "execution_count": null,
   "metadata": {
    "collapsed": true,
    "id": "iVsCDwnKOJGw"
   },
   "outputs": [],
   "source": [
    "!pip install fasttext\n",
    "\n",
    "!wget https://dl.fbaipublicfiles.com/fasttext/vectors-crawl/cc.es.300.bin.gz"
   ]
  },
  {
   "cell_type": "markdown",
   "metadata": {
    "id": "pGu42bWcOdk_"
   },
   "source": []
  },
  {
   "cell_type": "code",
   "execution_count": null,
   "metadata": {
    "id": "AJeH9fjaPIrO"
   },
   "outputs": [],
   "source": [
    "!gunzip cc.es.300.bin.gz"
   ]
  },
  {
   "cell_type": "code",
   "execution_count": null,
   "metadata": {
    "id": "K1OM0L7tPOR_"
   },
   "outputs": [],
   "source": [
    "import fasttext\n",
    "import fasttext.util\n",
    "\n",
    "ft = fasttext.load_model('cc.es.300.bin')"
   ]
  },
  {
   "cell_type": "code",
   "execution_count": null,
   "metadata": {
    "id": "V8WuJ__XP1SD"
   },
   "outputs": [],
   "source": [
    "vector = ft.get_word_vector(\"Camaro\")\n",
    "print(vector[:5])"
   ]
  },
  {
   "cell_type": "code",
   "execution_count": null,
   "metadata": {
    "id": "CJ84ao9pQILS"
   },
   "outputs": [],
   "source": [
    "ft.get_nearest_neighbors(\"Plátano\")"
   ]
  },
  {
   "cell_type": "code",
   "execution_count": null,
   "metadata": {
    "id": "XsTD0YZvQlGb"
   },
   "outputs": [],
   "source": [
    "palabritas = ['perro', 'gato', 'bola', 'avión']\n",
    "\n",
    "for x in palabritas:\n",
    "  vec = ft.get_word_vector(x)\n",
    "  print(vec[:5])\n"
   ]
  },
  {
   "cell_type": "code",
   "execution_count": null,
   "metadata": {
    "id": "gx2Mkg0_lQz8"
   },
   "outputs": [],
   "source": [
    "import numpy as np\n",
    "from sklearn.metrics.pairwise import cosine_similarity\n",
    "import pandas as pd\n",
    "\n",
    "palabritas = ['perro', 'gato', 'bola', 'avión']\n",
    "matriz_vectores = np.array([ft.get_word_vector(x) for x in palabritas], dtype=np.float32)\n",
    "\n",
    "similitudes = cosine_similarity(matriz_vectores)\n",
    "\n",
    "df = pd.DataFrame(similitudes, index=palabritas, columns=palabritas)\n",
    "print(df)\n"
   ]
  }
 ],
 "metadata": {
  "colab": {
   "authorship_tag": "ABX9TyPkE/NTefMsE3trjcMWHjmO",
   "provenance": []
  },
  "kernelspec": {
   "display_name": ".venv",
   "language": "python",
   "name": "python3"
  },
  "language_info": {
   "name": "python",
   "version": "3.13.3"
  }
 },
 "nbformat": 4,
 "nbformat_minor": 0
}
