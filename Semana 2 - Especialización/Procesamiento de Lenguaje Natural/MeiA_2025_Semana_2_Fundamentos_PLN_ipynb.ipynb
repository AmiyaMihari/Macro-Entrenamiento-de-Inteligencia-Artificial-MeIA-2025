{
  "nbformat": 4,
  "nbformat_minor": 0,
  "metadata": {
    "colab": {
      "provenance": []
    },
    "kernelspec": {
      "name": "python3",
      "display_name": "Python 3"
    },
    "language_info": {
      "name": "python"
    }
  },
  "cells": [
    {
      "cell_type": "markdown",
      "source": [
        "<center> Macroentrenamiento en Inteligencia Artificial (MeIA) 2025 <center>\n",
        "<center> Módulo 2 <center>\n",
        "<center>Especialización en Procesamiento de Lenguaje Natural<center>\n",
        "<center>Fundamentos avanzados de PLN<center>\n",
        "<center> Miguel Ángel Álvarez Carmona <center>\n",
        "\n",
        "\n",
        "Investigador\n",
        "\n",
        "SECIHTI - CIMAT Mty\n",
        "\n",
        "miguel.alvarez@cimat.mx\n",
        "\n",
        "![meia.jpg](data:image/jpeg;base64,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)"
      ],
      "metadata": {
        "id": "HrqXF8VwLuhk"
      }
    },
    {
      "cell_type": "markdown",
      "source": [
        "# 🧠 Evolución del PLN y paradigmas actuales\n",
        "\n",
        "---\n",
        "\n",
        "## 🧭 ¿Qué es el PLN y por qué importa?\n",
        "\n",
        "El **Procesamiento de Lenguaje Natural (PLN)** es el campo de la inteligencia artificial que estudia cómo hacer que las computadoras **entiendan, generen y analicen el lenguaje humano**.\n",
        "\n",
        "Hoy usamos PLN todo el tiempo:\n",
        "\n",
        "* Google Translate traduce en tiempo real\n",
        "* Chatbots resuelven dudas\n",
        "* Alexa y Siri entienden comandos de voz\n",
        "* Gmail predice tus frases\n",
        "* ChatGPT redacta (¡como esto!)\n",
        "\n",
        "Pero, ¿cómo llegamos hasta aquí?\n",
        "\n",
        "---\n",
        "\n",
        "## 🏗️ Tres grandes paradigmas del PLN\n",
        "\n",
        "### 🔹 1. Enfoques simbólicos (1950–1980)\n",
        "\n",
        "También conocidos como **basados en reglas**.\n",
        "Se construían sistemas que representaban **el conocimiento lingüístico de forma explícita**, por ejemplo:\n",
        "\n",
        "* Reglas gramaticales escritas por expertos\n",
        "* Diccionarios léxicos con definiciones\n",
        "* Árboles sintácticos y lógica formal\n",
        "\n",
        "> 📦 Ejemplo: “Si la palabra es un sustantivo y está antes de un verbo, probablemente sea el sujeto.”\n",
        "\n",
        "### 🔻 Limitaciones\n",
        "\n",
        "* Altamente costosos de construir\n",
        "* Poco flexibles ante lenguaje ambiguo o informal\n",
        "* No escalaban bien a múltiples idiomas o dominios\n",
        "\n",
        "---\n",
        "\n",
        "### 🔹 2. Enfoques estadísticos (1980–2010)\n",
        "\n",
        "Con la llegada de más potencia computacional y **grandes corpus digitales**, surgieron modelos que aprenden **a partir de datos reales**.\n",
        "\n",
        "* Se usaban frecuencias, probabilidades y conteos de palabras (n-gramas)\n",
        "* Introducción del aprendizaje supervisado para tareas como POS tagging o NER\n",
        "* Modelos como Naive Bayes, HMM y CRFs marcaron una revolución\n",
        "\n",
        "> 📊 “Si después de ‘comer’ suele venir ‘manzana’, entonces es probable que ‘comer manzana’ sea una frase válida.”\n",
        "\n",
        "### ✅ Ventajas\n",
        "\n",
        "* Adaptables a nuevos dominios\n",
        "* Más robustos ante ruido o lenguaje informal\n",
        "* Requieren menos conocimiento experto\n",
        "\n",
        "---\n",
        "\n",
        "### 🔹 3. Enfoques neuronales (2010–hoy)\n",
        "\n",
        "La nueva era del PLN es impulsada por el **aprendizaje profundo** (deep learning):\n",
        "\n",
        "* Redes neuronales que aprenden representaciones distribuidas del lenguaje\n",
        "* Modelos como Word2Vec, LSTM, GRU, y finalmente **Transformers**\n",
        "* Abren la puerta a comprensión contextual, generación de texto, y multitarea\n",
        "\n",
        "📈 Aquí surgen modelos como:\n",
        "\n",
        "* **BERT** (2018): comprensión profunda del contexto\n",
        "* **GPT** (2018–): generación coherente y creativa de texto\n",
        "* **T5, RoBERTa, XLNet, BLOOM, LLaMA…** y muchos más\n",
        "\n",
        "---\n",
        "\n",
        "## 🔁 El paradigma moderno: Preentrenamiento + Fine-tuning\n",
        "\n",
        "Antes, cada tarea tenía su propio modelo desde cero.\n",
        "\n",
        "Hoy usamos una estrategia más poderosa:\n",
        "\n",
        "### 📦 1. Preentrenamiento\n",
        "\n",
        "* Se entrena un modelo en **enormes cantidades de texto no etiquetado**\n",
        "* Aprende patrones generales del lenguaje (estructura, semántica, relaciones)\n",
        "* Ejemplo: BERT entrenado con Wikipedia y libros\n",
        "\n",
        "### 🔧 2. Fine-tuning\n",
        "\n",
        "* Luego se **ajusta el modelo para una tarea específica** con pocos datos anotados\n",
        "* Ejemplo: ajustar BERT para analizar sentimientos en reseñas de TripAdvisor\n",
        "\n",
        "> 💡 Esta idea ha democratizado el acceso a modelos potentes, incluso para tareas con pocos datos.\n",
        "\n",
        "---\n",
        "\n",
        "## 🧠 ¿Por qué esta evolución es importante?\n",
        "\n",
        "Cada paso ha permitido que el PLN:\n",
        "\n",
        "* Sea más robusto\n",
        "* Sea más útil en tareas reales\n",
        "* Se acerque más a una “comprensión” del lenguaje\n",
        "\n",
        "El resultado: modelos que **no sólo clasifican palabras, sino que entienden contexto, generan texto y dialogan con fluidez**.\n",
        "\n",
        "---\n",
        "\n",
        "## 📚 Lecturas recomendadas\n",
        "\n",
        "* Jurafsky & Martin, *Speech and Language Processing* (Capítulos 1–2)\n",
        "* Goldberg, *Neural Network Methods for Natural Language Processing*\n",
        "* Vaswani et al. (2017), *Attention is All You Need*\n",
        "* Devlin et al. (2018), *BERT: Pre-training of Deep Bidirectional Transformers*\n",
        "\n",
        "---\n",
        "\n",
        "## 🔁 Actividad sugerida\n",
        "\n",
        "📌 Investiga tres ejemplos de PLN en tu vida cotidiana (aplicaciones, servicios web, redes sociales).\n",
        "¿Cómo crees que funcionan internamente? ¿Son simbólicos, estadísticos o neuronales?\n"
      ],
      "metadata": {
        "id": "_c2TYaBeXDEF"
      }
    },
    {
      "cell_type": "markdown",
      "source": [
        "---\n",
        "\n",
        "# 🧱 Representación computacional del lenguaje\n",
        "\n",
        "\n",
        "## 🔤 Tokens, tipos y vocabularios\n",
        "\n",
        "### ✂️ Tokenización y sus unidades lingüísticas\n",
        "\n",
        "En PLN, la **tokenización** divide el texto en unidades mínimas llamadas **tokens**. Estas pueden ser:\n",
        "\n",
        "* **Palabras** (lo más común)\n",
        "* **Subpalabras** (como en BPE)\n",
        "* **Morfemas**\n",
        "* **Caracteres**\n",
        "* **Sílabas** (menos común)\n",
        "\n",
        "### 📘 Definiciones clave\n",
        "\n",
        "| Concepto        | Definición                                     |\n",
        "| --------------- | ---------------------------------------------- |\n",
        "| **Token**       | Ocurrencia individual de una palabra o símbolo |\n",
        "| **Tipo**        | Forma única de un token dentro del corpus      |\n",
        "| **Vocabulario** | Conjunto de todos los tipos en un corpus       |\n",
        "\n",
        "### 🧪 Ejemplo práctico\n"
      ],
      "metadata": {
        "id": "9XfbUCkVdPmz"
      }
    },
    {
      "cell_type": "code",
      "source": [
        "texto = \"El gato come el pescado\"\n",
        "tokens = texto.lower().split()\n",
        "tipos = sorted(set(tokens))\n",
        "\n",
        "print(\"Tokens:\", tokens)\n",
        "print(\"Tipos únicos:\", tipos)\n",
        "print(\"Tamaño del vocabulario:\", len(tipos))\n",
        "\n",
        "\n"
      ],
      "metadata": {
        "colab": {
          "base_uri": "https://localhost:8080/"
        },
        "id": "kEqWvgk3dbNi",
        "outputId": "95d91092-f4a4-4465-8fac-dbd859294311"
      },
      "execution_count": null,
      "outputs": [
        {
          "output_type": "stream",
          "name": "stdout",
          "text": [
            "Tokens: ['el', 'gato', 'come', 'el', 'pescado']\n",
            "Tipos únicos: ['come', 'el', 'gato', 'pescado']\n",
            "Tamaño del vocabulario: 4\n"
          ]
        }
      ]
    },
    {
      "cell_type": "markdown",
      "source": [
        "## 📚 Términos lingüísticos clave\n",
        "\n",
        "### 🟪 Hapax legomena\n",
        "\n",
        "Palabras que aparecen **una sola vez** en el corpus."
      ],
      "metadata": {
        "id": "qE5HdBVWdhXq"
      }
    },
    {
      "cell_type": "code",
      "source": [
        "from collections import Counter\n",
        "\n",
        "corpus = \"el gato duerme y el perro come y el gato juega\".split()\n",
        "conteo = Counter(corpus)\n",
        "hapax = [palabra for palabra, freq in conteo.items() if freq == 1]\n",
        "\n",
        "print(\"Hapax legomena:\", hapax)\n",
        "\n",
        "\n"
      ],
      "metadata": {
        "colab": {
          "base_uri": "https://localhost:8080/"
        },
        "id": "YWZA8Wl6dxOH",
        "outputId": "edb0f165-eefe-4482-cf6f-25c4d9460241"
      },
      "execution_count": null,
      "outputs": [
        {
          "output_type": "stream",
          "name": "stdout",
          "text": [
            "Hapax legomena: ['duerme', 'perro', 'come', 'juega']\n"
          ]
        }
      ]
    },
    {
      "cell_type": "markdown",
      "source": [
        "### 🟨 Dislegomena\n",
        "\n",
        "Palabras que aparecen **exactamente dos veces**."
      ],
      "metadata": {
        "id": "O6IBh9Cjd55B"
      }
    },
    {
      "cell_type": "code",
      "source": [
        "dislegomena = [palabra for palabra, freq in conteo.items() if freq == 2]\n",
        "print(\"Dislegomena:\", dislegomena)"
      ],
      "metadata": {
        "colab": {
          "base_uri": "https://localhost:8080/"
        },
        "id": "sR-bWyZ2d3z4",
        "outputId": "bb0c0273-354a-43b3-cbaa-c163d9579f80"
      },
      "execution_count": null,
      "outputs": [
        {
          "output_type": "stream",
          "name": "stdout",
          "text": [
            "Dislegomena: ['gato', 'y']\n"
          ]
        }
      ]
    },
    {
      "cell_type": "markdown",
      "source": [
        "### 📖 Otros términos útiles\n",
        "\n",
        "| Término                  | Definición breve                                                   | Ejemplo                                                                  |\n",
        "| ------------------------ | ------------------------------------------------------------------ | ------------------------------------------------------------------------ |\n",
        "| **Léxico activo**        | Palabras que una persona o corpus usa habitualmente                | En mensajes cotidianos: “hola”, “gracias”, “comer”, “trabajo”            |\n",
        "| **Léxico pasivo**        | Palabras que se entienden, pero no se usan frecuentemente          | “escollo”, “resiliencia”, “inexorable”                                   |\n",
        "| **Frecuencia acumulada** | Porcentaje del texto cubierto por las palabras más frecuentes      | Las 100 palabras más frecuentes del español cubren \\~50% del texto común |\n",
        "| **Cobertura léxica**     | Proporción del corpus explicada por un subconjunto del vocabulario | 1,000 palabras pueden cubrir el 80% de un corpus de noticias             |\n",
        "| **Tokens funcionales**   | Palabras gramaticales (determinantes, conjunciones, preposiciones) | “el”, “la”, “de”, “que”, “y”, “en”                                       |\n",
        "\n",
        "\n",
        "---\n",
        "\n",
        "\n"
      ],
      "metadata": {
        "id": "IqW3zowQeAtY"
      }
    },
    {
      "cell_type": "markdown",
      "source": [
        "\n",
        "### 🧠 ¿Por qué son importantes?\n",
        "\n",
        "* Indican la **riqueza léxica** de un texto.\n",
        "* Pueden causar problemas en modelos estadísticos (smoothing).\n",
        "* Muchos hapax son **errores tipográficos, nombres propios raros o términos técnicos**.\n",
        "* En modelos neuronales, contribuyen a la **desproporción entre vocabulario y conocimiento útil**.\n",
        "\n",
        "---\n",
        "\n",
        "## 📈 Relación con la Ley de Zipf\n",
        "\n",
        "La alta proporción de hapax y dislegomena confirma lo predicho por la **Ley de Zipf**:\n",
        "\n",
        "> \"En un corpus, unas pocas palabras son extremadamente frecuentes, mientras que la mayoría aparecen muy poco.\"\n",
        "\n",
        "Esto tiene implicaciones directas en:\n",
        "\n",
        "* El tamaño del vocabulario\n",
        "* La necesidad de filtrado o truncado\n",
        "* La creación de tokens especiales como `<UNK>` para palabras raras\n",
        "\n",
        "---\n"
      ],
      "metadata": {
        "id": "cXQIVGF5fhEy"
      }
    },
    {
      "cell_type": "markdown",
      "source": [
        "\n",
        "## 🧮 Representaciones vectoriales clásicas\n",
        "\n",
        "### 🔹 One-Hot Encoding\n",
        "\n",
        "Cada palabra se representa como un vector binario: 1 en su posición, 0 en el resto."
      ],
      "metadata": {
        "id": "roBes5VsfobV"
      }
    },
    {
      "cell_type": "code",
      "source": [
        "import numpy as np\n",
        "\n",
        "vocabulario = ['gato', 'pescado', 'come', 'duerme']\n",
        "word_to_index = {w: i for i, w in enumerate(vocabulario)}\n",
        "\n",
        "def one_hot_vector(palabra):\n",
        "    vec = np.zeros(len(vocabulario))\n",
        "    if palabra in word_to_index:\n",
        "        vec[word_to_index[palabra]] = 1\n",
        "    return vec\n",
        "\n",
        "for palabra in vocabulario:\n",
        "    print(f\"{palabra:10}: {one_hot_vector(palabra)}\")\n",
        "\n",
        "\n"
      ],
      "metadata": {
        "colab": {
          "base_uri": "https://localhost:8080/"
        },
        "id": "oioWwN1ofApe",
        "outputId": "a49fa879-390f-40d0-de3a-dbfae261596e"
      },
      "execution_count": null,
      "outputs": [
        {
          "output_type": "stream",
          "name": "stdout",
          "text": [
            "gato      : [1. 0. 0. 0.]\n",
            "pescado   : [0. 1. 0. 0.]\n",
            "come      : [0. 0. 1. 0.]\n",
            "duerme    : [0. 0. 0. 1.]\n"
          ]
        }
      ]
    },
    {
      "cell_type": "markdown",
      "source": [
        "---\n",
        "\n",
        "### 🧺 Bag of Words (BoW)\n",
        "\n",
        "Representa un documento como un vector de **importancia** de palabras en un documento.\n",
        "\n"
      ],
      "metadata": {
        "id": "mjld62xZfFJo"
      }
    },
    {
      "cell_type": "code",
      "source": [
        "from sklearn.feature_extraction.text import CountVectorizer\n",
        "\n",
        "corpus = [\"a1 el gato y el perro comen pescado\", \"a2 el gato y perro duermen\", \"a3 el perro uno, el perro dos y el perro tres duerme y come\"]\n",
        "vectorizer = CountVectorizer()\n",
        "X = vectorizer.fit_transform(corpus)\n",
        "\n",
        "print(\"Vocabulario:\", vectorizer.get_feature_names_out())\n",
        "print(\"Matriz BoW:\\n\", X.toarray())\n"
      ],
      "metadata": {
        "colab": {
          "base_uri": "https://localhost:8080/"
        },
        "id": "tdzeo8-Qi1qz",
        "outputId": "6f79d763-01a9-42d4-9383-3a39cabdcacb"
      },
      "execution_count": null,
      "outputs": [
        {
          "output_type": "stream",
          "name": "stdout",
          "text": [
            "Vocabulario: ['a1' 'a2' 'a3' 'come' 'comen' 'dos' 'duerme' 'duermen' 'el' 'gato'\n",
            " 'perro' 'pescado' 'tres' 'uno']\n",
            "Matriz BoW:\n",
            " [[1 0 0 0 1 0 0 0 2 1 1 1 0 0]\n",
            " [0 1 0 0 0 0 0 1 1 1 1 0 0 0]\n",
            " [0 0 1 1 0 1 1 0 3 0 3 0 1 1]]\n"
          ]
        }
      ]
    },
    {
      "cell_type": "markdown",
      "source": [
        "---\n",
        "## ⚖️ Modos de pesado de palabras (Weighting Schemes)\n",
        "\n",
        "### 1. Peso binario (presencia/ausencia)\n",
        "\n",
        "\n",
        "Indica si un término $t$ aparece o no en un documento $d$:\n",
        "\n",
        "$$\n",
        "w_{t,d} =\n",
        "\\begin{cases}\n",
        "1 & \\text{si } t \\in d \\\\\n",
        "0 & \\text{si } t \\notin d\n",
        "\\end{cases}\n",
        "$$\n"
      ],
      "metadata": {
        "id": "AygWlXBJi92-"
      }
    },
    {
      "cell_type": "code",
      "source": [
        "vectorizer = CountVectorizer(binary=True)\n",
        "X_bin = vectorizer.fit_transform(corpus)\n",
        "\n",
        "print(\"Matriz Binaria:\\n\", X_bin.toarray())\n",
        "\n"
      ],
      "metadata": {
        "colab": {
          "base_uri": "https://localhost:8080/"
        },
        "id": "YP9yDn84jajU",
        "outputId": "c86de0c5-866a-4fe6-8953-0077bd7320d9"
      },
      "execution_count": null,
      "outputs": [
        {
          "output_type": "stream",
          "name": "stdout",
          "text": [
            "Matriz Binaria:\n",
            " [[0 1 0 0 0 1 1 1 1 0 0]\n",
            " [0 0 0 0 1 1 1 1 0 0 0]\n",
            " [1 0 1 1 0 1 0 1 0 1 1]]\n"
          ]
        }
      ]
    },
    {
      "cell_type": "markdown",
      "source": [
        "### 2. Frecuencia absoluta (TF)\n",
        "\n",
        "Número de veces que el término $t$ aparece en el documento $d$:\n",
        "\n",
        "$$\n",
        "w_{t,d} = tf(t,d)\n",
        "$$\n",
        "\n",
        "Donde:\n",
        "\n",
        "* $tf(t,d)$ es el **conteo absoluto** de $t$ en $d$\n",
        "\n",
        "\n",
        "\n"
      ],
      "metadata": {
        "id": "vOOUWbJQjhNe"
      }
    },
    {
      "cell_type": "code",
      "source": [
        "vectorizer = CountVectorizer()\n",
        "X_freq = vectorizer.fit_transform(corpus)\n",
        "\n",
        "print(\"Matriz TF (frecuencia):\\n\", X_freq.toarray())\n",
        "\n"
      ],
      "metadata": {
        "colab": {
          "base_uri": "https://localhost:8080/"
        },
        "id": "xnR61LJPje7p",
        "outputId": "3d0f699a-0905-44a7-ae95-213510cbfe0d"
      },
      "execution_count": null,
      "outputs": [
        {
          "output_type": "stream",
          "name": "stdout",
          "text": [
            "Matriz TF (frecuencia):\n",
            " [[0 1 0 0 0 2 1 1 1 0 0]\n",
            " [0 0 0 0 1 1 1 1 0 0 0]\n",
            " [1 0 1 1 0 3 0 3 0 1 1]]\n"
          ]
        }
      ]
    },
    {
      "cell_type": "markdown",
      "source": [
        "---\n",
        "\n",
        "### 3. Frecuencia relativa (TF normalizado)\n",
        "\n",
        "Proporción del número de veces que aparece una palabra respecto al total de palabras en el documento:\n",
        "\n",
        "$$\n",
        "w_{t,d} = \\frac{tf(t,d)}{\\sum_{t' \\in d} tf(t',d)}\n",
        "$$\n",
        "\n",
        "> Esto asegura que los documentos largos no tengan mayor peso solo por contener más palabras.\n",
        "\n"
      ],
      "metadata": {
        "id": "flYPkakrjz3V"
      }
    },
    {
      "cell_type": "code",
      "source": [
        "from sklearn.preprocessing import normalize\n",
        "\n",
        "X_tf = normalize(X_freq, norm='l1', axis=1)\n",
        "print(\"Matriz TF Normalizado:\\n\", np.round(X_tf.toarray(), 2))\n",
        "\n"
      ],
      "metadata": {
        "colab": {
          "base_uri": "https://localhost:8080/"
        },
        "id": "xHEdi04-jyEQ",
        "outputId": "f8d9d303-7cc2-4007-ba61-bfd9c05a0836"
      },
      "execution_count": null,
      "outputs": [
        {
          "output_type": "stream",
          "name": "stdout",
          "text": [
            "Matriz TF Normalizado:\n",
            " [[0.   0.17 0.   0.   0.   0.33 0.17 0.17 0.17 0.   0.  ]\n",
            " [0.   0.   0.   0.   0.25 0.25 0.25 0.25 0.   0.   0.  ]\n",
            " [0.09 0.   0.09 0.09 0.   0.27 0.   0.27 0.   0.09 0.09]]\n"
          ]
        }
      ]
    },
    {
      "cell_type": "markdown",
      "source": [
        "---\n",
        "\n",
        "### 4. TF-IDF (Term Frequency – Inverse Document Frequency)\n",
        "\n",
        "Combina la frecuencia de un término con su rareza global en la colección de documentos:\n",
        "\n",
        "$$\n",
        "w_{t,d} = tf(t,d) \\cdot \\log\\left( \\frac{N}{df(t)} \\right)\n",
        "$$\n",
        "\n",
        "Donde:\n",
        "\n",
        "* $tf(t,d)$: frecuencia del término $t$ en el documento $d$\n",
        "* $df(t)$: número de documentos que contienen el término $t$\n",
        "* $N$: número total de documentos del corpus"
      ],
      "metadata": {
        "id": "Ne6a6IAAj_tE"
      }
    },
    {
      "cell_type": "code",
      "source": [
        "from sklearn.feature_extraction.text import TfidfVectorizer\n",
        "\n",
        "tfidf = TfidfVectorizer()\n",
        "X_tfidf = tfidf.fit_transform(corpus)\n",
        "\n",
        "print(\"Matriz TF-IDF:\\n\", np.round(X_tfidf.toarray(), 2))\n",
        "\n"
      ],
      "metadata": {
        "colab": {
          "base_uri": "https://localhost:8080/"
        },
        "id": "R_S1d0i-j3wu",
        "outputId": "67ed38a2-5b2b-414b-cd15-1177ed0b5f2a"
      },
      "execution_count": null,
      "outputs": [
        {
          "output_type": "stream",
          "name": "stdout",
          "text": [
            "Matriz TF-IDF:\n",
            " [[0.43 0.   0.   0.   0.43 0.   0.   0.   0.51 0.33 0.26 0.43 0.   0.  ]\n",
            " [0.   0.55 0.   0.   0.   0.   0.   0.55 0.33 0.42 0.33 0.   0.   0.  ]\n",
            " [0.   0.   0.29 0.29 0.   0.29 0.29 0.   0.51 0.   0.51 0.   0.29 0.29]]\n"
          ]
        }
      ]
    },
    {
      "cell_type": "markdown",
      "source": [
        "---\n",
        "\n",
        "### 5. Log-normal TF (logarítmico)\n",
        "\n",
        "Reduce el impacto de palabras muy frecuentes aplicando un logaritmo:\n",
        "\n",
        "$$\n",
        "w_{t,d} =\n",
        "\\begin{cases}\n",
        "1 + \\log(tf(t,d)) & \\text{si } tf(t,d) > 0 \\\\\\\\\n",
        "0 & \\text{si } tf(t,d) = 0\n",
        "\\end{cases}\n",
        "$$\n",
        "\n",
        "> Muy útil cuando se quiere evitar que palabras frecuentes como “importante” o “excelente” dominen los modelos.\n"
      ],
      "metadata": {
        "id": "nplwaiBakEDS"
      }
    },
    {
      "cell_type": "code",
      "source": [
        "from sklearn.preprocessing import FunctionTransformer\n",
        "from sklearn.pipeline import make_pipeline\n",
        "import numpy as np\n",
        "\n",
        "def log_tf(X): return np.log1p(X)\n",
        "\n",
        "pipeline = make_pipeline(CountVectorizer(), FunctionTransformer(log_tf))\n",
        "X_log = pipeline.fit_transform(corpus)\n",
        "\n",
        "print(\"Matriz Log-TF:\\n\", np.round(X_log.toarray(), 2))\n",
        "\n",
        "\n"
      ],
      "metadata": {
        "colab": {
          "base_uri": "https://localhost:8080/"
        },
        "id": "K-vfCWs3kSRy",
        "outputId": "f4b80bff-6d71-4b05-cc84-66837f3292ff"
      },
      "execution_count": null,
      "outputs": [
        {
          "output_type": "stream",
          "name": "stdout",
          "text": [
            "Matriz Log-TF:\n",
            " [[0.69 0.   0.   0.   0.69 0.   0.   0.   1.1  0.69 0.69 0.69 0.   0.  ]\n",
            " [0.   0.69 0.   0.   0.   0.   0.   0.69 0.69 0.69 0.69 0.   0.   0.  ]\n",
            " [0.   0.   0.69 0.69 0.   0.69 0.69 0.   1.39 0.   1.39 0.   0.69 0.69]]\n"
          ]
        }
      ]
    },
    {
      "cell_type": "markdown",
      "source": [
        "---\n",
        "\n",
        "### 📊 Comparación de esquemas\n",
        "\n",
        "| Esquema        | Captura presencia | Penaliza comunes | Normaliza longitud | Codifica semántica |\n",
        "| -------------- | ----------------- | ---------------- | ------------------ | ------------------ |\n",
        "| Binario        | ✅                 | ❌                | ✅                  | ❌                  |\n",
        "| TF             | ✅                 | ❌                | ❌                  | ❌                  |\n",
        "| TF normalizado | ✅                 | ❌                | ✅                  | ❌                  |\n",
        "| TF-IDF         | ✅                 | ✅                | ✅                  | ✅ (parcial)        |\n",
        "| Log-TF         | ✅                 | Parcial          | ✅                  | ❌                  |\n",
        "\n",
        "---\n",
        "\n",
        "## 📈 Estadística de vocabulario: cobertura léxica (Con Don Quijote)\n",
        "\n"
      ],
      "metadata": {
        "id": "ThQzPme1kWRX"
      }
    },
    {
      "cell_type": "code",
      "source": [
        "# Descargar Don Quijote del Proyecto Gutenberg\n",
        "import requests\n",
        "import re\n",
        "from collections import Counter\n",
        "import matplotlib.pyplot as plt\n",
        "import numpy as np\n",
        "\n",
        "\n",
        "url = \"https://www.gutenberg.org/cache/epub/2000/pg2000-images.html\"\n",
        "response = requests.get(url)\n",
        "\n",
        "text = response.text\n",
        "\n",
        "# Limpiar el texto (quitar encabezados/footers de Gutenberg)\n",
        "start_marker = \"Primera parte del ingenioso hidalgo don Quijote de la Mancha\"\n",
        "end_marker = \"*** END OF THE PROJECT GUTENBERG EBOOK DON QUIJOTE ***\"\n",
        "start = text.find(start_marker)\n",
        "end = text.find(end_marker)\n",
        "\n",
        "corpus = re.findall(r'\\b\\w{2,}\\b', text[start:end])\n",
        "\n",
        "\n",
        "conteo = Counter(corpus)\n",
        "total_tokens = sum(conteo.values())\n",
        "frecuencia_relativa = {k: v/total_tokens for k, v in conteo.items()}\n",
        "frecuencia_ordenada = sorted(frecuencia_relativa.items(), key=lambda x: -x[1])\n",
        "\n",
        "porcentaje = 85\n",
        "cobertura = 0\n",
        "palabras_usadas = []\n",
        "for palabra, freq in frecuencia_ordenada:\n",
        "    cobertura += freq\n",
        "    palabras_usadas.append(palabra)\n",
        "    if cobertura > porcentaje/100:\n",
        "        break\n",
        "\n",
        "print(f\"Palabras necesarias para cubrir el {porcentaje}% del corpus: {len(palabras_usadas)} (de {len(corpus)})\")\n",
        "print(\"Palabras más frecuentes:\", palabras_usadas)\n",
        "\n",
        "\n"
      ],
      "metadata": {
        "colab": {
          "base_uri": "https://localhost:8080/"
        },
        "id": "B2sIpfzLnKUJ",
        "outputId": "69510d89-3ca0-40a5-b2e6-c00dc3ea72cf"
      },
      "execution_count": null,
      "outputs": [
        {
          "output_type": "stream",
          "name": "stdout",
          "text": [
            "Palabras necesarias para cubrir el 85% del corpus: 2383 (de 349195)\n",
            "Palabras más frecuentes: ['que', 'de', 'la', 'el', 'en', 'no', 'se', 'los', 'con', 'por', 'las', 'le', 'lo', 'su', 'don', 'del', 'me', 'como', 'Quijote', 'Sancho', 'es', 'más', 'un', 'yo', 'dijo', 'si', 'mi', 'al', 'para', 'porque', 'ni', 'una', 'él', 'tan', 'sin', 'todo', 'ser', 'respondió', 'ha', 'sus', 'había', 'bien', 'señor', 'así', 'merced', 'br', 'esto', 'vuestra', 'todos', 'pero', 'era', 'te', 'cuando', 'ya', 'cual', 'qué', 'sino', 'dos', 'pues', 'fue', 'donde', 'este', 'quien', 'esta', 'decir', 'ella', 'caballero', 'No', 'muy', 'hacer', 'he', 'aunque', 'Dios', 'otra', 'señora', 'otro', 'mí', 'aquel', 'son', 'estaba', 'aquí', 'hay', 'sobre', 'nos', 'mal', 'cosa', 'os', 'buen', 'está', 'tal', 'tanto', 'verdad', 'allí', 'ver', 'tengo', 'mundo', 'mis', 'alguna', 'sé', 'hasta', 'tiene', 'poco', 'dar', 'entre', 'dicho', 'parte', 'buena', 'vida', 'todas', 'luego', 'han', 'les', 'cosas', 'lugar', 'tenía', 'uno', 'menos', 'casa', 'aquella', 'manera', 'En', 'Panza', 'tiempo', 'soy', 'gran', 'cura', 'tu', 'toda', 'ahora', 'mano', 'puesto', 'amo', 'caballeros', 'ellos', 'mucho', 'dio', 'fuera', 'puede', 'mejor', 'antes', 'ojos', 'sí', 'algún', 'visto', 'Dulcinea', 'día', 'tierra', 'otras', 'h3', 'sea', 'padre', 'hombre', 'hecho', 'Pero', 'otros', 'haber', 'eso', 'quiero', 'aun', 'habían', 'digo', 'cielo', 'camino', 'saber', 'vio', 'amigo', 'tener', 'parece', 'escudero', 'manos', 'días', 'historia', 'El', 'tú', 'muchas', 'estas', 'hizo', 'fin', 'cómo', 'tres', 'mujer', 'Pues', 'desta', 'será', 'mesmo', 'Yo', 'cuanto', 'cabeza', 'dice', 'quién', 'noche', 'punto', 'cada', 'replicó', 'veces', 'cuenta', 'Rocinante', 'parecer', 'razones', 'también', 'diciendo', 'duque', 'fuese', 'caballo', 'andante', 'muchos', 'vuesa', 'gusto', 'pie', 'podía', 'estos', 'debe', 'grande', 'eran', 'vez', 'duquesa', 'nuestro', 'después', 'mío', 'primero', 'De', 'mil', 'decía', 'vos', 'voz', 'mucha', 'duda', 'nombre', 'mismo', 'sólo', 'estaban', 'gobernador', 'adelante', 'modo', 'barbero', 'andantes', 'estar', 'dado', 'nada', 'sido', 'desde', 'hija', 'según', 'Si', 'Toboso', 'Así', 'voluntad', 'Mancha', 'deseo', 'gente', 'Por', 'armas', 'aquellos', 'ventura', 'rostro', 'hace', 'alma', 'entender', 'quiso', 'vuestro', 'cuatro', 'tales', 'razón', 'tanta', 'llegó', 'mas', 'iba', 'Camila', 'Con', 'menester', 'palabra', 'doncella', 'Qué', 'va', 'fueron', 'has', 'cuales', 'siempre', 'señores', 'deste', 'caballería', 'puso', 'tienen', 'Lotario', 'mía', 'suelo', 'quiere', 'La', 'corazón', 'venta', 'cuerpo', 'castillo', 'suerte', 'ir', 'alguno', 'dicen', 'hermosa', 'Anselmo', 'libros', 'jamás', 'nadie', 'nunca', 'venía', 'vino', 'ninguna', 'muerte', 'agora', 'Fernando', 'id', 'pies', 'nuestra', 'entonces', 'persona', 'voces', 'comenzó', 'unos', 'mayor', 'años', 'caso', 'dél', 'aventura', 'salir', 'mala', 'fuerza', 'tus', 'Capítulo', 'algo', 'poner', 'memoria', 'mitad', 'preguntó', 'oído', 'rey', 'grandes', 'ellas', 'delante', 'palabras', 'hermosura', 'causa', 'posible', 'cierto', 'contra', 'tuvo', 'rucio', 'quedó', 'ventero', 'sabe', 'demás', 'contento', 'viendo', 'ínsula', 'hacía', 'algunos', 'pasar', 'Señor', 'fama', 'venir', 'verse', 'están', 'sería', 'haya', 'gobierno', 'nuevo', 'dejar', 'Dorotea', 'ello', 'loco', 'debía', 'ese', 'casi', 'tantas', 'volvió', 'bachiller', 'espada', 'hora', 'nosotros', 'volver', 'muerto', 'da', 'boca', 'habéis', 'daba', 'tomar', 'intención', 'pena', 'pueblo', 'buscar', 'ocasión', 'Oh', 'junto', 'aquello', 'amor', 'Pedro', 'partes', 'della', 'Cardenio', 'pensamientos', 'pareció', 'llevar', 'siendo', 'poder', 'buenos', 'lengua', 'hombres', 'pudo', 'estado', 'comer', 'ciudad', 'Luscinda', 'medio', 'unas', 'estoy', 'paso', 'lágrimas', 'hermano', 'solo', 'tantos', 'dellos', 'adonde', 'hablar', 'Don', 'pienso', 'puedo', 'aquellas', 'quería', 'creo', 'libro', 'bueno', 'parecía', 'Todo', 'hijo', 'oro', 'orden', 'viene', 'vista', 'aposento', 'pobre', 'ninguno', 'aventuras', 'hubo', 'buenas', 'brazos', 'suyo', 'primera', 'éste', 'podría', 'esa', 'cabo', 'entrar', 'sabía', 'dando', 'conmigo', 'cuento', 'pudiera', 'pensar', 'carta', 'famoso', 'Caballero', 'Mas', 'fe', 'Teresa', 'mozo', 'Bien', 'traía', 'suele', 'mañana', 'puerta', 'algunas', 'pecho', 'mesma', 'asno', 'gana', 'Eso', 'habiendo', 'diablo', 'Ya', 'dieron', 'valor', 'pueden', 'nuevas', 'cuantos', 'juicio', 'autor', 'trabajo', 'sazón', 'ti', 'dejó', 'batalla', 'salió', 'dé', 'campo', 'natural', 'apenas', 'cuya', 'vuestras', 'oh', 'llaman', 'entendimiento', 'libertad', 'pensamiento', 'peligro', 'ésta', 'marido', 'Zoraida', 'cerca', 'locura', 'quisiera', 'aún', 'misma', 'desgracia', 'tras', 'Que', 'caballerías', 'honra', 'mercedes', 'class', 'agua', 'pueda', 'tenga', 'rico', 'sean', 'falta', 'hubiera', 'Finalmente', 'Sansón', 'brazo', 'sol', 'semejantes', 'España', 'presto', 'doña', 'eres', 'debajo', 'madre', 'criado', 'priesa', 'pasó', 'seis', 'remedio', 'jumento', 'Digo', 'quizá', 'podrá', 'nuestros', 'silencio', 'ama', 'hacen', 'reino', 'haga', 'deseos', 'allá', 'dueña', 'condición', 'cuán', 'espacio', 'licencia', 'hoy', 'valeroso', 'llegar', 'doncellas', 'labrador', 'cristiano', 'padres', 'leído', 'fuere', 'haré', 'venían', 'discreto', 'quisiere', 'vestido', 'cristianos', 'halló', 'hicieron', 'estando', 'suya', 'pensaba', 'Lo', 'pasado', 'suceso', 'mayores', 'tenían', 'hazañas', 'creer', 'Los', 'espaldas', 'Sí', 'leer', 'tomó', 'figura', 'muestras', 'oír', 'virtud', 'ánimo', 'hago', 'sangre', 'Antonio', 'esperar', 'barbas', 'andar', 'silla', 'gracias', 'lanza', 'llamaba', 'querer', 'pan', 'tenido', 'escuderos', 'criados', 'edad', 'grandeza', 'discurso', 'luz', 'señal', 'noticia', 'entró', 'culpa', 'amigos', 'hemos', 'dormir', 'daño', 'enemigo', 'encantadores', 'fortuna', 'Altisidora', 'maese', 'queda', 'consigo', 'hijos', 'azotes', 'sucesos', 'obra', 'compañía', 'querría', 'hidalgo', 'tuviese', 'haciendo', 'temor', 'diese', 'dije', 'dolor', 'renegado', 'Carrasco', 'resolución', 'ningún', 'hambre', 'hubiese', 'Porque', 'dónde', 'sola', 'provecho', 'cuyo', 'sobrina', 'finalmente', 'diga', 'vieron', 'mirar', 'obras', 'diez', 'oídos', 'principal', 'mar', 'paz', 'media', 'enamorado', 'principio', 'hallado', 'estuvo', 'presente', 'dineros', 'valiente', 'par', 'dijese', 'vea', 'llama', 'veo', 'triste', 'esposo', 'pasaba', 'encantado', 'ante', 'necesidad', 'hallar', 'quitar', 'lado', 'libre', 'licenciado', 'caer', 'mandó', 'princesa', 'aldea', 'reales', 'Ahora', 'encima', 'sois', 'poeta', 'tienes', 'verde', 'Es', 'lleno', 'llamar', 'darle', 'Quién', 'mirando', 'lejos', 'acaso', 'esperando', 'sucedió', 'aire', 'alta', 'discreción', 'llegaron', 'pastor', 'destos', 'suelen', 'quedaron', 'plática', 'dueñas', 'ejercicio', 'hacienda', 'veinte', 'nueva', 'ansí', 'dejando', 'miedo', 'cuidado', 'servir', 'oficio', 'doy', 'reina', 'letras', 'vencido', 'vi', 'carro', 'acabar', 'gigante', 'dentro', 'verdadera', 'prosiguió', 'contar', 'mujeres', 'risa', 'acabó', 'diciéndole', 'asimismo', 'quieres', 'responder', 'versos', 'acuerdo', 'fuego', 'Aquí', 'habrá', 'daré', 'destas', 'servido', 'presencia', 'mira', 'sucedido', 'esposa', 'negocio', 'burla', 'Montesinos', 'Basilio', 'escrito', 'ahí', 'iban', 'venga', 'historias', 'poca', 'Roque', 'verdadero', 'moros', 'sacar', 'presentes', 'claro', 'supo', 'puesta', 'señoras', 'huésped', 'Donde', 'dejado', 'ruido', 'decís', 'pesar', 'bondad', 'deben', 'voy', 'enemigos', 'fuerzas', 'dan', 'efecto', 'disparates', 'conocido', 'paje', 'salud', 'nuestras', 'respuesta', 'moro', 'trae', 'término', 'van', 'dices', 'vestidos', 'personas', 'Triste', 'Figura', 'perder', 'género', 'propósito', 'llegando', 'toca', 'cinco', 'consejo', 'hacia', 'acá', 'cólera', 'aquél', 'vuelto', 'pesadumbre', 'pusieron', 'año', 'imaginación', 'efeto', 'cabellos', 'andaba', 'entiendo', 'cortesía', 'cargo', 'venido', 'dueño', 'justicia', 'fueran', 'Cuando', 'sueño', 'darme', 'cabrero', 'muestra', 'primo', 'especialmente', 'diré', 'cueva', 'viento', 'pudiese', 'instante', 'mesa', 'oyó', 'conocer', 'horas', 'sabes', 'esté', 'tarde', 'esas', 'esperanza', 'quieren', 'estremo', 'escudos', 'albarda', 'amores', 'fuesen', 'sabio', 'Las', 'pocos', 'arriba', 'todavía', 'sepa', 'guerra', 'árboles', 'blanco', 'emperador', 'honestidad', 'belleza', 'Cómo', 'opinión', 'ingenio', 'general', 'Leonela', 'cuál', 'Amadís', 'sacó', 'hechos', 'cautivo', 'peor', 'tuvieron', 'favor', 'quedar', 'llegado', 'gloria', 'subir', 'Diego', 'contado', 'llevaba', 'fuerte', 'vivo', 'linaje', 'tiempos', 'verdaderamente', 'llamado', 'buscando', 'contó', 'largo', 'mejores', 'imposible', 'venganza', 'mono', 'Rodríguez', 'llevó', 'agravio', 'real', 'alto', 'armado', 'mías', 'oyeron', 'pedir', 'primer', 'abajo', 'anda', 'vuestros', 'pidió', 'viaje', 'traje', 'lleva', 'Bosque', 'verá', 'escribir', 'jardín', 'señas', 'siglos', 'pasaron', 'cama', 'pastores', 'hiciese', 'veras', 'costumbre', 'esos', 'desdichado', 'alcanzar', 'amistad', 'admiración', 'seguro', 'oidor', 'duques', 'Quiteria', 'señales', 'tornó', 'dama', 'malos', 'rodillas', 'podían', 'alzó', 'dientes', 'pide', 'vaya', 'segunda', 'vienen', 'leguas', 'contrario', 'leyes', 'conciencia', 'míos', 'basta', 'perlas', 'caminos', 'hallaron', 'donaire', 'viejo', 'parar', 'salido', 'Luis', 'diligencia', 'Cide', 'Santa', 'yelmo', 'alegre', 'papel', 'dinero', 'corte', 'canónigo', 'trata', 'hacían', 'viese', 'mostraba', 'Luego', 'gentil', 'paciencia', 'hará', 'levantó', 'juntos', 'caído', 'molido', 'Esto', 'Éste', 'conozco', 'capitán', 'correr', 'justo', 'vamos', 'grado', 'Hamete', 'discreta', 'uso', 'mentira', 'entrambos', 'Llegó', 'sala', 'mayordomo', 'deja', 'experiencia', 'labradora', 'grandísimo', 'tuviera', 'baja', 'obligado', 'pasos', 'morir', 'palos', 'echar', 'galeras', 'volvieron', 'gentes', 'vivir', 'viniese', 'reyes', 'Mira', 'Vuestra', 'celada', 'pedazos', 'título', 'creyendo', 'encantador', 'éstos', 'profesión', 'haría', 'pasados', 'Al', 'quedaba', 'cumplir', 'guardar', 'hecha', 'doce', 'presteza', 'imagino', 'Esta', 'entrañas', 'querido', 'tenemos', 'decían', 'locuras', 'cristiana', 'Ricote', 'industria', 'llevado', 'facilidad', 'moza', 'lecho', 'Viendo', 'cualquiera', 'dellas', 'También', 'desto', 'pagar', 'parecen', 'cien', 'punta', 'asimesmo', 'coche', 'engaño', 'sale', 'soldado', 'ausencia', 'barba', 'trabajos', 'Camacho', 'hacerse', 'ocho', 'dicha', 'blanca', 'segundo', 'cuello', 'costa', 'estamos', 'oyendo', 'número', 'dejaba', 'vale', 'sepultura', 'di', 'hice', 'encantamento', 'decirse', 'barca', 'serlo', 'refranes', 'jaula', 'merece', 'revés', 'deseaba', 'hablando', 'riendas', 'damas', 'principales', 'recebir', 'esperaba', 'llevaban', 'alforjas', 'ancas', 'burlas', 'andado', 'ayuda', 'Juan', 'estás', 'pláticas', 'Este', 'Su', 'ponerse', 'temeroso', 'seguir', 'carne', 'naturaleza', 'cualquier', 'fui', 'recibió', 'mancebo', 'valentía', 'caminar', 'Para', 'verle', 'golpe', 'diera', 'dejaron', 'respeto', 'pone', 'San', 'juro', 'puedes', 'quedo', 'dejase', 'suspiros', 'Francia', 'siquiera', 'ventana', 'volviéndose', 'ganado', 'daban', 'condesa', 'quisiese', 'somos', 'vuelta', 'solos', 'podré', 'derecho', 'sombra', 'echó', 'adónde', 'Maritornes', 'bacía', 'deje', 'Dolorida', 'llegaba', 'letra', 'gigantes', 'quitó', 'Lorenzo', 'haberle', 'sosiego', 'solas', 'rogó', 'momento', 'gracia', 'queréis', 'prometido', 'mandado', 'príncipes', 'conoció', 'salieron', 'hallo', 'acometer', 'sobresalto', 'volviese', 'descubierto', 'debió', 'forzoso', 'éstas', 'verdaderas', 'hábito', 'crédito', 'soldados', 'ventera', 'guarda', 'diferentes', 'doctor', 'llorar', 'puertas', 'enojo', 'parecido', 'determinación', 'decirle', 'mesmos', 'volviendo', 'villano', 'Él', 'mulas', 'levantar', 'tomado', 'encantada', 'acudir', 'determinado', 'verás', 'mula', 'casas', 'términos', 'Grisóstomo', 'particular', 'hacerle', 'entraron', 'hombros', 'tuve', 'plaza', 'salida', 'famosos', 'negro', 'calidad', 'nacido', 'vosotros', 'muchacho', 'Ella', 'nuevos', 'debo', 'ánima', 'acabado', 'pareciéndole', 'derecha', 'sano', 'compadre', 'artificio', 'promesas', 'ínsulas', 'malas', 'pequeño', 'vizcaíno', 'solamente', 'narices', 'quiera', 'hablado', 'usar', 'quisieres', 'secreto', 'mostró', 'rostros', 'cuyas', 'partida', 'hallé', 'Mirad', 'retablo', 'Trifaldi', 'carnes', 'cartas', 'hallaba', 'hiciera', 'servicio', 'imaginar', 'estuviese', 'nombres', 'empresa', 'escudo', 'ponga', 'andaban', 'determinó', 'confuso', 'último', 'traído', 'comenzaron', 'respondía', 'siete', 'despecho', 'aliento', 'tío', 'pasada', 'treinta', 'estómago', 'color', 'suspenso', 'pendencia', 'Oyendo', 'aguas', 'esperanzas', 'Marcela', 'lugares', 'cruel', 'infierno', 'acerca', 'tratar', 'conviene', 'dirá', 'malo', 'barco', 'infanta', 'cuerdo', 'Tosilos', 'altos', 'Gaula', 'ley', 'altas', 'busca', 'ladrón', 'estraña', 'pedía', 'pequeña', 'semejante', 'asió', 'atrevido', 'tampoco', 'viéndose', 'pensativo', 'poetas', 'llevan', 'admirados', 'hacerme', 'gobernar', 'piernas', 'matar', 'agradable', 'puestos', 'pensó', 'firme', 'valientes', 'malicia', 'estudiante', 'ricos', 'cuentan', 'ofreció', 'diablos', 'traza', 'mover', 'traer', 'fácil', 'capítulo', 'médico', 'Espejos', 'Merlín', 'sentido', 'cierta', 'estraño', 'necesario', 'irse', 'árbol', 'dulce', 'mes', 'tendido', 'castellano', 'quitado', 'den', 'caña', 'cuantas', 'recebido', 'bosque', 'desnudo', 'díjole', 'vuelva', 'jurar', 'suplico', 'piedra', 'furia', 'puro', 'caída', 'Ni', 'tercera', 'quedan', 'Ay', 'gracioso', 'tendré', 'reinos', 'duro', 'pobres', 'legua', 'hermoso', 'desventura', 'Tú', 'honesta', 'calle', 'entrado', 'vuelve', 'limpio', 'pecado', 'Majestad', 'comodidad', 'verme', 'bajel', 'turcos', 'lacayo', 'maestresala', 'caza', 'simple', 'satisfecho', 'subió', 'Apenas', 'apriesa', 'trecho', 'ponía', 'ligereza', 'pocas', 'acudió', 'compañeros', 'llegándose', 'breves', 'vecino', 'juramento', 'manda', 'espero', 'aquélla', 'admirado', 'larga', 'echado', 'aparte', 'mostrar', 'honrada', 'gobernadores', 'milagro', 'alabanzas', 'aviso', 'traigo', 'dígame', 'sentado', 'Iglesia', 'tomando', 'traían', 'amiga', 'Tan', 'caballos', 'rigor', 'ordenó', 'alcanza', 'infinitos', 'desgracias', 'estancia', 'paño', 'encantados', 'pechos', 'digna', 'entrada', 'tonto', 'mentecato', 'Gregorio', 'parecían', 'cielos', 'veía', 'golpes', 'convenía', 'patria', 'talante', 'corral', 'conforme', 'blancas', 'teniendo', 'volvía', 'fecho', 'además', 'romance', 'acertado', 'propio', 'importancia', 'viéndole', 'abrió', 'honrado', 'intento', 'arremetió', 'carga', 'preguntar', 'arte', 'celos', 'cantidad', 'entendió', 'atención', 'usan', 'piensa', 'sitio', 'discretos', 'perdido', 'habido', 'penitencia', 'ponerme', 'llega', 'ido', 'señoría', 'vergüenza', 'saliese', 'toma', 'liberal', 'dijeron', 'impertinente', 'pobreza', 'cuadrilleros', 'visorrey', 'desencanto', 'importa', 'Roldán', 'añadió', 'famosa', 'ordinario', 'lenguas', 'venida', 'tocar', 'bastante', 'pusiese', 'talle', 'serán', 'Estando', 'diversas', 'vela', 'viva', 'desenvoltura', 'consejos', 'quince', 'meses', 'sacado', 'ayer', 'pecador', 'Hízolo', 'alegría', 'invención', 'salvo', 'refrán', 'conde', 'vencimiento', 'sintió', 'papeles', 'pasa', 'ejemplo', 'vinieron', 'yerbas', 'conocimiento', 'juntamente', 'mostrado', 'quise', 'faltar', 'cabras', 'haberse', 'riquezas', 'corona', 'ejecución', 'vee', 'dura', 'muerta', 'ponerle', 'prado', 'desdichada', 'tenéis', 'harto', 'pude', 'dejé', 'llevo', 'miró', 'suyos', 'vestida', 'diferencia', 'traidor', 'puestas', 'llamó', 'humilde', 'llegue', 'temiendo', 'vendrá', 'peso', 'clara', 'llena', 'atrevimiento', 'descuido', 'vive', 'perjuicio', 'trigo', 'pagado', 'prosigue', 'sentimiento', 'nací', 'misericordia', 'Todos', 'escritos', 'debían', 'dará', 'dándole', 'pelo', 'temerosa', 'halla', 'ofrecimientos', 'monte', 'calles', 'Hermandad', 'prueba', 'soledad', 'suspensos', 'escuchando', 'menor', 'rica', 'justas', 'dijera', 'labios', 'grave', 'jaez', 'vas', 'yendo', 'galeotes', 'bellaco', 'cola', 'daga', 'Clara', 'figuras', 'Zaragoza', 'Sanchica', 'suyas', 'batallas', 'máquina', 'hierro', 'faltaba', 'entiende', 'sujeto', 'caballeriza', 'música', 'patio', 'mandar', 'luna', 'arriero', 'arrojó', 'brevedad', 'descubrió', 'mozos', 'verla', 'costillas', 'cubierto', 'diesen', 'estilo', 'cayó', 'vimos', 'suceder', 'felice', 'canto', 'mire', 'sabían', 'viniere', 'defensa', 'flor', 'quedado', 'pintado', 'montaña', 'atento', 'dime', 'ruego', 'andan', 'dedo', 'encierra', 'Gran', 'segura', 'bronce', 'pastora', 'ciencia', 'movido', 'miraba', 'enamorados', 'recato', 'Sólo', 'miraban', 'lástima', 'escribió', 'confusión', 'Sucedió', 'acabe', 'contigo', 'guía', 'poderoso', 'comido', 'ropa', 'tome', 'río', 'hayan', 'lienzo', 'pregunta', 'Mi', 'trecientos', 'ignorante', 'estuviera', 'maravillas', 'daría', 'leones', 'comedia', 'mora', 'Argel', 'Blanca', 'adarga', 'estrellas', 'peligros', 'llenas', 'fortaleza', 'compañero', 'Sevilla', 'entendido', 'Dijo', 'hechas', 'Como', 'liberalidad', 'humor', 'ceremonias', 'campos', 'trance', 'tocaba', 'defender', 'miserable', 'Andrés', 'paga', 'quedará', 'ojo', 'sufrir', 'desventuras', 'pudieran', 'habla', 'primeros', 'sabré', 'detrás', 'circunstantes', 'espadas', 'nación', 'verdaderos', 'acciones', 'mirado', 'Sea', 'cara', 'debes', 'menudo', 'discretas', 'persiguen', 'durmiendo', 'bendición', 'humana', 'vais', 'dedos', 'carrera', 'llano', 'do', 'corta', 'virtudes', 'yerba', 'Ah', 'mientras', 'camisa', 'dejan', 'bestias', 'pudiere', 'vencedor', 'muelas', 'haz', 'hubieran', 'espanto', 'digas', 'quede', 'prudente', 'maravilla', 'casado', 'estrecheza', 'desmayada', 'demonio', 'secretario', 'Álvaro', 'Excelencia', 'Melisendra', 'Claudia', 'imaginaba', 'Nicolás', 'probar', 'agravios', 'blanda', 'perdón', 'Cuanto', 'humano', 'piedras', 'veréis', 'prometió', 'servicios', 'gallardo', 'atado', 'estáis', 'Mire', 'mirad', 'breve', 'aquéllos', 'pensado', 'hilo', 'proseguir', 'canta', 'herida', 'necedades', 'fee', 'cuerpos', 'despojos', 'Válame', 'testamento', 'Verdad', 'Amor', 'desdichas', 'rayos', 'casos', 'veas', 'campaña', 'improviso', 'Benengeli', 'Paréceme', 'bálsamo', 'prometida', 'manteles', 'queso', 'comida', 'tuyo', 'entra', 'hermanos', 'podéis', 'cortés', 'gozar', 'común', 'sabido', 'montañas', 'honesto', 'premio', 'sirva', 'bienes', 'persuadir', 'engañado', 'huesos', 'tengan', 'docientos', 'Llegóse', 'lanzón', 'profundo', 'frío', 'espíritu', 'bajo', 'ruegos', 'escuadrón', 'escondido', 'salario', 'freno', 'Nuestro', 'saque', 'Dime', 'usa', 'contenta', 'posesión', 'ducados', 'huir', 'prudencia', 'cueros', 'querían', 'parientes', 'Tomé', 'aires', 'alegres', 'levantándose', 'cautivos', 'carreta', 'Leandra', 'Luna', 'Malambruno', 'Clavileño', 'antigua', 'heridas', 'promesa', 'encantamentos', 'entera', 'parecerle', 'estruendo', 'pecados', 'terrible', 'plata', 'abundancia', 'seguridad', 'menesterosos', 'quedase', 'llenos', 'puntualidad', 'continente', 'reposo', 'supiese', 'tendría', 'encina', 'prometo', 'castigo', 'mandamiento', 'seda', 'ora', 'usanza', 'vía', 'malandrines', 'flores', 'poesía', 'llamada', 'precio', 'arzobispo', 'solía', 'descubrieron', 'desear', 'hallarse', 'comenzado', 'olvido', 'ofrecía', 'oí', 'desmayo', 'llegase', 'voto', 'cabreros', 'estuvieron', 'fuente', 'responde', 'cuándo', 'justa', 'saben', 'amantes', 'pasase', 'mármol', 'consideración', 'mortal', 'sentidos', 'sospecha', 'sed', 'corría', 'discursos', 'recado', 'puerto', 'palo', 'acaba', 'despertó', 'cuántas', 'compasión', 'Sin', 'poniendo', 'perro', 'huyendo', 'diere', 'siguiente', 'sentencias', 'cadena', 'garganta', 'Ginés', 'Sierra', 'llevaron', 'vulgo', 'vuelvo', 'casar', 'bueyes', 'remo', 'Berbería', 'Vicente', 'Recio', 'rocín', 'curiosidad', 'pasaban', 'seas', 'podido', 'detuvo', 'pudieron', 'mandaba', 'beber', 'cena', 'acabada', 'ansimesmo', 'dondequiera', 'sosegado', 'atrás', 'creyó', 'dejaré', 'placer', 'bella', 'rato', 'molde', 'espuelas', 'llevando', 'acordó', 'enfermedad', 'vengo', 'ciento', 'pondré', 'quisieren', 'tesoro', 'enamorada', 'demasiadamente', 'envidia', 'antiguos', 'sabrá', 'Calla', 'tiento', 'naturales', 'espejo', 'falto', 'conocía', 'Estaba', 'concierto', 'hubiere', 'ganar', 'cuesta', 'atentamente', 'estacas', 'ajena', 'favorecer', 'cantar', 'rogar', 'Ambrosio', 'labradores', 'verano', 'envía', 'quejas', 'temer', 'contando', 'regalo', 'respondiese', 'león', 'verdades', 'soga', 'darte', 'desa', 'Roma', 'iguales', 'sabéis', 'ventaja', 'adorno', 'entrambas', 'hablaba', 'corre', 'colores', 'Ea', 'volverse', 'tristeza', 'Era', 'alas', 'deshora', 'habló', 'muchachos', 'parezca', 'escribano', 'disparate', 'maleta', 'contentos', 'habrán', 'ejercicios', 'comedias', 'respondido', 'entero', 'joyas', 'dijere', 'veis', 'costumbres', 'Micomicona', 'bodas', 'Marién', 'DE', 'Gaiferos', 'Ana', 'vivía', 'noches', 'cincuenta', 'seco', 'salga', 'fermosura', 'pluma', 'Fue', 'dello', 'propuso', 'jornada', 'hermosas', 'humildad', 'alabanza', 'pedido', 'reír', 'ajenas', 'pago', 'amparo', 'Hecho', 'dejasen', 'brío', 'toque', 'sirve', 'Del', 'asiéndole', 'satisfación', 'viven', 'confesar', 'marqués', 'cabestro', 'viesen', 'cuchilladas', 'simplicidad', 'compuesto', 'habilidad', 'Todas', 'libres', 'grandezas', 'Miguel', 'prendas', 'cerrada', 'vitoria', 'procura', 'vuelven', 'mirase', 'roto', 'negros', 'Llegaron', 'escuchaba', 'gato', 'saltó', 'santos', 'Mambrino', 'traen', 'redonda', 'huéspedes', 'bellotas', 'estima', 'sustentar', 'perdición', 'montes', 'consintió', 'piden', 'Salamanca', 'sirven', 'escrúpulo', 'cae', 'sabiendo', 'gentileza', 'vano', 'penas', 'ausente', 'males', 'ingrata', 'duerme', 'deshonra', 'trato', 'condado', 'fermosa', 'llegan', 'abrazó', 'castigar', 'cuadrillero', 'descubrir', 'príncipe', 'infinitas', 'imagen', 'serían', 'quisiéredes', 'tuya', 'límites', 'puntas', 'mentiras', 'Bueno', 'Morena', 'igual', 'buscarle', 'consuelo', 'sacaron', 'vivos', 'alteza', 'entretenimiento', 'entrando', 'bolsa', 'seré', 'mentir', 'vasallos', 'dádivas', 'dejará', 'seiscientos', 'palacios', 'rescate', 'orbe', 'come', 'Barcelona', 'leonero', 'virrey', 'Félix', 'añadidura', 'fiestas', 'dalle', 'pendencias', 'república', 'hojas', 'músico', 'tuertos', 'quienquiera', 'estrella', 'hallará', 'pelear', 'pieza', 'cerrar', 'afrenta', 'maestro', 'negra', 'trujo', 'azote', 'ovejas', 'contornos', 'cuánto', 'zapatos', 'enfermo', 'apartó', 'juez', 'sentencia', 'rienda', 'siguió', 'paraba', 'cobarde', 'siguieron', 'Ésta', 'escribe', 'pase', 'sigue', 'harán', 'palma', 'guarde', 'tomase', 'castellana', 'levantado', 'lana', 'razonable', 'falte', 'valle', 'viniesen', 'testigo', 'acomodó', 'pensando', 'Venía', 'ligero', 'llamo', 'apearse', 'dejaban', 'niñerías', 'digno', 'negar', 'izquierdo', 'alzando', 'cuántos', 'olor', 'ciertos', 'reja', 'seno', 'juzgar', 'murió', 'peña', 'quedaré', 'muchacha', 'digan', 'levantaron', 'caminante', 'cobrar', 'conocidos', 'sierra', 'frente', 'tristes', 'fiesta', 'arroyo', 'sentir', 'acudieron', 'ahínco', 'error', 'sima', 'deso', 'manta', 'puñadas', 'vara', 'decirte', 'parió', 'olvidado', 'contiene', 'pierna', 'corrido', 'confieso', 'palacio', 'pido', 'lleve', 'testigos', 'encanto', 'Pasamonte', 'medias', 'mismos', 'riqueza', 'principalmente', 'animal', 'asiento', 'entré', 'pasadas', 'tuviere', 'iré', 'pudiesen', 'docena', 'muera', 'báculo', 'varón', 'puntos', 'Quedó', 'veen', 'prisión', 'cenar', 'referido', 'procesión', 'Madrid', 'Cecial', 'ingenioso', 'compuso', 'claridad', 'coces', 'sentía', 'procuraba', 'quisieron', 'añadir', 'anduvo', 'tardanza', 'falsa', 'venideros', 'antiguo', 'siglo', 'dichoso', 'averiguar', 'remediar', 'visera', 'peñas', 'verdes', 'Nunca', 'pro', 'podrán', 'echando', 'Díjole', 'canalla', 'denuedo', 'cumplido', 'Estas', 'miente', 'Hizo', 'so', 'partió', 'imitar', 'arrogante', 'propia', 'herido', 'milagros', 'noble', 'escusar', 'cansado', 'público', 'dormía', 'valer', 'place', 'historiador', 'autoridad', 'claras', 'decoro', 'prados', 'cantando', 'abierto', 'apeándose', 'llevase', 'Iba', 'maravedís', 'vidas', 'oía', 'sacando', 'frailes', 'criadas', 'puse', 'leyese', 'atónito', 'corto', 'hagan', 'abismo', 'gravedad', 'siento', 'cárcel', 'acomodado', 'cabra', 'manifiesto', 'fatiga', 'fuentes', 'hueco', 'abrir', 'simples', 'alcornoque', 'pasan', 'piense', 'conversación', 'amante', 'habemos', 'preguntado', 'suave', 'encerrado', 'subieron', 'emperadores']\n"
          ]
        }
      ]
    },
    {
      "cell_type": "code",
      "source": [
        "# 📈 Visualización de la Ley de Zipf\n",
        "top_n = 50\n",
        "palabras_top = [palabra for palabra, _ in frecuencia_ordenada[:top_n]]\n",
        "frecuencias_top = [conteo[palabra] for palabra in palabras_top]\n",
        "\n",
        "plt.figure(figsize=(12, 6))\n",
        "plt.bar(palabras_top, frecuencias_top, color='skyblue')\n",
        "plt.xticks(rotation=45)\n",
        "plt.xlabel(\"Palabras\")\n",
        "plt.ylabel(\"Frecuencia absoluta\")\n",
        "plt.title(f\"Top {top_n} palabras más frecuentes en el Quijote\")\n",
        "plt.tight_layout()\n",
        "plt.show()"
      ],
      "metadata": {
        "colab": {
          "base_uri": "https://localhost:8080/",
          "height": 566
        },
        "id": "nXb70Taz1pS8",
        "outputId": "3f605243-e8c5-4e2d-f7a5-2663933dfaeb"
      },
      "execution_count": null,
      "outputs": [
        {
          "output_type": "display_data",
          "data": {
            "text/plain": [
              "<Figure size 1200x600 with 1 Axes>"
            ],
            "image/png": "[encoded data removed]"
          },
          "metadata": {}
        }
      ]
    },
    {
      "cell_type": "markdown",
      "source": [
        "## 🧊 Stopwords y su impacto en el análisis\n",
        "\n",
        "### 📌 ¿Qué son las *stopwords*?\n",
        "Las *stopwords* (palabras vacías) son aquellas que aparecen con alta frecuencia pero tienen **poco valor semántico** para ciertas tareas computacionales.\n",
        "\n",
        "Ejemplos: “el”, “la”, “de”, “y”, “en”, “que”, etc.\n",
        "\n",
        "### 🧠 ¿Por qué eliminarlas?\n",
        "- Reducen el ruido estadístico\n",
        "- Disminuyen la dimensionalidad\n",
        "- Mejoran algunos modelos de clasificación y clustering\n",
        "\n",
        "> 🚫 Pero **no siempre deben eliminarse**: son cruciales en modelos de lenguaje modernos (BERT, GPT) y tareas como análisis de estilo, escritura automática o POS tagging.\n",
        "\n"
      ],
      "metadata": {
        "id": "-QbqP5tuAYrF"
      }
    },
    {
      "cell_type": "code",
      "source": [
        "### 🧪 Ejemplo en Python con spaCy:\n",
        "#!python -m spacy download es_core_news_sm\n",
        "import spacy\n",
        "nlp = spacy.load(\"es_core_news_sm\")\n",
        "doc = nlp(\"El gato está en la casa y duerme mucho.\")\n",
        "[tok.text for tok in doc if not tok.is_stop]\n",
        "\n"
      ],
      "metadata": {
        "colab": {
          "base_uri": "https://localhost:8080/"
        },
        "id": "gRIt_x31AeDv",
        "outputId": "e4c98ce3-6056-4248-8e72-3057c4140196"
      },
      "execution_count": null,
      "outputs": [
        {
          "output_type": "execute_result",
          "data": {
            "text/plain": [
              "['gato', 'casa', 'duerme', '.']"
            ]
          },
          "metadata": {},
          "execution_count": 24
        }
      ]
    },
    {
      "cell_type": "markdown",
      "source": [
        "### 📦 Listas de *stopwords* comunes\n"
      ],
      "metadata": {
        "id": "ywNwPlFeAj-l"
      }
    },
    {
      "cell_type": "code",
      "source": [
        "import nltk\n",
        "from nltk.corpus import stopwords\n",
        "nltk.download('stopwords')\n",
        "\n",
        "spanish_stop_words = set(stopwords.words('spanish'))\n",
        "print(list(spanish_stop_words)[:20])\n",
        "\n",
        "spanish_stop_words.add(\"payaso\")\n",
        "spanish_stop_words.add(\"si\")\n",
        "spanish_stop_words.add(\"tan\")\n",
        "spanish_stop_words.add(\"ser\")\n",
        "\n"
      ],
      "metadata": {
        "colab": {
          "base_uri": "https://localhost:8080/"
        },
        "id": "WNKNblE6AnWG",
        "outputId": "36876498-f840-4bf6-f72b-5335bfb56060"
      },
      "execution_count": null,
      "outputs": [
        {
          "output_type": "stream",
          "name": "stdout",
          "text": [
            "['suyos', 'fueses', 'fuimos', 'serían', 'habéis', 'fuesen', 'ni', 'ya', 'seríamos', 'me', 'sobre', 'habido', 'sus', 'todo', 'ellos', 'ha', 'y', 'tuvieran', 'estaríamos', 'muchos']\n"
          ]
        },
        {
          "output_type": "stream",
          "name": "stderr",
          "text": [
            "[nltk_data] Downloading package stopwords to /root/nltk_data...\n",
            "[nltk_data]   Package stopwords is already up-to-date!\n"
          ]
        }
      ]
    },
    {
      "cell_type": "markdown",
      "source": [
        "Puedes crear tus propias listas adaptadas a tu dominio específico (legal, médico, turístico).\n",
        "\n",
        "---"
      ],
      "metadata": {
        "id": "kWcJr4vaAo-6"
      }
    },
    {
      "cell_type": "code",
      "source": [
        "# 📈 Visualización de la Ley de Zipf\n",
        "top_n = 50\n",
        "palabras_top = [palabra for palabra, _ in frecuencia_ordenada[:top_n] if not palabra in spanish_stop_words ]\n",
        "frecuencias_top = [conteo[palabra] for palabra in palabras_top]\n",
        "\n",
        "plt.figure(figsize=(12, 6))\n",
        "plt.bar(palabras_top, frecuencias_top, color='skyblue')\n",
        "plt.xticks(rotation=45)\n",
        "plt.xlabel(\"Palabras\")\n",
        "plt.ylabel(\"Frecuencia absoluta\")\n",
        "plt.title(f\"Top {top_n} palabras más frecuentes en el Quijote\")\n",
        "plt.tight_layout()\n",
        "plt.show()"
      ],
      "metadata": {
        "colab": {
          "base_uri": "https://localhost:8080/",
          "height": 566
        },
        "id": "W8A1Oan6B99L",
        "outputId": "73a459f4-3ab7-4814-e0b9-51c7527aecbe"
      },
      "execution_count": null,
      "outputs": [
        {
          "output_type": "display_data",
          "data": {
            "text/plain": [
              "<Figure size 1200x600 with 1 Axes>"
            ],
            "image/png": "[encoded data removed]"
          },
          "metadata": {}
        }
      ]
    },
    {
      "cell_type": "markdown",
      "source": [
        "---\n",
        "\n",
        "## 🧠 Conclusión\n",
        "\n",
        "Las representaciones vectoriales básicas como **BoW**, **TF**, **TF-IDF** y **One-Hot** son el punto de partida para trabajar con texto.\n",
        "No obstante, tienen limitaciones cruciales:\n",
        "\n",
        "* No capturan **contexto**\n",
        "* No codifican **relaciones semánticas**\n",
        "* No modelan **la estructura gramatical**\n",
        "\n",
        "➡️ Esto motivó el desarrollo de **embeddings densos y contextuales**, como Word2Vec, FastText, BERT y GPT.\n",
        "\n",
        "---\n"
      ],
      "metadata": {
        "id": "mMZd_rnWnPdj"
      }
    },
    {
      "cell_type": "markdown",
      "source": [
        "# 🧪 Procesos básicos de análisis lingüístico\n",
        "\n",
        "## 🧩 Tokenización avanzada\n",
        "\n",
        "### 📌 ¿Qué es tokenizar?\n",
        "\n",
        "Es el proceso de segmentar un texto en **unidades mínimas significativas (tokens)**.\n",
        "Estas unidades pueden ser palabras, subpalabras, morfemas, caracteres o sílabas.\n",
        "\n",
        "> ⚠️ Elegir el tipo adecuado de tokenización depende de la tarea, el modelo y el idioma.\n",
        "\n",
        "---\n",
        "\n",
        "### 🧠 Tipos de tokenización\n",
        "\n",
        "| Tipo de tokenización         | Descripción breve                               | Ejemplo                                                    |\n",
        "| ---------------------------- | ----------------------------------------------- | ---------------------------------------------------------- |\n",
        "| **Word-based**               | División en palabras por espacio y puntuación   | “Juan corre rápido” → \\[“Juan”, “corre”, “rápido”]         |\n",
        "| **Sentence-based**               | División en textos por puntuación   | “¡Hola! ¿Qué hay?” → \\[“Hola”, “Qué hay”]         |\n",
        "| **Subword**                  | Fragmentación morfológica útil para neologismos | “desorganización” → \\[“des”, “organ”, “ización”]           |\n",
        "| **BPE (Byte Pair Encoding)** | Fragmentación estadística en pares frecuentes   | “internacionalmente” → \\[“inter”, “nacion”, “al”, “mente”] |\n",
        "| **Character-based**          | Cada letra o símbolo es un token                | “texto” → \\[“t”, “e”, “x”, “t”, “o”]                       |\n",
        "\n",
        "---\n",
        "\n",
        "### 🛠️ Tokenización con spaCy\n",
        "\n"
      ],
      "metadata": {
        "id": "Wr66GjBwquy4"
      }
    },
    {
      "cell_type": "code",
      "source": [
        "#!pip install spacy\n",
        "#!python -m spacy download es_core_news_sm"
      ],
      "metadata": {
        "id": "F1iIHQ4dxGtd"
      },
      "execution_count": null,
      "outputs": []
    },
    {
      "cell_type": "code",
      "source": [
        "import spacy\n",
        "nlp = spacy.load(\"es_core_news_sm\")\n",
        "\n",
        "doc = nlp(\"Pedro Sánchez visitó México en octubre de 2024.\")\n",
        "print([token.text for token in doc])"
      ],
      "metadata": {
        "colab": {
          "base_uri": "https://localhost:8080/"
        },
        "id": "IE4fpxVEwWXl",
        "outputId": "c2a3b983-2ced-4432-e82b-9e408e39a574"
      },
      "execution_count": null,
      "outputs": [
        {
          "output_type": "stream",
          "name": "stdout",
          "text": [
            "['Pedro', 'Sánchez', 'visitó', 'México', 'en', 'octubre', 'de', '2024', '.']\n"
          ]
        }
      ]
    },
    {
      "cell_type": "markdown",
      "source": [
        "---\n",
        "\n",
        "### ✨ Tokenización con expresiones regulares\n",
        "\n"
      ],
      "metadata": {
        "id": "zhthUasawkhF"
      }
    },
    {
      "cell_type": "code",
      "source": [
        "import re\n",
        "texto = \"La IP 192.168.1.1 fue bloqueada\"\n",
        "tokens = re.findall(r\"\\w+(?:\\.\\w+)*\", texto)\n",
        "print(tokens)\n"
      ],
      "metadata": {
        "colab": {
          "base_uri": "https://localhost:8080/"
        },
        "id": "_GoQxj6ez0a8",
        "outputId": "cd5dceaa-700b-433e-df79-ab79cc7cf589"
      },
      "execution_count": null,
      "outputs": [
        {
          "output_type": "stream",
          "name": "stdout",
          "text": [
            "['La', 'IP', '192.168.1.1', 'fue', 'bloqueada']\n"
          ]
        }
      ]
    },
    {
      "cell_type": "markdown",
      "source": [
        "> ✅ Útil para tokenizar correos, URLs, números, etc.\n",
        "\n",
        "---\n",
        "\n",
        "\n",
        "### 📌 ¿Qué es una expresión regular?\n",
        "\n",
        "Una **expresión regular** (o regex) es una secuencia de caracteres que define un **patrón de búsqueda**. Es utilizada para **extraer, dividir, limpiar o validar texto**.\n",
        "\n",
        "> ⚠️ Las expresiones regulares son fundamentales para tareas de preprocesamiento en PLN, especialmente cuando el texto contiene **formatos irregulares, metadatos, símbolos o estructuras mixtas** (como fechas, emails, hashtags o URLs).\n",
        "\n",
        "---\n",
        "\n",
        "### 🔧 ¿Por qué usar expresiones regulares en PLN?\n",
        "\n",
        "| Situación                             | Por qué es útil usar regex                           |\n",
        "| ------------------------------------- | ---------------------------------------------------- |\n",
        "| Texto mal estructurado (logs, tweets) | Las reglas formales fallan, regex lo resuelve rápido |\n",
        "| Limpieza de datos                     | Eliminar HTML, caracteres especiales, etc.           |\n",
        "| Extracción de patrones                | Fechas, cantidades, IPs, emails, hashtags            |\n",
        "| Tokenización personalizada            | Frases, frases compuestas, números con unidades      |\n",
        "\n",
        "---\n",
        "\n",
        "## 🧠 Sintaxis básica de expresiones regulares\n",
        "\n",
        "| Elemento      | Significado                                 | Ejemplo                         |             |         |\n",
        "| ------------- | ------------------------------------------- | ------------------------------- | ----------- | ------- |\n",
        "| `.`           | Cualquier carácter excepto nueva línea      | `a.c` coincide con “abc”, “a-c” |             |         |\n",
        "| `\\d`          | Dígito (0–9)                                | `\\d+` → “123”, “2022”           |             |         |\n",
        "| `\\w`          | Caracter alfanumérico (letras, dígitos, \\_) | `\\w+` → “hola”, “mundo\\_123”    |             |         |\n",
        "| `\\s`          | Espacio en blanco                           | `\\s+` → “ ”, “   ”              |             |         |\n",
        "| `[...]`       | Clase de caracteres                         | `[aeiou]` → vocales             |             |         |\n",
        "| `[^...]`      | Negación (excepto)                          | `[^a-z]` → no letras minúsculas |             |         |\n",
        "| \\`            | \\`                                          | Alternancia                     | \\`gato      | perro\\` |\n",
        "| `()`          | Agrupación                                  | \\`(el                           | la)\\s+\\w+\\` |         |\n",
        "| `?`, `*`, `+` | Cuantificadores (opcional, 0+, 1+)          | `\\d+`, `\\w*`, `.?`              |             |         |\n",
        "\n",
        "---\n",
        "\n",
        "## 🧪 Ejemplos prácticos con Python\n",
        "\n"
      ],
      "metadata": {
        "id": "WwZMnWSMzwNg"
      }
    },
    {
      "cell_type": "code",
      "source": [
        "import re\n",
        "correo = \"Correo: maria.gomez@example.com.mx\"\n",
        "Fecha = \"Fecha 45/26/2023\"\n",
        "IP =  \"IP: 192.168.1.1\"\n",
        "Precio = \"Precio $123.45\"\n",
        "Hashtag= \"En el #MeiA2025 #LenguajeNatural\"\n",
        "URL = \"La URL es https://github.com/corpus\"\n",
        "\n",
        "texto = \" \".join([correo, Fecha, IP, Precio, Hashtag, URL])\n",
        "print(texto)\n"
      ],
      "metadata": {
        "colab": {
          "base_uri": "https://localhost:8080/"
        },
        "id": "BBYhBWEi3ddw",
        "outputId": "732c1e5e-d58c-4206-e797-a76e1eb49361"
      },
      "execution_count": null,
      "outputs": [
        {
          "output_type": "stream",
          "name": "stdout",
          "text": [
            "Correo: maria.gomez@example.com.mx Fecha 45/26/2023 IP: 192.168.1.1 Precio $123.45 En el #MeiA2025 #LenguajeNatural La URL es https://github.com/corpus\n"
          ]
        }
      ]
    },
    {
      "cell_type": "markdown",
      "source": [
        "### 🔍 Extraer correos electrónicos\n",
        "\n",
        "\n"
      ],
      "metadata": {
        "id": "fDRpsP7Q3lv6"
      }
    },
    {
      "cell_type": "code",
      "source": [
        "re.findall(r\"[a-zA-Z0-9_.-]+@[a-zA-Z0-9-]+\\.[a-zA-Z0-9-]+\", texto)\n",
        "\n",
        "\n"
      ],
      "metadata": {
        "colab": {
          "base_uri": "https://localhost:8080/"
        },
        "id": "tqrXf00X3tRE",
        "outputId": "166be1bf-cbf2-4784-a24e-df43246d389f"
      },
      "execution_count": null,
      "outputs": [
        {
          "output_type": "execute_result",
          "data": {
            "text/plain": [
              "['maria.gomez@example.com']"
            ]
          },
          "metadata": {},
          "execution_count": 42
        }
      ]
    },
    {
      "cell_type": "markdown",
      "source": [
        "---\n",
        "\n",
        "### 📅 Extraer fechas en formato dd/mm/yyyy\n",
        "\n"
      ],
      "metadata": {
        "id": "9uVXbxsN3wUw"
      }
    },
    {
      "cell_type": "code",
      "source": [
        "re.findall(r\"\\d{2}/\\d{2}/\\d{4}\", texto)\n"
      ],
      "metadata": {
        "colab": {
          "base_uri": "https://localhost:8080/"
        },
        "id": "REYYTAVS4-Sb",
        "outputId": "06d33794-6290-4855-fc81-51d312a02037"
      },
      "execution_count": null,
      "outputs": [
        {
          "output_type": "execute_result",
          "data": {
            "text/plain": [
              "['45/26/2023']"
            ]
          },
          "metadata": {},
          "execution_count": 49
        }
      ]
    },
    {
      "cell_type": "markdown",
      "source": [
        "---\n",
        "\n",
        "### 💻 Extraer direcciones IP\n",
        "\n"
      ],
      "metadata": {
        "id": "GUqS-UZN5bV3"
      }
    },
    {
      "cell_type": "code",
      "source": [
        "re.findall(r\"\\b(?:\\d{1,3}\\.){3}\\d{1,3}\\b\", texto)\n",
        "\n"
      ],
      "metadata": {
        "colab": {
          "base_uri": "https://localhost:8080/"
        },
        "id": "jqWUPEIL5etf",
        "outputId": "a17d9306-5aef-41b0-836f-4b00384143f4"
      },
      "execution_count": null,
      "outputs": [
        {
          "output_type": "execute_result",
          "data": {
            "text/plain": [
              "['192.168.1.1']"
            ]
          },
          "metadata": {},
          "execution_count": 44
        }
      ]
    },
    {
      "cell_type": "markdown",
      "source": [
        "---\n",
        "\n",
        "### 💰 Extraer precios en dólares\n",
        "\n",
        "\n"
      ],
      "metadata": {
        "id": "cT-Ly6CZ5nmr"
      }
    },
    {
      "cell_type": "code",
      "source": [
        "re.findall(r\"\\$\\d+(?:\\.\\d{2})?\", texto)\n"
      ],
      "metadata": {
        "colab": {
          "base_uri": "https://localhost:8080/"
        },
        "id": "-hs22hga5scp",
        "outputId": "337442f7-9154-43c5-8af2-ab44efc8e932"
      },
      "execution_count": null,
      "outputs": [
        {
          "output_type": "execute_result",
          "data": {
            "text/plain": [
              "['$123.45']"
            ]
          },
          "metadata": {},
          "execution_count": 45
        }
      ]
    },
    {
      "cell_type": "markdown",
      "source": [
        "---\n",
        "\n",
        "### 🏷️ Extraer hashtags\n",
        "\n",
        "\n"
      ],
      "metadata": {
        "id": "9rXyE_g75wlo"
      }
    },
    {
      "cell_type": "code",
      "source": [
        "re.findall(r\"#\\w+\", texto)"
      ],
      "metadata": {
        "colab": {
          "base_uri": "https://localhost:8080/"
        },
        "id": "NebNoWTM56nc",
        "outputId": "e3a58aab-2530-43c7-b2bc-bfc451cdbd42"
      },
      "execution_count": null,
      "outputs": [
        {
          "output_type": "execute_result",
          "data": {
            "text/plain": [
              "['#MeiA2025', '#LenguajeNatural']"
            ]
          },
          "metadata": {},
          "execution_count": 46
        }
      ]
    },
    {
      "cell_type": "markdown",
      "source": [
        "---\n",
        "\n",
        "### 🔗 Extraer URLs\n",
        "\n"
      ],
      "metadata": {
        "id": "B8W4ER_c59ey"
      }
    },
    {
      "cell_type": "code",
      "source": [
        "re.findall(r\"https?://[^\\s]+\", texto)\n"
      ],
      "metadata": {
        "colab": {
          "base_uri": "https://localhost:8080/"
        },
        "id": "eE_Ru-ue6LFI",
        "outputId": "aa969c71-69ba-41af-d4c1-b84cc05e35db"
      },
      "execution_count": null,
      "outputs": [
        {
          "output_type": "execute_result",
          "data": {
            "text/plain": [
              "['https://github.com/corpus']"
            ]
          },
          "metadata": {},
          "execution_count": 47
        }
      ]
    },
    {
      "cell_type": "markdown",
      "source": [
        "---\n",
        "\n",
        "## 🧠 Aplicaciones reales de Regex en PLN\n",
        "\n",
        "| Tarea                                  | Uso de regex                                                                |\n",
        "| -------------------------------------- | --------------------------------------------------------------------------- |\n",
        "| **Scraping web**                       | Extraer datos semiestructurados de páginas HTML                             |\n",
        "| **Análisis de redes sociales**         | Extraer hashtags, menciones, emojis, URLs                                   |\n",
        "| **Chatbots**                           | Reconocer fechas, números, comandos como “agendar reunión el lunes”         |\n",
        "| **Sistemas de preguntas y respuestas** | Identificar frases interrogativas y fragmentos informativos relevantes      |\n",
        "| **Detección de patrones maliciosos**   | Reconocer IPs sospechosas, comandos de shell, rutas de archivos             |\n",
        "| **Preprocesamiento multilingüe**       | Detectar segmentos en distintos alfabetos (latino, cirílico, devanagari...) |\n",
        "\n",
        "---\n",
        "\n"
      ],
      "metadata": {
        "id": "KUWdgIqs6bOS"
      }
    },
    {
      "cell_type": "markdown",
      "source": [
        "## 🧪 Casos combinados de tokenización personalizada"
      ],
      "metadata": {
        "id": "upz4ZYmx6ish"
      }
    },
    {
      "cell_type": "code",
      "source": [
        "tweet = \"Conéctate a https://taller-tic.redmacro.unam.mx/MeIA2025/ el lunes a las 8 horas y síguenos en @unam #IA #PLN #Meia\"\n",
        "\n",
        "patron = r\"(https?://[^\\s]+|@\\w+|#\\w+|\\w+|[^\\w\\s])\"\n",
        "tokens = re.findall(patron, tweet)\n",
        "print(tokens)\n",
        "\n",
        "\n"
      ],
      "metadata": {
        "colab": {
          "base_uri": "https://localhost:8080/"
        },
        "id": "nALHwA976e_g",
        "outputId": "20f53c7b-251d-4b67-9ec8-d76e6d987a44"
      },
      "execution_count": null,
      "outputs": [
        {
          "output_type": "stream",
          "name": "stdout",
          "text": [
            "['Conéctate', 'a', 'https://taller-tic.redmacro.unam.mx/MeIA2025/', 'el', 'lunes', 'a', 'las', '8', 'horas', 'y', 'síguenos', 'en', '@unam', '#IA', '#PLN', '#Meia']\n"
          ]
        }
      ]
    },
    {
      "cell_type": "markdown",
      "source": [
        "> 🔍 Combina múltiples patrones en un solo paso: URLs, menciones, hashtags, palabras y dígitos.\n",
        "\n",
        "---\n",
        "\n",
        "## 🧠 Buenas prácticas al usar expresiones regulares\n",
        "\n",
        "* ✅ Usar `raw strings` en Python (`r\"patrón\"`)\n",
        "* ✅ Probar expresiones con [regex101.com](https://regex101.com/)\n",
        "* ✅ Documentar los patrones complejos\n",
        "* ❌ No abusar: si el texto es bien estructurado (JSON, XML), usar un parser\n",
        "\n",
        "\n",
        "---\n",
        "\n",
        "## 📌 Conclusión\n",
        "\n",
        "Las expresiones regulares son herramientas extremadamente potentes para tareas de **tokenización especializada, extracción y limpieza de texto**.\n",
        "\n",
        "Aunque modelos neuronales modernos hacen mucho de esto de forma automática, en la práctica profesional del PLN:\n",
        "\n",
        "> 🔧 **Regex sigue siendo insustituible** cuando el texto es sucio, informal o tiene estructuras que requieren manipulación específica.\n",
        "\n",
        "---\n"
      ],
      "metadata": {
        "id": "uMQMqg-e6pRk"
      }
    },
    {
      "cell_type": "markdown",
      "source": [
        "### 🔧 Tokenización con BPE\n",
        "\n",
        "BPE (Byte Pair Encoding) es el estándar en modelos como GPT y RoBERTa.\n",
        "No se hace a mano; se aprende automáticamente en el preentrenamiento.\n",
        "Para experimentar puedes usar `tokenizers` o `huggingface/transformers`."
      ],
      "metadata": {
        "id": "OuxBZJDzxudx"
      }
    },
    {
      "cell_type": "code",
      "source": [
        "from transformers import AutoTokenizer\n",
        "tokenizer = AutoTokenizer.from_pretrained(\"bert-base-multilingual-cased\")\n",
        "tokens = tokenizer.tokenize(\"internacionalmente hablando\")\n",
        "print(tokens)\n",
        "\n"
      ],
      "metadata": {
        "colab": {
          "base_uri": "https://localhost:8080/"
        },
        "id": "y_peShSpx3sm",
        "outputId": "3d8e0d1f-ea2d-4c79-adf9-731d3b992e22"
      },
      "execution_count": null,
      "outputs": [
        {
          "output_type": "stream",
          "name": "stdout",
          "text": [
            "['internacional', '##mente', 'habla', '##ndo']\n"
          ]
        }
      ]
    },
    {
      "cell_type": "markdown",
      "source": [
        "---\n",
        "\n",
        "## 🧬 Lematización vs. Stemming\n",
        "\n",
        "### 📖 Definiciones\n",
        "\n",
        "| Técnica          | Qué hace                                                      | Ejemplo             |\n",
        "| ---------------- | ------------------------------------------------------------- | ------------------- |\n",
        "| **Stemming**     | Recorta a una raíz “gramatical”, sin comprender la morfología | “jugando” → “jug”   |\n",
        "| **Lematización** | Devuelve la forma base canónica (lema) del verbo/sustantivo   | “jugando” → “jugar” |\n",
        "\n",
        "---\n",
        "\n",
        "### 🧪 Ejemplo con spaCy (Lematización)\n",
        "\n"
      ],
      "metadata": {
        "id": "rKF08YDSx9Px"
      }
    },
    {
      "cell_type": "code",
      "source": [
        "# import spacy\n",
        "# !python -m spacy download es_core_news_sm\n",
        "# nlp = spacy.load(\"es_core_news_sm\")\n",
        "\n",
        "doc = nlp(\"Los niños estaban jugando en el parque.\")\n",
        "for token in doc:\n",
        "    print(f\"{token.text:12} ➝ Lema: {token.lemma_}\")"
      ],
      "metadata": {
        "colab": {
          "base_uri": "https://localhost:8080/"
        },
        "id": "WTVV7dOYyC-W",
        "outputId": "84b785f0-52d6-4d11-d268-dedeeec96e80"
      },
      "execution_count": null,
      "outputs": [
        {
          "output_type": "stream",
          "name": "stdout",
          "text": [
            "Los          ➝ Lema: el\n",
            "niños        ➝ Lema: niño\n",
            "estaban      ➝ Lema: estar\n",
            "jugando      ➝ Lema: jugar\n",
            "en           ➝ Lema: en\n",
            "el           ➝ Lema: el\n",
            "parque       ➝ Lema: parque\n",
            ".            ➝ Lema: .\n"
          ]
        }
      ]
    },
    {
      "cell_type": "markdown",
      "source": [
        "---\n",
        "\n",
        "### 🧪 Ejemplo con NLTK (Stemming)\n",
        "\n"
      ],
      "metadata": {
        "id": "YQ3wiHhVyLVQ"
      }
    },
    {
      "cell_type": "code",
      "source": [
        "from nltk.stem.snowball import SpanishStemmer\n",
        "stemmer = SpanishStemmer()\n",
        "\n",
        "palabras = [\"jugando\", \"jugarán\", \"jugador\", \"jugué\"]\n",
        "for palabra in palabras:\n",
        "    print(f\"{palabra:10} ➝ {stemmer.stem(palabra)}\")\n",
        "\n"
      ],
      "metadata": {
        "colab": {
          "base_uri": "https://localhost:8080/"
        },
        "id": "4AYkm7rMyWUN",
        "outputId": "c9d58cc2-9c5d-4ec2-f58f-a11f2ff974e2"
      },
      "execution_count": null,
      "outputs": [
        {
          "output_type": "stream",
          "name": "stdout",
          "text": [
            "jugando    ➝ jug\n",
            "jugarán    ➝ jug\n",
            "jugador    ➝ jugador\n",
            "jugué      ➝ jug\n"
          ]
        }
      ]
    },
    {
      "cell_type": "markdown",
      "source": [
        "---\n",
        "\n",
        "### 🧠 ¿Cuándo usar cada uno?\n",
        "\n",
        "| Caso de uso                                     | ¿Stemming o lematización?                        |\n",
        "| ----------------------------------------------- | ------------------------------------------------ |\n",
        "| Clasificación rápida de texto                   | ✅ Stemming                                       |\n",
        "| Análisis semántico profundo                     | ✅ Lematización                                   |\n",
        "| Idiomas con alta inflexión (español, alemán)    | ✅ Lematización                                   |\n",
        "| Preprocesamiento en modelos neuronales modernos | ❌ (no necesario si usas embeddings contextuales) |\n",
        "\n",
        "---\n",
        "\n"
      ],
      "metadata": {
        "id": "aIeidzNZydWy"
      }
    },
    {
      "cell_type": "markdown",
      "source": [
        "## 🧠 Etiquetado gramatical (POS tagging)\n",
        "\n",
        "### 📌 ¿Qué es POS tagging?\n",
        "\n",
        "Es el proceso de asignar una **etiqueta gramatical (categoría léxica)** a cada palabra de un texto: sustantivo, verbo, adjetivo, etc.\n",
        "\n",
        "---\n",
        "\n",
        "### 🧪 Ejemplo con spaCy"
      ],
      "metadata": {
        "id": "m79fpz4hzaYc"
      }
    },
    {
      "cell_type": "code",
      "source": [
        "# import spacy\n",
        "# !python -m spacy download es_core_news_sm\n",
        "# nlp = spacy.load(\"es_core_news_sm\")\n",
        "\n",
        "doc = nlp(\"Los estudiantes leyeron el artículo completo.\")\n",
        "for token in doc:\n",
        "    print(f\"{token.text:12} ➝ {token.pos_} ({token.tag_})\")"
      ],
      "metadata": {
        "colab": {
          "base_uri": "https://localhost:8080/"
        },
        "id": "Nc21fkZHzQam",
        "outputId": "e358adaa-2b1a-421d-a0a3-618ff562d83e"
      },
      "execution_count": null,
      "outputs": [
        {
          "output_type": "stream",
          "name": "stdout",
          "text": [
            "Collecting es-core-news-sm==3.8.0\n",
            "  Downloading https://github.com/explosion/spacy-models/releases/download/es_core_news_sm-3.8.0/es_core_news_sm-3.8.0-py3-none-any.whl (12.9 MB)\n",
            "\u001b[2K     \u001b[90m━━━━━━━━━━━━━━━━━━━━━━━━━━━━━━━━━━━━━━━━\u001b[0m \u001b[32m12.9/12.9 MB\u001b[0m \u001b[31m21.6 MB/s\u001b[0m eta \u001b[36m0:00:00\u001b[0m\n",
            "\u001b[?25h\u001b[38;5;2m✔ Download and installation successful\u001b[0m\n",
            "You can now load the package via spacy.load('es_core_news_sm')\n",
            "\u001b[38;5;3m⚠ Restart to reload dependencies\u001b[0m\n",
            "If you are in a Jupyter or Colab notebook, you may need to restart Python in\n",
            "order to load all the package's dependencies. You can do this by selecting the\n",
            "'Restart kernel' or 'Restart runtime' option.\n",
            "Los          ➝ DET (DET)\n",
            "estudiantes  ➝ NOUN (NOUN)\n",
            "leyeron      ➝ VERB (VERB)\n",
            "el           ➝ DET (DET)\n",
            "artículo     ➝ NOUN (NOUN)\n",
            "completo     ➝ ADJ (ADJ)\n",
            ".            ➝ PUNCT (PUNCT)\n"
          ]
        }
      ]
    },
    {
      "cell_type": "markdown",
      "source": [
        "---\n",
        "\n",
        "### 📖 Principales etiquetas POS\n",
        "\n",
        "| Etiqueta | Significado        | Ejemplo      |\n",
        "| -------- | ------------------ | ------------ |\n",
        "| `NOUN`   | Sustantivo         | casa, idea   |\n",
        "| `VERB`   | Verbo              | correr, ser  |\n",
        "| `ADJ`    | Adjetivo           | grande, azul |\n",
        "| `ADV`    | Adverbio           | rápidamente  |\n",
        "| `PRON`   | Pronombre          | él, ella     |\n",
        "| `DET`    | Determinante       | el, la, una  |\n",
        "| `ADP`    | Preposición        | con, desde   |\n",
        "| `AUX`    | Verbo auxiliar     | ha, fue      |\n",
        "| `SCONJ`  | Conjunción subord. | que, aunque  |\n",
        "\n",
        "---\n",
        "\n",
        "### 🧠 ¿Para qué sirve el POS tagging?\n",
        "\n",
        "* **Análisis sintáctico** (parser)\n",
        "* **Extracción de patrones lingüísticos**\n",
        "* **Transformación de texto gramatical**\n",
        "* **Filtrado de stopwords específicas** (e.g., solo adjetivos positivos)\n",
        "\n",
        "---\n",
        "\n",
        "## 🏷️ Reconocimiento de Entidades Nombradas (NER)\n",
        "\n",
        "### 📌 ¿Qué es?\n",
        "\n",
        "NER (Named Entity Recognition) identifica **palabras o frases que representan entidades reales**: personas, lugares, organizaciones, fechas, cantidades, etc.\n",
        "\n",
        "---\n",
        "\n",
        "### 📦 Categorías comunes en modelos en español\n",
        "\n",
        "| Etiqueta  | Tipo de entidad    | Ejemplo                |\n",
        "| --------- | ------------------ | ---------------------- |\n",
        "| `PER`     | Persona            | Gabriel García Márquez |\n",
        "| `LOC`     | Lugar geográfico   | Argentina              |\n",
        "| `ORG`     | Organización       | ONU, Google            |\n",
        "| `DATE`    | Fecha              | 24 de marzo de 2023    |\n",
        "| `MONEY`   | Cantidad monetaria | \\$1,000 USD            |\n",
        "| `TIME`    | Hora               | 10:30 a.m.             |\n",
        "| `PERCENT` | Porcentaje         | 25%                    |\n",
        "\n",
        "---\n",
        "\n"
      ],
      "metadata": {
        "id": "XlD5OZYXzXJP"
      }
    },
    {
      "cell_type": "markdown",
      "source": [
        "### 🧪 Ejemplo con spaCy"
      ],
      "metadata": {
        "id": "a4PxuriDCutc"
      }
    },
    {
      "cell_type": "code",
      "source": [
        "doc = nlp(\"El América perió contra Toluca.\")\n",
        "for ent in doc.ents:\n",
        "    print(f\"{ent.text:25} ➝ {ent.label_}\")\n"
      ],
      "metadata": {
        "colab": {
          "base_uri": "https://localhost:8080/"
        },
        "id": "JgY5_2WnCmeH",
        "outputId": "c0f9bb6d-2f8c-464a-a645-182bd9bc2eb5"
      },
      "execution_count": null,
      "outputs": [
        {
          "output_type": "stream",
          "name": "stdout",
          "text": [
            "América                   ➝ LOC\n",
            "Toluca                    ➝ LOC\n"
          ]
        }
      ]
    },
    {
      "cell_type": "markdown",
      "source": [
        "---\n",
        "\n",
        "### 🧠 Aplicaciones prácticas de NER\n",
        "\n",
        "| Aplicación                         | Cómo se usa NER                              |\n",
        "| ---------------------------------- | -------------------------------------------- |\n",
        "| **Análisis financiero automático** | Detección de montos, fechas y empresas       |\n",
        "| **Periodismo automatizado**        | Identificar sujetos, fechas, lugares clave   |\n",
        "| **Buscadores inteligentes**        | Autocompletar basado en entidades relevantes |\n",
        "| **Extracción de conocimiento**     | Construcción de grafos semánticos (KG)       |\n",
        "\n",
        "---\n",
        "\n",
        "## 📚 Resumen de técnicas en esta unidad\n",
        "\n",
        "| Técnica      | Función                          | Herramientas recomendadas      |\n",
        "| ------------ | -------------------------------- | ------------------------------ |\n",
        "| Tokenización | Dividir texto en unidades        | spaCy, RegEx, BPE, Huggingface |\n",
        "| Lematización | Obtener forma base               | spaCy, TreeTagger              |\n",
        "| Stemming     | Recortar raíces gramaticales     | NLTK, Snowball                 |\n",
        "| POS tagging  | Etiquetado gramatical            | spaCy, Stanza                  |\n",
        "| NER          | Detección de entidades nombradas | spaCy, Flair, Huggingface      |\n",
        "\n",
        "---\n",
        "\n",
        "## 🧠 Conclusión\n",
        "\n",
        "Estos pasos constituyen el **pipeline clásico de PLN**.\n",
        "Aún con modelos modernos como BERT o GPT, muchas tareas internas dependen de:\n",
        "\n",
        "* Tokenización avanzada\n",
        "* Lemas\n",
        "* Estructura gramatical\n",
        "* Contexto de entidades\n",
        "\n",
        "> 📌 Un buen modelo necesita una buena base lingüística.\n",
        "\n",
        "---\n",
        "\n",
        "## 📖 Lecturas recomendadas\n",
        "\n",
        "* Jurafsky & Martin. *Speech and Language Processing*, capítulos 2–4\n",
        "* Manning, Raghavan & Schütze. *Introduction to Information Retrieval*\n",
        "* spaCy documentation: [https://spacy.io/usage](https://spacy.io/usage)\n",
        "* Bender, E. M. (2011). *Linguistic Fundamentals for Natural Language Processing*\n",
        "---"
      ],
      "metadata": {
        "id": "GRc6a_bsCsYT"
      }
    },
    {
      "cell_type": "markdown",
      "source": [
        "# 📊 Estadísticas y frecuencias en texto\n",
        "\n",
        "\n",
        "## Frecuencias absolutas y relativas\n",
        "\n",
        "### 📌 ¿Qué es la frecuencia absoluta?\n",
        "Es la **cantidad total de veces** que aparece una palabra en un corpus. Por ejemplo, en el Quijote, la palabra “don” puede aparecer más de 3,000 veces.\n",
        "\n",
        "### 📌 ¿Qué es la frecuencia relativa?\n",
        "Es la proporción de veces que aparece una palabra respecto al total de tokens del corpus:\n",
        "$$\n",
        " f_{\\text{relativa}}(w) = \\frac{\\text{frecuencia}(w)}{\\text{total de tokens}} $$\n",
        "\n",
        "Esta métrica permite comparar palabras entre distintos corpus sin que el tamaño total afecte la interpretación.\n",
        "\n",
        "### 🧠 ¿Por qué son importantes?\n",
        "- Permiten construir representaciones vectoriales como BoW o TF-IDF.\n",
        "- Revelan propiedades lingüísticas como redundancia o relevancia.\n",
        "- Sirven como base para modelos de lenguaje estadístico.\n",
        "\n",
        "### 🧪 Ejemplo en Python\n"
      ],
      "metadata": {
        "id": "fvsz2jZyDPgc"
      }
    },
    {
      "cell_type": "code",
      "source": [
        "from collections import Counter\n",
        "corpus = [\"el\", \"gato\", \"duerme\", \"el\", \"gato\", \"come\", \"el\", \"ratón\", \"huye\"]\n",
        "conteo = Counter(corpus)\n",
        "total = sum(conteo.values())\n",
        "print(\"Frecuencia absoluta:\", conteo)\n",
        "frecuencia_relativa = {palabra: f / total for palabra, f in conteo.items()}\n",
        "print(\"Frecuencia relativa:\", frecuencia_relativa)\n"
      ],
      "metadata": {
        "colab": {
          "base_uri": "https://localhost:8080/"
        },
        "id": "uUGPImnFEz8_",
        "outputId": "5b23530c-eb11-4f1d-c87f-e2f4298ef60b"
      },
      "execution_count": null,
      "outputs": [
        {
          "output_type": "stream",
          "name": "stdout",
          "text": [
            "Frecuencia absoluta: Counter({'el': 3, 'gato': 2, 'duerme': 1, 'come': 1, 'ratón': 1, 'huye': 1})\n",
            "Frecuencia relativa: {'el': 0.3333333333333333, 'gato': 0.2222222222222222, 'duerme': 0.1111111111111111, 'come': 0.1111111111111111, 'ratón': 0.1111111111111111, 'huye': 0.1111111111111111}\n"
          ]
        }
      ]
    },
    {
      "cell_type": "markdown",
      "source": [
        "---\n",
        "\n",
        "## 📉 Ley de Zipf\n",
        "\n",
        "### 📌 Enunciado\n",
        "La frecuencia de una palabra es inversamente proporcional a su rango:\n",
        "\n",
        "$$\n",
        "f(r) \\propto \\frac{1}{r^s}\n",
        "$$\n",
        "\n",
        "donde \\( r \\) es el rango (palabra más frecuente = 1), y \\( s \\approx 1 \\) para lenguajes naturales.\n",
        "\n",
        "### 🧠 ¿Qué significa esto?\n",
        "- Unas pocas palabras ocurren muchas veces (ej. “el”, “de”, “la”).\n",
        "- Muchas palabras ocurren solo una vez: **hapax legomena**.\n",
        "- Algunas ocurren exactamente dos veces: **dis legomena**.\n",
        "\n",
        "### 📊 Visualización log-log (Zipf)\n"
      ],
      "metadata": {
        "id": "ThVEfKRaE6PS"
      }
    },
    {
      "cell_type": "code",
      "source": [
        "import numpy as np\n",
        "import matplotlib.pyplot as plt\n",
        "texto = \"el gato duerme el perro ladra el gato corre el perro duerme el gato salta\"\n",
        "tokens = texto.lower().split()\n",
        "frecuencias = Counter(tokens)\n",
        "ordenadas = sorted(frecuencias.items(), key=lambda x: -x[1])\n",
        "ranks = np.arange(1, len(ordenadas) + 1)\n",
        "freqs = np.array([f for _, f in ordenadas])\n",
        "plt.figure(figsize=(8,5))\n",
        "plt.plot(ranks, freqs, marker='o')\n",
        "#plt.xscale('log')\n",
        "#plt.yscale('log')\n",
        "plt.title(\"Ley de Zipf (log-log)\")\n",
        "plt.xlabel(\"Rango\")\n",
        "plt.ylabel(\"Frecuencia\")\n",
        "plt.grid(True)\n",
        "plt.show()\n",
        "\n",
        "\n"
      ],
      "metadata": {
        "colab": {
          "base_uri": "https://localhost:8080/",
          "height": 487
        },
        "id": "K8FMrqxKGP0R",
        "outputId": "31cd8bcd-b21e-4f9e-bce9-5964c00aceca"
      },
      "execution_count": null,
      "outputs": [
        {
          "output_type": "display_data",
          "data": {
            "text/plain": [
              "<Figure size 800x500 with 1 Axes>"
            ],
            "image/png": "[encoded data removed]"
          },
          "metadata": {}
        }
      ]
    },
    {
      "cell_type": "markdown",
      "source": [
        "---\n",
        "\n",
        "## 📈 Ley de Heap\n",
        "\n",
        "### 📌 Enunciado\n",
        "La Ley de Heap establece que:\n",
        "\n",
        "$$\n",
        "V(n) = K \\cdot n^\\beta\n",
        "$$\n",
        "\n",
        "donde:\n",
        "- $ V(n) $ = número de palabras únicas (vocabulario)\n",
        "- $ n $ = número de tokens procesados\n",
        "- $ 0.4 < \\beta < 0.7 $\n",
        "- $K$: constante empírica que depende del idioma y el dominio del texto\n",
        "\n",
        "\n",
        "### 📊 Ejemplo típico para el español\n",
        "\n",
        "Para textos generales en español, como artículos periodísticos, narrativa o ensayos:\n",
        "\n",
        "* $K \\approx 20$\n",
        "* $\\beta \\approx 0.52$\n",
        "\n",
        "Esto significa que si procesamos **un millón de tokens** ($n = 10^6$):\n",
        "\n",
        "$$\n",
        "V(10^6) = 20 \\cdot (10^6)^{0.52} \\approx 20 \\cdot 10471 \\approx 209,420 \\text{ palabras únicas}\n",
        "$$\n",
        "\n",
        "---\n",
        "\n",
        "✅ Este valor coincide con estimaciones reales: por ejemplo, en novelas extensas o corpus del español moderno, se pueden encontrar **más de 200,000 tipos únicos** con millones de tokens procesados.\n",
        "\n",
        "---\n",
        "\n",
        "### 🧠 ¿Qué implica?\n",
        "- Al procesar más texto, el vocabulario crece.\n",
        "- Pero crece cada vez más lento: muchas palabras ya se repiten.\n",
        "- Útil para estimar cuántas palabras nuevas hay en corpus futuros.\n",
        "\n",
        "### 📊 Visualización de Heap\n"
      ],
      "metadata": {
        "id": "uLOZYL6tGVyp"
      }
    },
    {
      "cell_type": "code",
      "source": [
        "texto = \"el gato duerme el perro ladra el gato corre el perro duerme el gato salta\"\n",
        "tokens = texto.lower().split()\n",
        "vocab = set()\n",
        "vocab_size = []\n",
        "tokens_seen = []\n",
        "for i, token in enumerate(tokens):\n",
        "    vocab.add(token)\n",
        "    tokens_seen.append(i+1)\n",
        "    vocab_size.append(len(vocab))\n",
        "plt.figure(figsize=(8,5))\n",
        "plt.plot(tokens_seen, vocab_size, marker='o')\n",
        "plt.title(\"Ley de Heap: crecimiento del vocabulario\")\n",
        "plt.xlabel(\"Número de tokens\")\n",
        "plt.ylabel(\"Tamaño del vocabulario\")\n",
        "plt.grid(True)\n",
        "plt.show()"
      ],
      "metadata": {
        "colab": {
          "base_uri": "https://localhost:8080/",
          "height": 487
        },
        "id": "JE_w4mC7HUtI",
        "outputId": "f31834b0-7321-476a-c291-9acc4719aabc"
      },
      "execution_count": null,
      "outputs": [
        {
          "output_type": "display_data",
          "data": {
            "text/plain": [
              "<Figure size 800x500 with 1 Axes>"
            ],
            "image/png": "[encoded data removed]"
          },
          "metadata": {}
        }
      ]
    },
    {
      "cell_type": "markdown",
      "source": [
        "---\n",
        "\n",
        "## 📚 Curvas de cobertura léxica\n",
        "\n",
        "### 📌 ¿Qué es la cobertura léxica?\n",
        "La **cobertura léxica** indica cuántas palabras necesitamos para cubrir un porcentaje del corpus.\n",
        "\n",
        "Ejemplo:\n",
        "- Las 100 palabras más comunes cubren el 50% de un texto.\n",
        "- Las 1,000 más comunes cubren el 80%.\n",
        "\n",
        "### 🧠 ¿Para qué sirve?\n",
        "- Evaluar modelos de lenguaje.\n",
        "- Medir diversidad léxica.\n",
        "- Diseñar vocabularios para embeddings o PLN multilingüe.\n",
        "\n",
        "### 📊 Visualización de cobertura\n"
      ],
      "metadata": {
        "id": "GNQ1bkt0HZYJ"
      }
    },
    {
      "cell_type": "code",
      "source": [
        "import re\n",
        "from collections import Counter\n",
        "texto = \"el gato duerme el perro ladra el gato corre el perro duerme el gato salta\"\n",
        "tokens = re.findall(r'\\b\\w{2,}\\b', texto.lower())\n",
        "conteo = Counter(tokens)\n",
        "total = sum(conteo.values())\n",
        "frecuencias = sorted(conteo.values(), reverse=True)\n",
        "frecuencias_norm = [f/total for f in frecuencias]\n",
        "cobertura = []\n",
        "acumulado = 0\n",
        "for f in frecuencias_norm:\n",
        "    acumulado += f\n",
        "    cobertura.append(acumulado)\n",
        "plt.figure(figsize=(8,5))\n",
        "plt.plot(range(1, len(cobertura)+1), cobertura)\n",
        "plt.title(\"Curva de cobertura léxica\")\n",
        "plt.xlabel(\"Número de palabras únicas\")\n",
        "plt.ylabel(\"Cobertura acumulada\")\n",
        "plt.grid(True)\n",
        "plt.axhline(0.5, color='gray', linestyle='--')\n",
        "plt.axhline(0.85, color='gray', linestyle='--')\n",
        "plt.show()\n",
        "\n",
        "\n"
      ],
      "metadata": {
        "colab": {
          "base_uri": "https://localhost:8080/",
          "height": 488
        },
        "id": "De58QK-yJAyZ",
        "outputId": "db06e469-9490-4cd9-bff7-1168eb00457a"
      },
      "execution_count": null,
      "outputs": [
        {
          "output_type": "display_data",
          "data": {
            "text/plain": [
              "<Figure size 800x500 with 1 Axes>"
            ],
            "image/png": "[encoded data removed]"
          },
          "metadata": {}
        }
      ]
    },
    {
      "cell_type": "code",
      "source": [
        "url = \"https://www.gutenberg.org/cache/epub/2000/pg2000-images.html\"\n",
        "response = requests.get(url)\n",
        "\n",
        "text = response.text\n",
        "\n",
        "# Limpiar el texto (quitar encabezados/footers de Gutenberg)\n",
        "start_marker = \"Primera parte del ingenioso hidalgo don Quijote de la Mancha\"\n",
        "end_marker = \"*** END OF THE PROJECT GUTENBERG EBOOK DON QUIJOTE ***\"\n",
        "start = text.find(start_marker)\n",
        "end = text.find(end_marker)\n",
        "\n",
        "corpus = re.findall(r'\\b\\w{2,}\\b', text[start:end])\n",
        "\n",
        "\n",
        "conteo = Counter(corpus)\n",
        "total = sum(conteo.values())\n",
        "frecuencias = sorted(conteo.values(), reverse=True)\n",
        "frecuencias_norm = [f/total for f in frecuencias]\n",
        "cobertura = []\n",
        "acumulado = 0\n",
        "for f in frecuencias_norm:\n",
        "    acumulado += f\n",
        "    cobertura.append(acumulado)\n",
        "plt.figure(figsize=(8,5))\n",
        "plt.plot(range(1, len(cobertura)+1), cobertura)\n",
        "plt.title(\"Curva de cobertura léxica\")\n",
        "plt.xlabel(\"Número de palabras únicas\")\n",
        "plt.ylabel(\"Cobertura acumulada\")\n",
        "plt.grid(True)\n",
        "plt.axhline(0.5, color='gray', linestyle='--')\n",
        "plt.axhline(0.85, color='gray', linestyle='--')\n",
        "plt.show()\n",
        "\n",
        "\n"
      ],
      "metadata": {
        "colab": {
          "base_uri": "https://localhost:8080/",
          "height": 488
        },
        "id": "FFHIvzjhJXF8",
        "outputId": "fce9549c-b034-4232-a8ab-3c411ce87633"
      },
      "execution_count": null,
      "outputs": [
        {
          "output_type": "display_data",
          "data": {
            "text/plain": [
              "<Figure size 800x500 with 1 Axes>"
            ],
            "image/png": "[encoded data removed]"
          },
          "metadata": {}
        }
      ]
    },
    {
      "cell_type": "markdown",
      "source": [
        "---\n",
        "\n",
        "## 📌 Conclusión\n",
        "\n",
        "- La **frecuencia** permite entender la estructura del lenguaje.\n",
        "- La **Ley de Zipf** revela la concentración de uso de pocas palabras.\n",
        "- La **Ley de Heap** predice crecimiento del vocabulario.\n",
        "- Las **curvas de cobertura** ayudan a dimensionar vocabularios eficientes.\n",
        "\n",
        "Estas métricas no solo explican el comportamiento de corpus reales, sino que fundamentan el diseño de representaciones vectoriales, modelos de lenguaje y estrategias de compresión semántica.\n"
      ],
      "metadata": {
        "id": "OalODCsVJEtS"
      }
    },
    {
      "cell_type": "markdown",
      "source": [
        "# 🎲 Modelos probabilísticos clásicos en PLN\n",
        "\n",
        "## 🧩 Modelos de lenguaje n-grama\n",
        "\n",
        "### 📌 ¿Qué son?\n",
        "\n",
        "Los modelos de lenguaje n-grama son una familia de modelos probabilísticos que intentan estimar la probabilidad de una secuencia de palabras en función de las palabras que la preceden, pero **limitando la dependencia solo a las últimas n-1 palabras**. Son un caso particular del supuesto de Markov aplicado al lenguaje.\n",
        "\n",
        "Ejemplo con trigramas:\n",
        "\n",
        "$$\n",
        "P(w_3 \\mid w_1, w_2)\n",
        "$$\n",
        "\n",
        "La probabilidad total de una secuencia se aproxima como:\n",
        "\n",
        "$$\n",
        "P(w_1, w_2, ..., w_n) \\approx \\prod_{i=1}^{n} P(w_i \\mid w_{i-(n-1)}, ..., w_{i-1})\n",
        "$$\n",
        "\n",
        "### 🧠 Intuición lingüística\n",
        "\n",
        "- Capturan patrones locales frecuentes del idioma: combinaciones gramaticales, colocaciones comunes (\"buenos días\", \"a pesar de\").\n",
        "- Funcionan bien en tareas con estructuras predecibles: reconocimiento de voz, OCR, sugerencia de texto.\n",
        "\n",
        "### 📌 Tipos comunes\n",
        "\n",
        "| Modelo     | Condición                        | Ejemplo                                |\n",
        "|------------|----------------------------------|----------------------------------------|\n",
        "| Unigrama   | $ P(w_i) $                     | Frecuencia relativa simple              |\n",
        "| Bigrama    | $ P(w_i \\mid w_{i-1}) $       | “de la”, “el gato”                     |\n",
        "| Trigrama   | $ P(w_i \\mid w_{i-2}, w_{i-1}) $| “en la casa”, “el perro ladra”         |\n",
        "\n",
        "Los modelos n-grama suponen independencia condicional limitada, lo que simplifica el cómputo, pero puede omitir dependencias de largo alcance importantes para la semántica o la cohesión discursiva.\n",
        "\n",
        "---\n",
        "\n",
        "## 🧪 Ejemplo en Python – Modelo de bigramas\n",
        "\n",
        "\n"
      ],
      "metadata": {
        "id": "ZRU5i4eOK4T_"
      }
    },
    {
      "cell_type": "code",
      "source": [
        "from collections import defaultdict, Counter\n",
        "import re\n",
        "\n",
        "texto = \"el perro duerme en la casa y el otro perro ladra en el patio, y en casa del vecino, su perro ladra también\"\n",
        "tokens = re.findall(r'\\w+', texto.lower())\n",
        "bigrams = [(tokens[i], tokens[i+1]) for i in range(len(tokens)-1)]\n",
        "unigrams = Counter(tokens)\n",
        "bigrams_contados = Counter(bigrams)\n",
        "\n",
        "modelo_bigram = defaultdict(dict)\n",
        "for (w1, w2), count in bigrams_contados.items():\n",
        "    modelo_bigram[w1][w2] = count / unigrams[w1]\n",
        "\n",
        "print(\"Probabilidad P('ladra' | 'perro') =\", modelo_bigram['perro'].get('ladra', 0))\n",
        "\n",
        "\n"
      ],
      "metadata": {
        "colab": {
          "base_uri": "https://localhost:8080/"
        },
        "id": "X1m_i8dWLy1N",
        "outputId": "cafc59ec-50f9-455a-e801-7d9a0ea6170a"
      },
      "execution_count": null,
      "outputs": [
        {
          "output_type": "stream",
          "name": "stdout",
          "text": [
            "Probabilidad P('ladra' | 'perro') = 0.6666666666666666\n"
          ]
        }
      ]
    },
    {
      "cell_type": "markdown",
      "source": [
        "---\n",
        "\n",
        "## 🧂 Suavizado (smoothing): Laplace y Kneser-Ney\n",
        "\n",
        "### ❌ Problema de probabilidad cero\n",
        "\n",
        "Los modelos n-grama sufren del problema del **sparsity**: en cualquier corpus finito, muchas combinaciones plausibles de palabras no aparecen, y su probabilidad estimada sería 0. Esto es desastroso para predicción de lenguaje y generación automática.\n",
        "\n",
        "### ✅ Solución: Suavizado\n",
        "\n",
        "El **suavizado** ajusta las estimaciones de probabilidad para:\n",
        "- Asignar masa a n-gramas no observados\n",
        "- Evitar la sobreconfianza en eventos frecuentes\n",
        "\n",
        "### 🔹 Suavizado de Laplace (Add-1)\n",
        "\n",
        "$$\n",
        "P_{\\text{Laplace}}(w_i \\mid w_{i-1}) = \\frac{C(w_{i-1}, w_i) + 1}{C(w_{i-1}) + |V|}\n",
        "$$\n",
        "\n",
        "Donde:\n",
        "- $ C(w_{i-1}, w_i) $: conteo del bigrama\n",
        "- $ C(w_{i-1}) $: conteo del contexto\n",
        "- $ |V| $: tamaño del vocabulario"
      ],
      "metadata": {
        "id": "6kjom5-OL6A4"
      }
    },
    {
      "cell_type": "code",
      "source": [
        "class ModeloLaplace:\n",
        "    def __init__(self, corpus):\n",
        "        self.tokens = re.findall(r'\\w+', corpus.lower())\n",
        "        self.unigramas = Counter(self.tokens)\n",
        "        self.bigramas = Counter([(self.tokens[i], self.tokens[i+1]) for i in range(len(self.tokens)-1)])\n",
        "        self.V = len(set(self.tokens))  # vocabulario único\n",
        "\n",
        "    def prob_laplace(self, w1, w2):\n",
        "        c_w1 = self.unigramas.get(w1, 0)\n",
        "        c_w1w2 = self.bigramas.get((w1, w2), 0)\n",
        "        return (c_w1w2 + 1) / (c_w1 + self.V)\n",
        "\n",
        "# Ejemplo\n",
        "corpus = \"el perro duerme en la casa y el gato también y el otro perro ladra en el patio, y en casa del vecino, su perro ladra también\"\n",
        "modelo = ModeloLaplace(corpus)\n",
        "print(\"P_laplace('duerme' | 'gato') =\", modelo.prob_laplace('gato', 'duerme'))\n",
        "print(\"P_laplace('come' | 'perro') =\", modelo.prob_laplace('perro', 'ladra'))\n",
        "\n",
        "\n"
      ],
      "metadata": {
        "colab": {
          "base_uri": "https://localhost:8080/"
        },
        "id": "tXQGch_5OC7V",
        "outputId": "97e8fe2b-da0b-4448-8f92-51a1182d23f2"
      },
      "execution_count": null,
      "outputs": [
        {
          "output_type": "stream",
          "name": "stdout",
          "text": [
            "P_laplace('duerme' | 'gato') = 0.0625\n",
            "P_laplace('come' | 'perro') = 0.16666666666666666\n"
          ]
        }
      ]
    },
    {
      "cell_type": "markdown",
      "source": [
        "### 🔹 Suavizado Kneser-Ney (interpolado)\n",
        "\n",
        "Mejora a Laplace al considerar no solo la frecuencia absoluta de una palabra, sino también la **diversidad de contextos** donde aparece. Define una distribución de respaldo basada en la probabilidad de continuación:\n",
        "\n",
        "$$\n",
        "P_{KN}(w_i \\mid w_{i-1}) = \\max(C(w_{i-1}, w_i) - d, 0)/C(w_{i-1}) + \\lambda(w_{i-1}) P_{cont}(w_i)\n",
        "$$\n",
        "\n",
        "Esta fórmula permite ajustar el conteo con un descuento $ d $, redistribuir la masa sobrante mediante $ \\lambda $, y reforzar palabras con diversidad contextual alta.\n",
        "\n",
        "\n"
      ],
      "metadata": {
        "id": "wAhj-Kr3OHGx"
      }
    },
    {
      "cell_type": "code",
      "source": [
        "class ModeloKN:\n",
        "    def __init__(self, corpus, d=0.75):\n",
        "        self.tokens = re.findall(r'\\w+', corpus.lower())\n",
        "        self.unigramas = Counter(self.tokens)\n",
        "        self.bigramas = Counter([(self.tokens[i], self.tokens[i+1]) for i in range(len(self.tokens)-1)])\n",
        "        self.V = len(set(self.tokens))  # vocabulario único\n",
        "        self.d = d\n",
        "        self.contextos = defaultdict(set)\n",
        "\n",
        "    def prob_kn(self, w1, w2):\n",
        "      c_w1 = self.unigramas.get(w1, 0)\n",
        "      c_bigram = self.bigramas.get((w1, w2), 0)\n",
        "      lambda_w1 = self.d * len([w for (prev, w) in self.bigramas if prev == w1]) / max(c_w1, 1)\n",
        "      p_cont = len(self.contextos.get(w2, [])) / len(self.bigramas)\n",
        "\n",
        "\n",
        "      return max(c_bigram - self.d, 0) / max(c_w1, 1) + lambda_w1 * p_cont\n",
        "\n",
        "\n",
        "# Ejemplo\n",
        "corpus = \"el perro duerme en la casa y el gato también y el otro perro ladra en el patio, y en casa del vecino, su perro ladra también\"\n",
        "modelo = ModeloKN(corpus)\n",
        "print(\"P_laplace('duerme' | 'gato') =\", modelo.prob_kn('gato', 'duerme'))\n",
        "print(\"P_laplace('come' | 'perro') =\", modelo.prob_kn('perro', 'ladra'))\n"
      ],
      "metadata": {
        "colab": {
          "base_uri": "https://localhost:8080/"
        },
        "id": "cEbpcCSyPNl4",
        "outputId": "37750f14-1ff2-426d-c008-2d4fe2c1f477"
      },
      "execution_count": null,
      "outputs": [
        {
          "output_type": "stream",
          "name": "stdout",
          "text": [
            "P_laplace('duerme' | 'gato') = 0.0\n",
            "P_laplace('come' | 'perro') = 0.4166666666666667\n"
          ]
        }
      ]
    },
    {
      "cell_type": "code",
      "source": [
        "import re\n",
        "class ModeloBigramas:\n",
        "    def __init__(self, corpus):\n",
        "        self.tokens = re.findall(r'\\w+', corpus.lower())\n",
        "        self.unigramas = Counter(self.tokens)\n",
        "        self.bigramas = Counter([(self.tokens[i], self.tokens[i+1]) for i in range(len(self.tokens)-1)])\n",
        "\n",
        "    def probabilidad(self, w1, w2, smoothing=True):\n",
        "        V = len(self.unigramas)\n",
        "        c_w1 = self.unigramas.get(w1, 0)\n",
        "        c_w1w2 = self.bigramas.get((w1, w2), 0)\n",
        "\n",
        "        if smoothing:\n",
        "            return (c_w1w2 + 1) / (c_w1 + V)\n",
        "        else:\n",
        "            if c_w1 == 0:\n",
        "                return 0\n",
        "            return c_w1w2 / c_w1\n",
        "\n",
        "# Ejemplo\n",
        "corpus = \"el perro duerme el gato duerme el perro ladra\"\n",
        "modelo = ModeloBigramas(corpus)\n",
        "print(\"P('duerme' | 'gato') =\", modelo.probabilidad('gato', 'duerme'))\n",
        "print(\"P('come' | 'perro') =\", modelo.probabilidad('perro', 'come'))\n",
        "\n"
      ],
      "metadata": {
        "colab": {
          "base_uri": "https://localhost:8080/"
        },
        "id": "VUm31Q8jScxj",
        "outputId": "10a3cca0-56e7-4d3f-f2ee-a5e86ec7e2bc"
      },
      "execution_count": null,
      "outputs": [
        {
          "output_type": "stream",
          "name": "stdout",
          "text": [
            "P('duerme' | 'gato') = 0.3333333333333333\n",
            "P('come' | 'perro') = 0.14285714285714285\n"
          ]
        }
      ]
    },
    {
      "cell_type": "markdown",
      "source": [
        "---\n",
        "\n",
        "## ⚙️ Sistemas basados en reglas\n",
        "\n",
        "Antes de la llegada de los modelos estadísticos y neuronales, muchos sistemas de PLN eran **puramente simbólicos**. Se apoyaban en reglas gramaticales escritas por expertos lingüistas.\n",
        "\n",
        "### Ejemplos:\n",
        "- Gramáticas de reescritura (CFG, X-barra)\n",
        "- Sistemas de parsers sintácticos\n",
        "- Gramáticas categoriales o de dependencias\n",
        "\n",
        "### Aplicaciones:\n",
        "- Correctores gramaticales\n",
        "- Sistemas expertos para traducción\n",
        "- Análisis morfosintáctico\n",
        "\n",
        "### ❌ Limitaciones:\n",
        "- Muy costosos de desarrollar\n",
        "- No se adaptan a errores o lenguaje informal\n",
        "- Frágiles ante ambigüedad estructural\n",
        "\n",
        "Hoy día, muchas herramientas combinan **reglas + aprendizaje**: por ejemplo, CRFs + reglas para NER o POS tagging.\n",
        "\n",
        "\n",
        "## 🧩 Clasificación basada en reglas: ejemplo práctico\n",
        "\n",
        "Aunque los enfoques estadísticos y neuronales dominan hoy en día, los **sistemas basados en reglas** fueron pioneros en PLN y siguen siendo útiles cuando:\n",
        "- Hay poco o ningún entrenamiento disponible\n",
        "- El dominio es controlado\n",
        "- Se requiere interpretabilidad\n",
        "\n",
        "Aquí un ejemplo de un **clasificador de noticias por reglas**, que distingue entre deportes y sociales:\n"
      ],
      "metadata": {
        "id": "bU2q_E7DPSFp"
      }
    },
    {
      "cell_type": "code",
      "source": [
        "import re\n",
        "\n",
        "def clasificar_noticia(texto):\n",
        "    texto = texto.lower()\n",
        "\n",
        "    palabras_deporte = [\"gol\", \"partido\", \"jugador\", \"equipo\", \"torneo\", \"entrenador\", \"marcador\", \"cancha\"]\n",
        "    palabras_sociales = [\"boda\", \"evento\", \"invitados\", \"pasarela\", \"fiesta\", \"celebración\", \"moda\", \"gala\"]\n",
        "\n",
        "    cuenta_deporte = sum(1 for palabra in palabras_deporte if palabra in texto)\n",
        "    cuenta_social = sum(1 for palabra in palabras_sociales if palabra in texto)\n",
        "\n",
        "    if cuenta_deporte > cuenta_social:\n",
        "        return \"Deportes\"\n",
        "    elif cuenta_social > cuenta_deporte:\n",
        "        return \"Sociales\"\n",
        "    elif cuenta_deporte == cuenta_social and cuenta_deporte > 0:\n",
        "        return \"Ambas\"\n",
        "    else:\n",
        "        return \"Indeterminado\"\n",
        "\n",
        "# Ejemplos\n",
        "noticia1 = \"El equipo ganó el partido con un gol de último minuto en una emocionante jornada del torneo.\"\n",
        "noticia2 = \"La gala de moda fue un éxito; los invitados desfilaron por la pasarela en una elegante celebración.\"\n",
        "noticia3 = \"el jugador fue a una fiesta\"\n",
        "\n",
        "print(clasificar_noticia(noticia1))  # Deportes\n",
        "print(clasificar_noticia(noticia2))  # Sociales\n",
        "print(clasificar_noticia(noticia3))  # Sociales\n",
        "\n",
        "\n"
      ],
      "metadata": {
        "colab": {
          "base_uri": "https://localhost:8080/"
        },
        "id": "AAIhjEwLS_pX",
        "outputId": "8e27e4b5-cdea-4e2c-fc9d-c0827fc7da3c"
      },
      "execution_count": null,
      "outputs": [
        {
          "output_type": "stream",
          "name": "stdout",
          "text": [
            "Deportes\n",
            "Sociales\n",
            "Ambas\n"
          ]
        }
      ]
    },
    {
      "cell_type": "markdown",
      "source": [
        "---\n",
        "\n",
        "## 🧮 Perplejidad como métrica de evaluación\n",
        "\n",
        "### 📌 ¿Qué es?\n",
        "\n",
        "La **perplejidad** mide cuán “sorprendido” está un modelo ante un conjunto de secuencias. Formalmente:\n",
        "\n",
        "$$\n",
        "\\text{Perplejidad} = 2^{-\\frac{1}{N} \\sum_{i=1}^N \\log_2 P(w_i \\mid contexto)}\n",
        "$$\n",
        "\n",
        "Donde $ P(w_i \\mid contexto) $ es la probabilidad de cada palabra dada su historia.\n",
        "\n",
        "### 🧠 Intuición:\n",
        "- Perplejidad baja = modelo confiado y acertado.\n",
        "- Perplejidad alta = modelo desorientado.\n",
        "\n",
        "### Ejemplo de interpretación:\n",
        "- Perplejidad = 10 → el modelo actúa como si tuviera 10 opciones igual de probables\n",
        "- Perplejidad = 1000 → el modelo no tiene idea de qué sigue\n",
        "\n",
        "---\n",
        "\n",
        "## 🧪 Ejemplo: cálculo de perplejidad\n"
      ],
      "metadata": {
        "id": "yE8QQzGLR16H"
      }
    },
    {
      "cell_type": "code",
      "source": [
        "import math\n",
        "modelo = {'el': 0.3, 'gato': 0.2, 'duerme': 0.1, 'perro': 0.15, 'ladra': 0.1, 'en': 0.15}\n",
        "secuencia = ['el', 'gato', 'duerme', 'el', 'perro']\n",
        "log_prob = sum(math.log2(modelo.get(w, 1e-6)) for w in secuencia)\n",
        "perplejidad = 2 ** (-log_prob / len(secuencia))\n",
        "print(\"Perplejidad de la secuencia:\", perplejidad)\n",
        "\n"
      ],
      "metadata": {
        "colab": {
          "base_uri": "https://localhost:8080/"
        },
        "id": "xEEZ7fHWSWDu",
        "outputId": "f6e9576a-6b97-4340-d922-d4fcdd961e6e"
      },
      "execution_count": null,
      "outputs": [
        {
          "output_type": "stream",
          "name": "stdout",
          "text": [
            "Perplejidad de la secuencia: 5.172818579717864\n"
          ]
        }
      ]
    },
    {
      "cell_type": "markdown",
      "source": [
        "---\n",
        "\n",
        "## 🧠 Implementación completa: Modelo n-grama simple\n",
        "\n"
      ],
      "metadata": {
        "id": "I5LDcBrLSY-j"
      }
    },
    {
      "cell_type": "markdown",
      "source": [
        "# 📏 Métricas fundamentales en PLN\n",
        "\n",
        "Evaluar modelos de PLN no es trivial. Según la tarea (clasificación, generación, traducción…), usamos diferentes métricas. Esta unidad te guiará por las **más importantes**, con implementaciones prácticas, teoría detallada, visualizaciones y recomendaciones.\n",
        "\n",
        "---\n",
        "\n",
        "## 🎯 Métricas de clasificación\n",
        "\n",
        "### 🔍 ¿Cuándo se usan?\n",
        "Cuando el modelo **predice clases**: por ejemplo, análisis de sentimiento, clasificación temática, detección de spam, detección de tópicos, intención, etc.\n",
        "\n",
        "---\n",
        "\n",
        "### 📊 Matriz de confusión\n",
        "\n",
        "Supongamos que clasificamos reseñas en positivas y negativas:\n",
        "\n",
        "|               | Predicho Pos | Predicho Neg |\n",
        "|---------------|--------------|--------------|\n",
        "| Real Positivo | Verdadero Positivo (TP) | Falso Negativo (FN) |\n",
        "| Real Negativo | Falso Positivo (FP)     | Verdadero Negativo (TN) |\n",
        "\n",
        "Esta tabla resume los aciertos y errores del modelo, y sirve de base para calcular múltiples métricas.\n",
        "\n",
        "---\n",
        "\n",
        "### 📐 Métricas derivadas\n",
        "\n",
        "- **Accuracy (Exactitud)**: proporción total de aciertos. Se usa cuando las clases están balanceadas.\n",
        "  \n",
        "  $\\text{Accuracy} = \\frac{TP + TN}{TP + TN + FP + FN} $\n",
        "\n",
        "- **Precision (Precisión)**: de lo que predije como positivo, ¿cuánto era correcto? Muy importante cuando FP es costoso (ej. diagnóstico médico).\n",
        "  \n",
        "  $ \\text{Precision} = \\frac{TP}{TP + FP} $\n",
        "\n",
        "- **Recall (Exhaustividad o Sensibilidad)**: de todos los positivos reales, ¿cuántos encontré? Importante cuando los FN son críticos.\n",
        "  \n",
        "  $\\text{Recall} = \\frac{TP}{TP + FN} $\n",
        "\n",
        "- **F1-score**: media armónica entre precisión y recall. Se usa cuando hay desbalance de clases.\n",
        "  \n",
        "  $ F1 = 2 \\cdot \\frac{\\text{Precision} \\cdot \\text{Recall}}{\\text{Precision} + \\text{Recall}} $\n",
        "\n",
        "- **Specificity (Especificidad)**: $ TN / (TN + FP) $, útil en detección binaria.\n",
        "\n",
        "---\n",
        "\n",
        "### 🧪 Ejemplo en Python\n",
        "\n"
      ],
      "metadata": {
        "id": "YmkAj_0vU_uF"
      }
    },
    {
      "cell_type": "code",
      "source": [
        "from sklearn.metrics import accuracy_score, precision_score, recall_score, f1_score, confusion_matrix, ConfusionMatrixDisplay\n",
        "\n",
        "# Etiquetas verdaderas y predichas\n",
        "y_true = ['pos', 'pos', 'pos', 'pos', 'neg', 'neg', 'pos']\n",
        "y_pred = ['pos', 'neg', 'neg', 'pos', 'neg', 'pos', 'pos']\n",
        "\n",
        "# Cálculo de métricas\n",
        "print(\"Accuracy:\", accuracy_score(y_true, y_pred))\n",
        "print(\"Precision:\", precision_score(y_true, y_pred, pos_label='pos'))\n",
        "print(\"Recall:\", recall_score(y_true, y_pred, pos_label='pos'))\n",
        "print(\"F1 Score:\", f1_score(y_true, y_pred, pos_label='pos'))\n",
        "\n",
        "# Matriz de confusión\n",
        "cm = confusion_matrix(y_true, y_pred, labels=['pos', 'neg'])\n",
        "disp = ConfusionMatrixDisplay(confusion_matrix=cm, display_labels=['pos', 'neg'])\n",
        "disp.plot(cmap='Blues')\n",
        "\n",
        "\n"
      ],
      "metadata": {
        "colab": {
          "base_uri": "https://localhost:8080/",
          "height": 542
        },
        "id": "l8O5y93g5EZ6",
        "outputId": "848f76d4-8490-4acf-9653-e49faa43f536"
      },
      "execution_count": null,
      "outputs": [
        {
          "output_type": "stream",
          "name": "stdout",
          "text": [
            "Accuracy: 0.5714285714285714\n",
            "Precision: 0.75\n",
            "Recall: 0.6\n",
            "F1 Score: 0.6666666666666666\n"
          ]
        },
        {
          "output_type": "execute_result",
          "data": {
            "text/plain": [
              "<sklearn.metrics._plot.confusion_matrix.ConfusionMatrixDisplay at 0x78345b2f6190>"
            ]
          },
          "metadata": {},
          "execution_count": 81
        },
        {
          "output_type": "display_data",
          "data": {
            "text/plain": [
              "<Figure size 640x480 with 2 Axes>"
            ],
            "image/png": "[encoded data removed]"
          },
          "metadata": {}
        }
      ]
    },
    {
      "cell_type": "markdown",
      "source": [
        "---\n",
        "\n",
        "## 📌 Visualización extendida con matriz de confusión"
      ],
      "metadata": {
        "id": "qvsWhZsr9MR9"
      }
    },
    {
      "cell_type": "code",
      "source": [
        "from sklearn.metrics import ConfusionMatrixDisplay\n",
        "\n",
        "y_true = ['neutral', 'pos', 'neg', 'pos', 'neg', 'neutral', 'pos']\n",
        "y_pred = ['pos', 'pos', 'neg', 'neutral', 'neg', 'neutral', 'pos']\n",
        "labels = ['neg', 'neutral', 'pos']\n",
        "\n",
        "cm = confusion_matrix(y_true, y_pred, labels=labels)\n",
        "disp = ConfusionMatrixDisplay(confusion_matrix=cm, display_labels=labels)\n",
        "disp.plot(cmap='Blues')\n",
        "\n",
        "\n"
      ],
      "metadata": {
        "colab": {
          "base_uri": "https://localhost:8080/",
          "height": 472
        },
        "id": "KfhzFYkX8wUd",
        "outputId": "f32170ab-49c1-431c-e39c-448263934746"
      },
      "execution_count": null,
      "outputs": [
        {
          "output_type": "execute_result",
          "data": {
            "text/plain": [
              "<sklearn.metrics._plot.confusion_matrix.ConfusionMatrixDisplay at 0x78345b1a83d0>"
            ]
          },
          "metadata": {},
          "execution_count": 82
        },
        {
          "output_type": "display_data",
          "data": {
            "text/plain": [
              "<Figure size 640x480 with 2 Axes>"
            ],
            "image/png": "[encoded data removed]"
          },
          "metadata": {}
        }
      ]
    },
    {
      "cell_type": "markdown",
      "source": [
        "---\n",
        "\n",
        "## 🧠 Métricas de lenguaje\n",
        "\n",
        "### 📉 Perplejidad (Modelos de lenguaje)\n",
        "\n",
        "Se usa para evaluar modelos que **predicen secuencias de palabras** (e.g. n-gramas, LSTM, Transformers en tareas de modelado de lenguaje):\n",
        "\n",
        "$$\n",
        "\\text{Perplejidad} = 2^{-\\frac{1}{N} \\sum_{i=1}^N \\log_2 P(w_i \\mid w_1^{i-1})}\n",
        "$$\n",
        "\n",
        "Cuanto **más baja**, mejor: significa que el modelo está menos “sorprendido” por el texto real.\n",
        "\n",
        "\n",
        "\n",
        "\n",
        "\n"
      ],
      "metadata": {
        "id": "hdHqaeKa5nxs"
      }
    },
    {
      "cell_type": "code",
      "source": [
        "import math\n",
        "probabilidades = [0.1, 0.2, 0.3, 0.15]\n",
        "log_sum = sum(math.log2(p) for p in probabilidades)\n",
        "perplejidad = 2 ** (-log_sum / len(probabilidades))\n",
        "print(\"Perplejidad:\", perplejidad)"
      ],
      "metadata": {
        "id": "uLSGBNHA60XI"
      },
      "execution_count": null,
      "outputs": []
    },
    {
      "cell_type": "markdown",
      "source": [
        "---\n",
        "\n",
        "### 🌍 BLEU (Evaluación de traducción)\n",
        "\n",
        "Compara una traducción generada con una o más referencias humanas. Basado en **precisión de n-gramas** con una penalización por longitud.\n",
        "\n",
        "\n",
        "\n",
        "\n",
        "\n"
      ],
      "metadata": {
        "id": "vMWE_Ezr6TEt"
      }
    },
    {
      "cell_type": "code",
      "source": [
        "from nltk.translate.bleu_score import sentence_bleu\n",
        "referencia = [['the', 'cat', 'black', 'sleep']]\n",
        "hipotesis = ['the', 'cat', 'sleep']\n",
        "score = sentence_bleu(referencia, hipotesis)\n",
        "print(\"BLEU:\", score)"
      ],
      "metadata": {
        "colab": {
          "base_uri": "https://localhost:8080/"
        },
        "id": "yQbQ82FL6dcm",
        "outputId": "838fcbf7-2060-4951-9cbf-9ce887533c18"
      },
      "execution_count": null,
      "outputs": [
        {
          "output_type": "stream",
          "name": "stdout",
          "text": [
            "BLEU: 8.987727354491445e-155\n"
          ]
        },
        {
          "output_type": "stream",
          "name": "stderr",
          "text": [
            "/usr/local/lib/python3.11/dist-packages/nltk/translate/bleu_score.py:577: UserWarning: \n",
            "The hypothesis contains 0 counts of 3-gram overlaps.\n",
            "Therefore the BLEU score evaluates to 0, independently of\n",
            "how many N-gram overlaps of lower order it contains.\n",
            "Consider using lower n-gram order or use SmoothingFunction()\n",
            "  warnings.warn(_msg)\n",
            "/usr/local/lib/python3.11/dist-packages/nltk/translate/bleu_score.py:577: UserWarning: \n",
            "The hypothesis contains 0 counts of 4-gram overlaps.\n",
            "Therefore the BLEU score evaluates to 0, independently of\n",
            "how many N-gram overlaps of lower order it contains.\n",
            "Consider using lower n-gram order or use SmoothingFunction()\n",
            "  warnings.warn(_msg)\n"
          ]
        }
      ]
    },
    {
      "cell_type": "markdown",
      "source": [
        "**Ventajas**: rápido, estándar.\n",
        "**Limitaciones**: ignora sinónimos y orden más global.\n",
        "\n",
        "---\n",
        "\n",
        "### 🧾 ROUGE (Evaluación de resúmenes)\n",
        "\n",
        "Basado en **recall de n-gramas**. ROUGE-N, ROUGE-L (basado en subsecuencias comunes), etc.\n",
        "\n"
      ],
      "metadata": {
        "id": "fJo5ZbQf6Zuc"
      }
    },
    {
      "cell_type": "code",
      "source": [
        "!pip install rouge"
      ],
      "metadata": {
        "colab": {
          "base_uri": "https://localhost:8080/"
        },
        "id": "hF2t6RBs7IIB",
        "outputId": "7ec03da3-102c-4711-e35c-fcf0926d699f"
      },
      "execution_count": null,
      "outputs": [
        {
          "output_type": "stream",
          "name": "stdout",
          "text": [
            "Collecting rouge\n",
            "  Downloading rouge-1.0.1-py3-none-any.whl.metadata (4.1 kB)\n",
            "Requirement already satisfied: six in /usr/local/lib/python3.11/dist-packages (from rouge) (1.17.0)\n",
            "Downloading rouge-1.0.1-py3-none-any.whl (13 kB)\n",
            "Installing collected packages: rouge\n",
            "Successfully installed rouge-1.0.1\n"
          ]
        }
      ]
    },
    {
      "cell_type": "code",
      "source": [
        "from rouge import Rouge\n",
        "referencias = \"El gato negro duerme en el sofá\"\n",
        "generado = \"El gato duerme en el sofá\"\n",
        "rouge = Rouge()\n",
        "scores = rouge.get_scores(generado, referencias)\n",
        "print(scores)\n",
        "\n",
        "\n"
      ],
      "metadata": {
        "colab": {
          "base_uri": "https://localhost:8080/"
        },
        "id": "-VAcODfB7BW0",
        "outputId": "c890a8ae-b386-481b-c246-f3b80a238f8f"
      },
      "execution_count": null,
      "outputs": [
        {
          "output_type": "stream",
          "name": "stdout",
          "text": [
            "[{'rouge-1': {'r': 0.8571428571428571, 'p': 1.0, 'f': 0.9230769181065088}, 'rouge-2': {'r': 0.6666666666666666, 'p': 0.8, 'f': 0.7272727223140496}, 'rouge-l': {'r': 0.8571428571428571, 'p': 1.0, 'f': 0.9230769181065088}}]\n"
          ]
        }
      ]
    },
    {
      "cell_type": "markdown",
      "source": [
        "---\n",
        "\n",
        "### 💡 METEOR (Traducción/resumen con semántica)\n",
        "\n",
        "A diferencia de BLEU, **considera sinónimos, stemming y orden flexible**.\n",
        "\n"
      ],
      "metadata": {
        "id": "ZrynxO5c7FGA"
      }
    },
    {
      "cell_type": "code",
      "source": [
        "import nltk\n",
        "nltk.download('wordnet')\n"
      ],
      "metadata": {
        "colab": {
          "base_uri": "https://localhost:8080/"
        },
        "id": "L_0vbiH38C14",
        "outputId": "54ffd15d-d73d-4098-f372-f5f8bb47387d"
      },
      "execution_count": null,
      "outputs": [
        {
          "output_type": "stream",
          "name": "stderr",
          "text": [
            "[nltk_data] Downloading package wordnet to /root/nltk_data...\n"
          ]
        },
        {
          "output_type": "execute_result",
          "data": {
            "text/plain": [
              "True"
            ]
          },
          "metadata": {},
          "execution_count": 86
        }
      ]
    },
    {
      "cell_type": "code",
      "source": [
        "from nltk.translate.meteor_score import single_meteor_score\n",
        "ref = \"El gato negro duerme en el sofá\"\n",
        "hip = \"Un gato está comiendo en el techo\"\n",
        "score = single_meteor_score(ref.split(), hip.split())\n",
        "print(\"METEOR:\", score)\n",
        "\n"
      ],
      "metadata": {
        "colab": {
          "base_uri": "https://localhost:8080/"
        },
        "id": "fuUBaFBO7gA8",
        "outputId": "6e0b301f-5321-4b00-b31f-26fdda324afb"
      },
      "execution_count": null,
      "outputs": [
        {
          "output_type": "stream",
          "name": "stdout",
          "text": [
            "METEOR: 0.3650793650793651\n"
          ]
        }
      ]
    },
    {
      "cell_type": "markdown",
      "source": [
        "---\n",
        "\n",
        "## 📚 Recomendaciones según tarea\n",
        "\n",
        "| Tarea                        | Métricas más usadas                       |\n",
        "|-----------------------------|-------------------------------------------|\n",
        "| Clasificación binaria       | Accuracy, Precision, Recall, F1, ROC-AUC  |\n",
        "| Clasificación multiclase    | F1 macro, F1 micro, Matriz de confusión   |\n",
        "| Modelado de lenguaje        | Perplejidad                               |\n",
        "| Traducción automática       | BLEU, METEOR                              |\n",
        "| Resumen automático          | ROUGE-L, ROUGE-N, METEOR                  |\n",
        "| Respuesta a preguntas       | EM (Exact Match), F1                      |\n",
        "\n",
        "---\n",
        "\n",
        "## 🧠 Conclusión\n",
        "\n",
        "Las métricas en PLN deben adaptarse **a la tarea y al objetivo del sistema**. Una métrica mal elegida puede dar la impresión de un buen modelo… cuando en realidad no lo es.\n",
        "\n",
        "\n",
        "## 🔁 Actividad sugerida\n",
        "\n",
        "- Simula un sistema de análisis de sentimiento con predicciones y calcula todas las métricas de clasificación.\n",
        "- Evalúa una oración traducida y una resumida usando BLEU y ROUGE.\n",
        "- Visualiza una matriz de confusión y discute qué tipos de errores comete tu modelo.\n",
        "\n",
        "---\n",
        "\n"
      ],
      "metadata": {
        "id": "9NqyeDBB84fQ"
      }
    },
    {
      "cell_type": "markdown",
      "source": [
        "---\n",
        "\n",
        "## 🧠 Reflexión final\n",
        "\n",
        "Los modelos n-grama fueron la primera forma escalable de modelar el lenguaje. Aunque hoy han sido reemplazados por arquitecturas neuronales (LSTM, Transformers), siguen siendo útiles por:\n",
        "\n",
        "- Su interpretación sencilla\n",
        "- Su bajo costo computacional\n",
        "- Su utilidad como baseline\n",
        "- Su conexión con principios probabilísticos\n",
        "\n"
      ],
      "metadata": {
        "id": "reHKOzttSg38"
      }
    },
    {
      "cell_type": "markdown",
      "source": [
        "---\n",
        "\n",
        "# 🧠  Ambigüedad y desambiguación\n",
        "\n",
        "El lenguaje humano es inherentemente ambiguo. Esta riqueza interpretativa que lo hace tan poderoso para los humanos, representa un reto considerable para los modelos de PLN. En esta unidad exploraremos los **tipos de ambigüedad lingüística**, sus **implicaciones computacionales**, y los **métodos modernos para resolverlas**.\n",
        "\n",
        "---\n",
        "\n",
        "## 🎭 Tipos de ambigüedad lingüística\n",
        "\n",
        "### 1. 📘 Ambigüedad léxica\n",
        "\n",
        "Cuando **una misma palabra tiene múltiples significados**. Puede ser:\n",
        "\n",
        "* **Homonimia**: misma forma, significados no relacionados.\n",
        "  Ej.: *banco* (institución financiera vs. pez).\n",
        "\n",
        "* **Polisemia**: misma forma, significados relacionados.\n",
        "  Ej.: *papel* (material vs. rol en una obra).\n",
        "\n",
        "📌 **Ejemplos:**\n"
      ],
      "metadata": {
        "id": "yWo22v6pWQVq"
      }
    },
    {
      "cell_type": "code",
      "source": [
        "frases = [\n",
        "    \"Voy al banco a sacar dinero\",  # banco = institución\n",
        "    \"Me senté en el banco del parque\",  # banco = asiento\n",
        "    \"El banco de peces nadaba en círculo\",  # banco = grupo de peces\n",
        "]\n",
        "\n",
        "\n"
      ],
      "metadata": {
        "id": "Zf5mqZKn9pse"
      },
      "execution_count": null,
      "outputs": []
    },
    {
      "cell_type": "markdown",
      "source": [
        "### 2. 🧱 Ambigüedad estructural (sintáctica)\n",
        "\n",
        "Una frase puede **tener más de una estructura gramatical válida**, generando distintos significados.\n",
        "\n",
        "> 📍 *“Vi al hombre con el telescopio”*\n",
        "\n",
        "* ¿Yo usé el telescopio para verlo?\n",
        "* ¿Él tenía el telescopio?\n",
        "\n",
        "Esto es común en frases sin puntuación o con modificadores ambiguos.\n",
        "\n",
        "### 3. 💬 Ambigüedad pragmática\n",
        "\n",
        "El significado **depende del contexto social o conversacional**.\n",
        "\n",
        "> 📍 *¿Tienes el tiempo?*\n",
        "> ¿Está preguntando por el clima o disponibilidad para una reunión?\n",
        "\n",
        "Esta ambigüedad es **altamente contextual**, y requiere modelos que integren mundo real, intención y tono.\n",
        "\n",
        "### 4. 📚 Ambigüedad referencial\n",
        "\n",
        "Sucede cuando **no está claro a qué entidad se refiere una palabra** (normalmente un pronombre).\n",
        "\n",
        "> 📍 *Juan habló con Pedro porque él estaba molesto.*\n",
        "> ¿Quién estaba molesto, Juan o Pedro?\n",
        "\n",
        "---\n",
        "\n",
        "## 🛠️ Técnicas de desambiguación\n",
        "\n",
        "### 🧩 A. Basadas en reglas (enfoques simbólicos)\n",
        "\n",
        "Se definen manualmente reglas que intentan capturar el significado a partir de contextos simples."
      ],
      "metadata": {
        "id": "82ObeLT290i9"
      }
    },
    {
      "cell_type": "code",
      "source": [
        "def sentido_banco(texto):\n",
        "    if \"dinero\" in texto or \"cuenta\" in texto:\n",
        "        return \"Institución financiera\"\n",
        "    elif \"parque\" in texto or \"sentado\" in texto:\n",
        "        return \"Asiento\"\n",
        "    elif \"peces\" in texto or \"agua\" in texto:\n",
        "        return \"Grupo de peces\"\n",
        "    else:\n",
        "        return \"Ambiguo\"\n",
        "\n",
        "\n",
        "print(sentido_banco(\"Voy al banco a sacar dinero\"))  # Institución financiera\n",
        "print(sentido_banco(\"Me senté en el banco del parque\"))  # Asiento\n",
        "print(sentido_banco(\"El banco de peces nadaba en círculo\"))  # Grupo de peces\n",
        "\n",
        "\n"
      ],
      "metadata": {
        "colab": {
          "base_uri": "https://localhost:8080/"
        },
        "id": "imuCWyW0-qQ3",
        "outputId": "9480009c-f193-4563-fc2f-0efb012a48a6"
      },
      "execution_count": null,
      "outputs": [
        {
          "output_type": "stream",
          "name": "stdout",
          "text": [
            "Institución financiera\n",
            "Asiento\n",
            "Grupo de peces\n"
          ]
        }
      ]
    },
    {
      "cell_type": "markdown",
      "source": [
        "✔️ Pros:\n",
        "\n",
        "* Interpretables y explicables\n",
        "  ❌ Contras:\n",
        "* No escalan bien\n",
        "* Frágiles ante variaciones léxicas\n",
        "\n",
        "---\n",
        "\n",
        "### 📊 B. Estadísticos (frecuencia y contexto)\n",
        "\n",
        "Aprovechan **la distribución de palabras en grandes corpus** para predecir qué sentido es más probable en un contexto dado.\n",
        "\n",
        "#### 🌍 Ley de probabilidad condicional:\n",
        "\n",
        "$$\n",
        "P(s_i \\mid contexto) = \\frac{\\text{Frecuencia}(s_i, contexto)}{\\sum_j \\text{Frecuencia}(s_j, contexto)}\n",
        "$$\n",
        "\n",
        "#### 📌 Ejemplo práctico:\n",
        "\n"
      ],
      "metadata": {
        "id": "cZYfz3yD-3Ui"
      }
    },
    {
      "cell_type": "code",
      "source": [
        "from collections import defaultdict, Counter\n",
        "\n",
        "# Coocurrencias ficticias\n",
        "contextos = {\n",
        "    \"banco\": [\"dinero\", \"cuenta\", \"efectivo\", \"asiento\", \"parque\", \"peces\", \"agua\"],\n",
        "    \"dinero\": [\"banco\", \"pago\", \"efectivo\"],\n",
        "    \"parque\": [\"banco\", \"niños\", \"jugar\"],\n",
        "    \"agua\": [\"banco\", \"río\", \"peces\"],\n",
        "}\n",
        "\n",
        "# Mostrar frecuencia relativa\n",
        "for palabra, vecinos in contextos.items():\n",
        "    conteo = Counter(vecinos)\n",
        "    total = sum(conteo.values())\n",
        "    print(f\"\\nPalabra: {palabra}\")\n",
        "    for k, v in conteo.items():\n",
        "        print(f\"  {k}: {v/total:.2f}\")\n",
        "\n",
        "\n"
      ],
      "metadata": {
        "colab": {
          "base_uri": "https://localhost:8080/"
        },
        "id": "lGP6fBTQ_pvp",
        "outputId": "a9267bdb-d3b6-40cf-9215-9097de1d58ad"
      },
      "execution_count": null,
      "outputs": [
        {
          "output_type": "stream",
          "name": "stdout",
          "text": [
            "\n",
            "Palabra: banco\n",
            "  dinero: 0.14\n",
            "  cuenta: 0.14\n",
            "  efectivo: 0.14\n",
            "  asiento: 0.14\n",
            "  parque: 0.14\n",
            "  peces: 0.14\n",
            "  agua: 0.14\n",
            "\n",
            "Palabra: dinero\n",
            "  banco: 0.33\n",
            "  pago: 0.33\n",
            "  efectivo: 0.33\n",
            "\n",
            "Palabra: parque\n",
            "  banco: 0.33\n",
            "  niños: 0.33\n",
            "  jugar: 0.33\n",
            "\n",
            "Palabra: agua\n",
            "  banco: 0.33\n",
            "  río: 0.33\n",
            "  peces: 0.33\n"
          ]
        }
      ]
    },
    {
      "cell_type": "markdown",
      "source": [
        "---\n",
        "\n",
        "### 🧠 C. Embeddings semánticos (modelos modernos)\n",
        "\n",
        "Usan vectores densos entrenados en grandes corpus para representar el **significado contextual de palabras**.\n",
        "\n",
        "#### 🔍 Idea clave:\n",
        "\n",
        "* La misma palabra (*banco*) tendrá **vectores diferentes** dependiendo del contexto si usamos **modelos contextuales** como BERT o RoBERTa.\n",
        "\n",
        "#### 📦 Ejemplo con `spaCy` (modelo contextual en español):\n",
        "\n"
      ],
      "metadata": {
        "id": "LKMGokJ6_yM_"
      }
    },
    {
      "cell_type": "code",
      "source": [
        "#!python -m spacy download es_core_news_md\n",
        "import spacy\n",
        "nlp = spacy.load(\"es_core_news_md\")\n",
        "\n",
        "doc1 = nlp(\"Fui al banco a depositar dinero\")\n",
        "doc2 = nlp(\"Me acosté en el banco del parque\")\n",
        "\n",
        "print(\"Similitud de 'banco' entre frases:\")\n",
        "\n",
        "print(doc1.similarity(doc2))  # palabra 'banco'\n",
        "\n",
        "\n"
      ],
      "metadata": {
        "colab": {
          "base_uri": "https://localhost:8080/"
        },
        "id": "BLafCwD1AI6m",
        "outputId": "cacd971d-14db-4124-a5c2-4862a84eda40"
      },
      "execution_count": null,
      "outputs": [
        {
          "output_type": "stream",
          "name": "stdout",
          "text": [
            "Collecting es-core-news-md==3.8.0\n",
            "  Downloading https://github.com/explosion/spacy-models/releases/download/es_core_news_md-3.8.0/es_core_news_md-3.8.0-py3-none-any.whl (42.3 MB)\n",
            "\u001b[2K     \u001b[90m━━━━━━━━━━━━━━━━━━━━━━━━━━━━━━━━━━━━━━━━\u001b[0m \u001b[32m42.3/42.3 MB\u001b[0m \u001b[31m10.3 MB/s\u001b[0m eta \u001b[36m0:00:00\u001b[0m\n",
            "\u001b[?25h\u001b[38;5;2m✔ Download and installation successful\u001b[0m\n",
            "You can now load the package via spacy.load('es_core_news_md')\n",
            "\u001b[38;5;3m⚠ Restart to reload dependencies\u001b[0m\n",
            "If you are in a Jupyter or Colab notebook, you may need to restart Python in\n",
            "order to load all the package's dependencies. You can do this by selecting the\n",
            "'Restart kernel' or 'Restart runtime' option.\n",
            "Similitud de 'banco' entre frases:\n",
            "0.9908387064933777\n"
          ]
        }
      ]
    },
    {
      "cell_type": "markdown",
      "source": [
        "👉 Un valor cercano a 0 implica sentidos distintos; cercano a 1 indica similaridad semántica.\n",
        "\n",
        "---\n",
        "\n",
        "## 🔬 Técnicas de desambiguación más avanzadas\n",
        "\n",
        "| Técnica                           | Ventaja                                   | Limitación                              |\n",
        "| --------------------------------- | ----------------------------------------- | --------------------------------------- |\n",
        "| Reglas lingüísticas               | Interpretables                            | No escalables                           |\n",
        "| Estadísticas (frecuencia)         | Simples, efectivas en dominios acotados   | Poco robustas ante contexto amplio      |\n",
        "| Word embeddings (Word2Vec, GloVe) | Capturan semántica general                | No distinguen sentidos por contexto     |\n",
        "| Contextual embeddings (BERT, etc) | Altísima precisión                        | Costosos y opacos (poca explicabilidad) |\n",
        "| Modelos supervisados (WSD)        | Aprenden a desambiguar si hay anotaciones | Requiere corpus etiquetado              |\n",
        "\n",
        "---\n",
        "\n",
        "## 🧠 ¿Qué es Word Sense Disambiguation (WSD)?\n",
        "\n",
        "Es la tarea de asignar **el significado correcto** a una palabra ambigua según su contexto.\n",
        "\n",
        "📦 Datasets clásicos:\n",
        "\n",
        "* **SemCor**\n",
        "* **WordNet**\n",
        "* **Multilingual WSD Corpora**\n",
        "\n",
        "🛠️ Algoritmos comunes:\n",
        "\n",
        "* Lesk (basado en superposición de definiciones)\n",
        "* SVM / Random Forest con features\n",
        "* BERT fine-tuned para WSD\n",
        "\n",
        "---\n",
        "\n",
        "\n",
        "## 🔁 Actividad práctica sugerida\n",
        "\n",
        "1. Recolecta 5 frases con palabras polisémicas frecuentes en español: *banco*, *papel*, *clave*, *sierra*, *ratón*.\n",
        "2. Escribe reglas para desambiguarlas.\n",
        "3. Luego, usa `spaCy` o un modelo de transformers para obtener embeddings y comparar su representación.\n",
        "\n",
        "---\n",
        "\n",
        "## ✅ Conclusión\n",
        "\n",
        "> “El lenguaje no solo dice cosas, sino que también **oculta posibilidades**. El reto del PLN es **decidir cuál de todas es la correcta en cada contexto**.”\n",
        "\n",
        "La ambigüedad es el **corazón del reto lingüístico**. Solo con técnicas sofisticadas, entrenamiento contextual, y modelos semánticos profundos, podemos resolverla con precisión. Pero aún hoy, sigue siendo una **frontera activa de investigación**.\n",
        "\n",
        "---\n"
      ],
      "metadata": {
        "id": "MhC7kriyARq3"
      }
    },
    {
      "cell_type": "markdown",
      "source": [
        "# ⚖️ Consideraciones éticas y sesgos en PLN\n",
        "\n",
        "El procesamiento de lenguaje natural no es solo una cuestión técnica. Es también un problema profundamente **social y ético**. Los modelos de PLN aprenden del lenguaje humano —y con ello, reproducen (o incluso amplifican) los **sesgos, prejuicios y desigualdades** presentes en los datos con los que fueron entrenados.\n",
        "\n",
        "---\n",
        "\n",
        "## 🧠 ¿Qué son los sesgos en PLN?\n",
        "\n",
        "En el contexto del PLN, un **sesgo** es una tendencia sistemática en los datos o en el comportamiento de un modelo que favorece a ciertos grupos, significados o decisiones sobre otros, de manera no justificada.\n",
        "\n",
        "Los sesgos pueden provenir de:\n",
        "\n",
        "* 🔎 **Los datos**: si el corpus está desbalanceado o refleja estereotipos sociales.\n",
        "* 🔧 **El diseño del modelo**: por ejemplo, cómo trata las palabras raras, géneros o idiomas minoritarios.\n",
        "* 🧠 **La interpretación del usuario**: un sistema mal evaluado puede llevar a decisiones injustas.\n",
        "\n",
        "---\n",
        "\n",
        "## 🧪 Tipos comunes de sesgos\n",
        "\n",
        "### 👩‍🦰 Género\n",
        "\n",
        "Muchos modelos asocian profesiones o adjetivos a géneros estereotipados:\n",
        "\n",
        "* *“La enfermera era amable”* → femenino\n",
        "* *“El ingeniero era brillante”* → masculino\n",
        "\n",
        "🔍 Ejemplo en traducción automática (Google Translate antes de 2019):\n",
        "\n",
        "> *He is a doctor. She is a nurse.*\n",
        "> (Traducción desde turco, que no marca género: *o bir doktor / o bir hemşire*)\n",
        "\n",
        "---\n",
        "\n",
        "### 🧑🏿 Raza y etnicidad\n",
        "\n",
        "Modelos entrenados en corpus sesgados pueden asociar nombres o palabras relacionadas con comunidades racializadas a conceptos negativos.\n",
        "\n",
        "🛑 Ejemplo:\n",
        "\n",
        "* Modelos de completado automático que asocian nombres africanos o latinos con palabras como “violento”, “ilegal”, “pobre”.\n",
        "\n",
        "---\n",
        "\n",
        "### 🌍 Geografía y cultura\n",
        "\n",
        "Los modelos preentrenados en inglés americano o castellano europeo tienden a penalizar:\n",
        "\n",
        "* Modismos regionales\n",
        "* Referencias locales\n",
        "* Ortografía no estándar\n",
        "\n",
        "📌 Ejemplo:\n",
        "\n",
        "* “chido”, “jato”, “chevere” son tratados como errores o ignorados, aunque sean comunes en ciertas regiones.\n",
        "\n",
        "---\n",
        "\n",
        "### 🧠 Discriminación por representación\n",
        "\n",
        "Cuando los datos no contienen suficiente representación de un grupo o fenómeno, los modelos tienden a **fallar o ignorarlos**.\n",
        "\n",
        "Ejemplo:\n",
        "\n",
        "* Reconocimiento de entidades nombradas (NER) falla con nombres indígenas o no occidentales.\n",
        "\n",
        "---\n",
        "\n",
        "## 🧭 Principios éticos en PLN\n",
        "\n",
        "### ⚖️ Equidad (Fairness)\n",
        "\n",
        "* Que el modelo **no discrimine** entre grupos sin justificación técnica o social.\n",
        "* Que tenga **desempeño comparable** entre diferentes grupos demográficos.\n",
        "\n",
        "### 🔎 Transparencia\n",
        "\n",
        "* Que el sistema pueda ser **auditado, explicado y comprendido** por humanos.\n",
        "* Explicar *qué datos* se usaron y *cómo* se tomó una decisión.\n",
        "\n",
        "### 🤖 Explicabilidad (Explainability)\n",
        "\n",
        "* Que se pueda seguir el razonamiento del modelo (aunque sea complejo).\n",
        "* Muy importante en contextos sensibles: justicia, salud, finanzas.\n",
        "\n",
        "---\n",
        "\n",
        "## 📚 Casos reales y controversias\n",
        "\n",
        "| Año  | Caso                      | Descripción                                                                    |\n",
        "| ---- | ------------------------- | ------------------------------------------------------------------------------ |\n",
        "| 2018 | **GPT-2**                 | Mostraba fuertes sesgos de género y raza en predicciones.                      |\n",
        "| 2020 | **BERT**                  | Clasificaba frases con términos femeninos como menos confiables.               |\n",
        "| 2021 | **Amazon Hiring AI**      | Descartaba sistemáticamente CVs con palabras asociadas a mujeres.              |\n",
        "| 2022 | **Facebook Translations** | Tradujo mal contenido entre lenguas africanas causando tensiones diplomáticas. |\n",
        "\n",
        "---\n",
        "\n",
        "## 🧪 Diagnóstico de sesgos\n",
        "\n",
        "Ejemplo simple de evaluación de sesgo con embeddings:\n",
        "\n"
      ],
      "metadata": {
        "id": "u9yRrzYsW14v"
      }
    },
    {
      "cell_type": "code",
      "source": [
        "import spacy\n",
        "\n",
        "nlp = spacy.load(\"es_core_news_md\")\n",
        "w_mujer = nlp(\"mujer\")\n",
        "w_hombre = nlp(\"hombre\")\n",
        "\n",
        "for profesion in [\"ingeniero\", \"enfermero\", \"maestro\", \"secretario\", \"juez\"]:\n",
        "    p = nlp(profesion)\n",
        "    sim_m = p.similarity(w_hombre)\n",
        "    sim_f = p.similarity(w_mujer)\n",
        "    print(f\"{profesion}: hombre={sim_m:.3f} / mujer={sim_f:.3f}\")\n",
        "\n",
        "\n"
      ],
      "metadata": {
        "colab": {
          "base_uri": "https://localhost:8080/"
        },
        "id": "XYuQLj7TKt54",
        "outputId": "fa6492e5-f260-47ed-a28a-1ddf88dfdde8"
      },
      "execution_count": null,
      "outputs": [
        {
          "output_type": "stream",
          "name": "stdout",
          "text": [
            "ingeniero: hombre=0.171 / mujer=-0.003\n",
            "enfermero: hombre=0.189 / mujer=0.316\n",
            "maestro: hombre=0.377 / mujer=0.158\n",
            "secretario: hombre=0.100 / mujer=0.015\n",
            "juez: hombre=0.244 / mujer=0.128\n"
          ]
        }
      ]
    },
    {
      "cell_type": "markdown",
      "source": [
        "🔎 Si las similitudes son consistentemente desbalanceadas, puede haber **bias en el espacio semántico**.\n",
        "\n",
        "---\n",
        "\n",
        "## 🛡️ ¿Cómo mitigar los sesgos?\n",
        "\n",
        "### A. Durante el preprocesamiento:\n",
        "\n",
        "* Curar datasets balanceados\n",
        "* Eliminar o etiquetar lenguaje ofensivo\n",
        "* Aumentar representación de grupos minoritarios\n",
        "\n",
        "### B. En el modelado:\n",
        "\n",
        "* Usar técnicas de *debiasing* (e.g. projection neutralization, adversarial training)\n",
        "* Ajustar funciones de pérdida para penalizar discriminación\n",
        "\n",
        "### C. En la evaluación:\n",
        "\n",
        "* Evaluar el modelo **en distintos subgrupos**\n",
        "* Usar métricas de equidad: **Equal Opportunity**, **Demographic Parity**, etc.\n",
        "\n",
        "---\n",
        "\n",
        "## 🧠 Más allá de la técnica: reflexiones éticas\n",
        "\n",
        "> ¿Debe un sistema de PLN ser neutral?\n",
        "> ¿Podemos entrenar modelos que entiendan justicia, equidad, diversidad?\n",
        "\n",
        "No basta con “funcionar bien”. Debemos preguntarnos:\n",
        "\n",
        "* ¿A quién puede dañar este modelo?\n",
        "* ¿A quién representa y a quién no?\n",
        "* ¿Qué visión del mundo está codificando?\n",
        "\n",
        "---\n",
        "\n",
        "## 🧭 Conclusión\n",
        "\n",
        "> “El PLN puede reproducir las voces del mundo... o silenciar algunas. Nuestro trabajo es asegurarnos de lo primero.”\n",
        "\n",
        "El desarrollo responsable de PLN no es solo deseable: es **indispensable**. Requiere colaboración entre ingenieros, lingüistas, sociólogos y usuarios finales.\n",
        "\n",
        "---\n",
        "\n",
        "## 🧠 Actividades sugeridas\n",
        "\n",
        "* Analiza un dataset que uses en PLN. ¿A qué regiones, géneros, grupos sociales pertenece el lenguaje?\n",
        "* Evalúa un modelo de clasificación de texto para ver si sus errores se concentran en cierto tipo de usuario.\n",
        "* Propón una estrategia para mejorar la equidad en un sistema de PLN real.\n",
        "\n",
        "---\n",
        "\n",
        "## 📚 Recursos adicionales\n",
        "\n",
        "* Bender et al. (2021). *On the Dangers of Stochastic Parrots*.\n",
        "* Raji et al. (2020). *Closing the AI Accountability Gap*.\n",
        "* [https://www.partnershiponai.org/](https://www.partnershiponai.org/)\n",
        "* [https://huggingface.co/docs/transformers/model\\_doc/bias](https://huggingface.co/docs/transformers/model_doc/bias)\n",
        "\n",
        "---\n"
      ],
      "metadata": {
        "id": "p7O0HDAjKyDy"
      }
    }
  ]
}