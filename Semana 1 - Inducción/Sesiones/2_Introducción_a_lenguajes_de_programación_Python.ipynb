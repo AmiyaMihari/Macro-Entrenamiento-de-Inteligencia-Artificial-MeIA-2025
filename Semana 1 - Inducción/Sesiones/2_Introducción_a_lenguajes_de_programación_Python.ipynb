{
  "cells": [
    {
      "cell_type": "markdown",
      "metadata": {
        "id": "rH1iOK-SepYm"
      },
      "source": [
        "#Cuadernos de Jupyter Notebooks\n",
        "<p align=\"justify\">Jupyter Notebook es una herramienta interactiva y de código abierto diseñada para crear y compartir documentos que contienen código ejecutable, texto formateado, visualizaciones y otros elementos multimedia. Es especialmente popular en los campos de la ciencia de datos, la inteligencia artificial y la investigación académica, ya que permite combinar código y documentación en un solo documento.</p>\n"
      ]
    },
    {
      "cell_type": "markdown",
      "metadata": {
        "id": "AqGVCvC2fE3p"
      },
      "source": [
        "##Características principales:\n",
        "  1. Celdas interactivas:\n",
        "        a. Los documentos están compuestos por celdas que pueden contener:\n",
        "            i. Código: Ejecutable en tiempo real.\n",
        "            ii. Texto: Escrito en Markdown para documentación, con soporte para ecuaciones en LaTeX.\n",
        "            iii. Resultados: Gráficas, tablas y salidas del código ejecutado.\n",
        "  2. Compatibilidad con múltiples lenguajes:\n",
        "        a. Aunque está diseñado principalmente para Python, también soporta otros lenguajes mediante kernels (por ejemplo, R, Julia, C++, entre otros).\n",
        "  3. Entorno flexible:\n",
        "          a. Permite probar fragmentos de código sin necesidad de compilar un programa completo.\n",
        "          b. Es ideal para análisis exploratorio de datos y prototipado de modelos."
      ]
    },
    {
      "cell_type": "markdown",
      "metadata": {
        "id": "yzKG7Rtxi-30"
      },
      "source": [
        "#COLAB en particular\n",
        "1. Entorno similar a Jupyter Notebook:\n",
        "        a. Google Colab utiliza un formato de notebook, donde puedes combinar celdas de código ejecutable con texto en Markdown y ecuaciones en LaTeX.\n",
        "2. Ejecución en la nube:\n",
        "        a. Los notebooks se ejecutan en servidores remotos de Google, lo que significa que no necesitas una computadora potente para trabajar en proyectos exigentes.\n",
        "        b. Ofrece acceso gratuito a hardware acelerado, como GPUs y TPUs.\n",
        "3. Acceso gratuito:\n",
        "        a. Google Colab es completamente gratuito, aunque también tiene una versión de pago (Colab Pro) que ofrece más recursos, como tiempos de ejecución más largos y acceso prioritario a GPUs.\n",
        "4. Integración con Google Drive:\n",
        "        a. Los notebooks se guardan automáticamente en Google Drive, lo que facilita su acceso, edición y colaboración en tiempo real con otros usuarios.\n",
        "5. Compatibilidad con bibliotecas populares:\n",
        "        a. Incluye bibliotecas preinstaladas como NumPy, Pandas, TensorFlow, PyTorch, Matplotlib, entre otras. También puedes instalar otras bibliotecas usando pip."
      ]
    },
    {
      "cell_type": "markdown",
      "metadata": {
        "id": "k0oiPu3_fXqh"
      },
      "source": [
        "#Ejemplo de imagen\n",
        "<img src='https://pbs.twimg.com/media/FUIh6EEXwAApjae.jpg'>"
      ]
    },
    {
      "cell_type": "markdown",
      "metadata": {
        "id": "PqvPFPq5iVZw"
      },
      "source": [
        "#Ejemplo Latex\n",
        "\n",
        "$\\int^{∞}_{-\\infty}\\frac{1}{\\sqrt{2\\sigma^{2}\\pi }}e^{-\\frac{(x-\\mu)^{2}}{2\\sigma^{2}}}$"
      ]
    },
    {
      "cell_type": "markdown",
      "metadata": {
        "id": "IjvzsLttjUHl"
      },
      "source": [
        "#Python\n",
        "<p align=\"justify\">Python es un lenguaje de programación de alto nivel, conocido por su simplicidad y legibilidad. Sus ventajas incluyen una sintaxis clara, una amplia comunidad y numerosas bibliotecas, lo que lo hace ideal para principiantes y expertos. Sin embargo, su naturaleza interpretada puede resultar en una menor velocidad de ejecución en comparación con lenguajes compilados.\n",
        "</p>\n",
        "\n",
        "Características de Python\n",
        "  * Lenguaje Interpretado: Python ejecuta el código línea por línea, lo que facilita la detección de errores.\n",
        "  * Sintaxis Sencilla: Utiliza una sintaxis similar al inglés, lo que lo hace intuitivo y fácil de aprender.\n",
        "  * Multiparadigma: Soporta programación orientada a objetos, estructurada y funcional.\n",
        "  * Bibliotecas y Frameworks: Cuenta con una extensa biblioteca estándar y muchas bibliotecas de terceros para diversas aplicaciones.\n"
      ]
    },
    {
      "cell_type": "markdown",
      "metadata": {
        "id": "J34ExzEVj1Yw"
      },
      "source": [
        "#PIP!\n",
        "\n",
        "Python Pip (abreviatura de Pip Installs Packages) es el gestor de paquetes oficial de Python. Permite instalar, actualizar y gestionar bibliotecas y paquetes desarrollados en Python, facilitando el acceso a un vasto ecosistema de herramientas y módulos disponibles en el Python Package Index (PyPI).\n",
        "\n",
        "Características principales:\n",
        "  1. Instalación de paquetes:\n",
        "        * Pip descarga e instala automáticamente paquetes de PyPI y sus dependencias necesarias.\n",
        "        * Ejemplo:\n",
        "        * Se ejecuta en la terminal (Linux/mac) o símbolo del sistema (windows).\n",
        "        *  pip install numpy\n",
        "        * Esto instalará el paquete numpy y cualquier otra biblioteca que este requiera.\n",
        "  2. Actualización de paquetes:\n",
        "    * Permite actualizar las versiones de los paquetes instalados.\n",
        "    * Ejemplo:\n",
        "    * pip install –upgrade pandas\n",
        "\n",
        "  3. Desinstalación de paquetes:\n",
        "    * También puede eliminar paquetes instalados.\n",
        "Ejemplo:\n",
        "    * pip uninstall matplotlib"
      ]
    },
    {
      "cell_type": "code",
      "execution_count": 3,
      "metadata": {
        "colab": {
          "base_uri": "https://localhost:8080/"
        },
        "id": "DQZFCmfokLCd",
        "outputId": "695352ce-88b7-45ac-de7d-1269523aaa21"
      },
      "outputs": [
        {
          "name": "stdout",
          "output_type": "stream",
          "text": [
            "Collecting pprintpp\n",
            "  Downloading pprintpp-0.4.0-py2.py3-none-any.whl.metadata (7.9 kB)\n",
            "Downloading pprintpp-0.4.0-py2.py3-none-any.whl (16 kB)\n",
            "Installing collected packages: pprintpp\n",
            "Successfully installed pprintpp-0.4.0\n"
          ]
        }
      ],
      "source": [
        "!pip install pprintpp"
      ]
    },
    {
      "cell_type": "markdown",
      "metadata": {
        "id": "vl4iHFJ9kl4z"
      },
      "source": [
        "#Variables\n",
        "<p align=\"justify\">Una variable en un lenguaje de programación es un espacio de almacenamiento que se utiliza para guardar datos que pueden cambiar durante la ejecución de un programa. Las variables permiten a los programadores almacenar información, manipularla y acceder a ella de manera eficiente. A continuación, se detallan algunos aspectos clave sobre las variables:</p>\n",
        "\n",
        "Declaración y Asignación\n",
        "  * Declaración: En muchos lenguajes, se debe declarar una variable antes de usarla. Esto puede implicar especificar su tipo (por ejemplo, entero, cadena, etc.) o simplemente asignarle un valor.\n",
        "  * Asignación: Se asigna un valor a la variable utilizando el operador de asignación (por ejemplo, = en Python)."
      ]
    },
    {
      "cell_type": "code",
      "execution_count": 4,
      "metadata": {
        "colab": {
          "base_uri": "https://localhost:8080/"
        },
        "id": "KhxCpbYykeBI",
        "outputId": "b45dda04-d270-4ca4-9653-368c43df342a"
      },
      "outputs": [
        {
          "name": "stdout",
          "output_type": "stream",
          "text": [
            "Nombre:  Ana\n",
            "Edad:  25\n",
            "Altura:  1.65\n"
          ]
        }
      ],
      "source": [
        "edad = 25\n",
        "nombre = \"Ana\"\n",
        "altura = 1.65\n",
        "\n",
        "print(\"Nombre: \", nombre)\n",
        "print(\"Edad: \", edad)\n",
        "print(\"Altura: \", altura)"
      ]
    },
    {
      "cell_type": "markdown",
      "metadata": {
        "id": "QFRfn9KOlXYa"
      },
      "source": [
        "modificando una variable"
      ]
    },
    {
      "cell_type": "code",
      "execution_count": 5,
      "metadata": {
        "colab": {
          "base_uri": "https://localhost:8080/"
        },
        "id": "PWvDo_QUlU8_",
        "outputId": "5e4fc9f9-a6f6-496d-9ae7-dddd335f674d"
      },
      "outputs": [
        {
          "name": "stdout",
          "output_type": "stream",
          "text": [
            "Nueva edad:  26\n"
          ]
        }
      ],
      "source": [
        "edad += 1\n",
        "print(\"Nueva edad: \",edad)"
      ]
    },
    {
      "cell_type": "markdown",
      "metadata": {
        "id": "05cCo8L3lixx"
      },
      "source": [
        "##Tipos de datos básicos\n",
        "\n",
        "Python tiene los mismos datos básicos que otros lenguajes: enteros, flotantes, strings y booleanos. Además, las listas son un tipo predefinido en el lenguaje."
      ]
    },
    {
      "cell_type": "code",
      "execution_count": 6,
      "metadata": {
        "id": "i3UNZadMlfEg"
      },
      "outputs": [],
      "source": [
        "#Enteros\n",
        "X = 1"
      ]
    },
    {
      "cell_type": "code",
      "execution_count": 7,
      "metadata": {
        "id": "DJl54NZzlqcu"
      },
      "outputs": [],
      "source": [
        "#Flotante\n",
        "Y = 3.5"
      ]
    },
    {
      "cell_type": "code",
      "execution_count": 8,
      "metadata": {
        "id": "6Q2-fbIZluYQ"
      },
      "outputs": [],
      "source": [
        "#Booleanos\n",
        "A = True"
      ]
    },
    {
      "cell_type": "code",
      "execution_count": 9,
      "metadata": {
        "id": "OU3hxentlzFU"
      },
      "outputs": [],
      "source": [
        "#Listas\n",
        "lista = [1,2,3.4,6,'algo']"
      ]
    },
    {
      "cell_type": "code",
      "execution_count": 10,
      "metadata": {
        "colab": {
          "base_uri": "https://localhost:8080/"
        },
        "id": "-HAZ4rr_l400",
        "outputId": "7369f9c7-bcb5-4192-a1df-1a3d66d7d4dc"
      },
      "outputs": [
        {
          "name": "stdout",
          "output_type": "stream",
          "text": [
            "X:  1\n",
            "Y:  3.5\n",
            "A:  True\n",
            "lista:  [1, 2, 3.4, 6, 'algo']\n"
          ]
        }
      ],
      "source": [
        "print(\"X: \",X)\n",
        "print(\"Y: \",Y)\n",
        "print(\"A: \",A)\n",
        "print(\"lista: \",lista)"
      ]
    },
    {
      "cell_type": "markdown",
      "metadata": {
        "id": "w-rB36avmG8Z"
      },
      "source": [
        "## Más sobre listas\n",
        "  1. Ordenadas: Los elementos en una lista tienen un orden específico, lo que significa que se pueden acceder a ellos mediante su índice (posición en la lista).\n",
        "  2. Mutables: Las listas son mutables, lo que significa que puedes modificar su contenido después de haberlas creado. Puedes agregar, eliminar o cambiar elementos.\n",
        "  3. Pueden Contener Diferentes Tipos de Datos: Una lista puede contener elementos de diferentes tipos, como números, cadenas, booleanos, e incluso otras listas.\n",
        "  4. Indexación: Los índices en Python comienzan en 0, lo que significa que el primer elemento de la lista se encuentra en la posición 0, el segundo en la posición 1, y así sucesivamente."
      ]
    },
    {
      "cell_type": "code",
      "execution_count": 11,
      "metadata": {
        "colab": {
          "base_uri": "https://localhost:8080/"
        },
        "id": "gGZ-TfhFmD1z",
        "outputId": "18a99686-ac44-4939-e886-536250c06e6c"
      },
      "outputs": [
        {
          "name": "stdout",
          "output_type": "stream",
          "text": [
            "Cadena:  algo\n"
          ]
        }
      ],
      "source": [
        "#ingresando al elemento con una cadena de texto de la lista\n",
        "print(\"Cadena: \",lista[4])"
      ]
    },
    {
      "cell_type": "code",
      "execution_count": 12,
      "metadata": {
        "colab": {
          "base_uri": "https://localhost:8080/"
        },
        "id": "l8O4XAlT16AX",
        "outputId": "86948c7e-7e94-427f-9ef2-38a7ea66164c"
      },
      "outputs": [
        {
          "name": "stdout",
          "output_type": "stream",
          "text": [
            "Cadena:  6\n"
          ]
        }
      ],
      "source": [
        "print(\"Cadena: \",lista[-2])"
      ]
    },
    {
      "cell_type": "code",
      "execution_count": 13,
      "metadata": {
        "colab": {
          "base_uri": "https://localhost:8080/"
        },
        "id": "hqLukj8l2G0Y",
        "outputId": "0364b62b-9e38-4ef7-a742-96781e233aae"
      },
      "outputs": [
        {
          "name": "stdout",
          "output_type": "stream",
          "text": [
            "[1, 2, 3.4, 6, 'algo', 'Jose']\n"
          ]
        }
      ],
      "source": [
        "lista.append('Jose')\n",
        "print(lista)"
      ]
    },
    {
      "cell_type": "code",
      "execution_count": 14,
      "metadata": {
        "colab": {
          "base_uri": "https://localhost:8080/"
        },
        "id": "8-laTyHZmbql",
        "outputId": "6f930900-2481-4aa4-a835-22b34a814ce2"
      },
      "outputs": [
        {
          "name": "stdout",
          "output_type": "stream",
          "text": [
            "Float:  3.4\n"
          ]
        }
      ],
      "source": [
        "#ingresando al elemento flotante\n",
        "print(\"Float: \",lista[2])"
      ]
    },
    {
      "cell_type": "markdown",
      "metadata": {
        "id": "-4ZNpOt1mzUh"
      },
      "source": [
        "#Estructuras de control en python\n",
        "\n",
        "<p = align=\"justify\">Las estructuras de control en Python son herramientas que permiten modificar el flujo de ejecución de un programa. Estas estructuras permiten tomar decisiones, repetir acciones y gestionar el flujo de datos, lo que es fundamental para crear programas que respondan a diferentes condiciones y realicen tareas de manera eficiente.</p>\n",
        "\n",
        "Tipos de Estructuras de Control\n",
        "  1. Estructuras de Control de Selección (Condicionales): Estas estructuras permiten ejecutar diferentes bloques de código según si se cumplen o no ciertas condiciones.\n",
        "    1. if: Ejecuta un bloque de código si la condición es verdadera.\n",
        "    2. elif: Permite verificar múltiples condiciones. Se utiliza después de un if.\n",
        "    3. else: Se ejecuta si ninguna de las condiciones anteriores es verdadera."
      ]
    },
    {
      "cell_type": "code",
      "execution_count": 15,
      "metadata": {
        "colab": {
          "base_uri": "https://localhost:8080/"
        },
        "id": "G8hJN067mkPE",
        "outputId": "71a6e0e9-ff1d-4644-c28f-0643ed09eaa5"
      },
      "outputs": [
        {
          "name": "stdout",
          "output_type": "stream",
          "text": [
            "Eres un viejillo\n"
          ]
        }
      ],
      "source": [
        "edad = 38\n",
        "\n",
        "if edad < 18:\n",
        "  acum = 1+1\n",
        "  print(\"Eres menor de edad\")\n",
        "elif edad == 18:\n",
        "  print(\"Eres mayor de edad\")\n",
        "else:\n",
        "  print(\"Eres un viejillo\")"
      ]
    },
    {
      "cell_type": "markdown",
      "metadata": {
        "id": "Q02Vg2FrnnUp"
      },
      "source": [
        "2. Estructuras de Control de Repetición (Bucles): Estas estructuras permiten ejecutar un bloque de código varias veces.\n",
        "    * for: Se utiliza para iterar sobre una secuencia (como una lista, tupla o cadena).\n",
        "    * while: Ejecuta un bloque de código mientras una condición sea verdadera."
      ]
    },
    {
      "cell_type": "code",
      "execution_count": 16,
      "metadata": {
        "colab": {
          "base_uri": "https://localhost:8080/"
        },
        "id": "ODqvU5sGtW-V",
        "outputId": "37c1cc4f-3604-46ec-f1bf-4f8e22968fdc"
      },
      "outputs": [
        {
          "data": {
            "text/plain": [
              "[0, 1, 2, 3, 4]"
            ]
          },
          "execution_count": 16,
          "metadata": {},
          "output_type": "execute_result"
        }
      ],
      "source": [
        "[*range(5)]"
      ]
    },
    {
      "cell_type": "code",
      "execution_count": 17,
      "metadata": {
        "colab": {
          "base_uri": "https://localhost:8080/"
        },
        "id": "OVG90ApZ33Qh",
        "outputId": "e4efb0d4-cf80-4e11-97c4-463a9e594155"
      },
      "outputs": [
        {
          "name": "stdout",
          "output_type": "stream",
          "text": [
            "3\n",
            "4\n",
            "7\n",
            "9\n",
            "10\n"
          ]
        }
      ],
      "source": [
        "lista = [3,4,7,9,10]\n",
        "for i in lista:\n",
        "  print(i)"
      ]
    },
    {
      "cell_type": "code",
      "execution_count": 18,
      "metadata": {
        "colab": {
          "base_uri": "https://localhost:8080/"
        },
        "id": "u4qKom_jnhtH",
        "outputId": "5601b83f-89d3-41b6-e436-051ff4919bb0"
      },
      "outputs": [
        {
          "name": "stdout",
          "output_type": "stream",
          "text": [
            "0\n",
            "1\n",
            "2\n",
            "3\n",
            "4\n"
          ]
        }
      ],
      "source": [
        "for i in range(5):\n",
        "  print(i)"
      ]
    },
    {
      "cell_type": "code",
      "execution_count": 19,
      "metadata": {
        "colab": {
          "base_uri": "https://localhost:8080/"
        },
        "id": "grHrRUeqnwgo",
        "outputId": "5836c6d0-80b9-4e87-b36f-aa44319e66be"
      },
      "outputs": [
        {
          "name": "stdout",
          "output_type": "stream",
          "text": [
            "Tienes: 1 años\n",
            "Tienes: 2 años\n",
            "Tienes: 3 años\n",
            "Tienes: 4 años\n",
            "Tienes: 5 años\n",
            "Tienes: 6 años\n",
            "Tienes: 7 años\n",
            "Tienes: 8 años\n",
            "Tienes: 9 años\n",
            "Tienes: 10 años\n",
            "Tienes: 11 años\n",
            "Tienes: 12 años\n",
            "Tienes: 13 años\n",
            "Tienes: 14 años\n",
            "Tienes: 15 años\n",
            "Tienes: 16 años\n",
            "Tienes: 17 años\n",
            "Tienes: 18 años\n",
            "Tienes: 19 años\n",
            "Tienes: 20 años\n",
            "Tienes: 21 años\n",
            "Tienes: 22 años\n",
            "Tienes: 23 años\n",
            "Tienes: 24 años\n",
            "Tienes: 25 años\n",
            "Tienes: 26 años\n",
            "Tienes: 27 años\n",
            "Tienes: 28 años\n",
            "Tienes: 29 años\n",
            "Tienes: 30 años\n",
            "Tienes: 31 años\n",
            "Tienes: 32 años\n",
            "Tienes: 33 años\n",
            "Tienes: 34 años\n",
            "Tienes: 35 años\n",
            "Tienes: 36 años\n",
            "Tienes: 37 años\n",
            "Tienes: 38 años\n"
          ]
        }
      ],
      "source": [
        "for i in range(edad):\n",
        "  print(f\"Tienes: {i+1} años\")"
      ]
    },
    {
      "cell_type": "code",
      "execution_count": 20,
      "metadata": {
        "colab": {
          "base_uri": "https://localhost:8080/"
        },
        "id": "Ub25sycbn5QF",
        "outputId": "b7405c48-5386-41a8-96c8-830d58c0b95c"
      },
      "outputs": [
        {
          "name": "stdout",
          "output_type": "stream",
          "text": [
            "0\n",
            "1\n",
            "2\n",
            "3\n",
            "4\n"
          ]
        }
      ],
      "source": [
        "#WHILE\n",
        "contador = 0\n",
        "while contador < 5:\n",
        "  print(contador)\n",
        "  contador+=1"
      ]
    },
    {
      "cell_type": "code",
      "execution_count": 21,
      "metadata": {
        "colab": {
          "base_uri": "https://localhost:8080/"
        },
        "id": "_y5tJhOboEHt",
        "outputId": "6d3283c0-5787-40b3-b9fe-3f68c1950fa7"
      },
      "outputs": [
        {
          "name": "stdout",
          "output_type": "stream",
          "text": [
            "Aun entra al ciclo por que tienes: 1 años\n",
            "Aun entra al ciclo por que tienes: 2 años\n",
            "Aun entra al ciclo por que tienes: 3 años\n",
            "Aun entra al ciclo por que tienes: 4 años\n",
            "Aun entra al ciclo por que tienes: 5 años\n",
            "Aun entra al ciclo por que tienes: 6 años\n",
            "Aun entra al ciclo por que tienes: 7 años\n",
            "Aun entra al ciclo por que tienes: 8 años\n",
            "Aun entra al ciclo por que tienes: 9 años\n",
            "Aun entra al ciclo por que tienes: 10 años\n",
            "Aun entra al ciclo por que tienes: 11 años\n",
            "Aun entra al ciclo por que tienes: 12 años\n",
            "Aun entra al ciclo por que tienes: 13 años\n",
            "Aun entra al ciclo por que tienes: 14 años\n",
            "Aun entra al ciclo por que tienes: 15 años\n",
            "Aun entra al ciclo por que tienes: 16 años\n",
            "Aun entra al ciclo por que tienes: 17 años\n",
            "Aun entra al ciclo por que tienes: 18 años\n",
            "Aun entra al ciclo por que tienes: 19 años\n",
            "Aun entra al ciclo por que tienes: 20 años\n",
            "Aun entra al ciclo por que tienes: 21 años\n",
            "Aun entra al ciclo por que tienes: 22 años\n",
            "Aun entra al ciclo por que tienes: 23 años\n",
            "Aun entra al ciclo por que tienes: 24 años\n",
            "Aun entra al ciclo por que tienes: 25 años\n",
            "Aun entra al ciclo por que tienes: 26 años\n",
            "Aun entra al ciclo por que tienes: 27 años\n",
            "Aun entra al ciclo por que tienes: 28 años\n",
            "Aun entra al ciclo por que tienes: 29 años\n",
            "Aun entra al ciclo por que tienes: 30 años\n",
            "Aun entra al ciclo por que tienes: 31 años\n",
            "Aun entra al ciclo por que tienes: 32 años\n",
            "Aun entra al ciclo por que tienes: 33 años\n",
            "Aun entra al ciclo por que tienes: 34 años\n",
            "Aun entra al ciclo por que tienes: 35 años\n",
            "Aun entra al ciclo por que tienes: 36 años\n",
            "Aun entra al ciclo por que tienes: 37 años\n",
            "Aun entra al ciclo por que tienes: 38 años\n"
          ]
        }
      ],
      "source": [
        "contador = 1\n",
        "while contador <= edad:\n",
        "  print(f\"Aun entra al ciclo por que tienes: {contador} años\")\n",
        "  contador+=1\n"
      ]
    },
    {
      "cell_type": "markdown",
      "metadata": {
        "id": "7LYrnQ-2oa85"
      },
      "source": [
        "3. Estructuras de Control de Salida: Estas estructuras permiten salir de un bucle o función antes de que se complete su ejecución.\n",
        " * break: Termina el bucle actual y sale de él.\n",
        " * continue: Salta a la siguiente iteración del bucle, omitiendo el resto del código en la iteración actual.\n",
        " * return: Sale de una función y opcionalmente devuelve un valor."
      ]
    },
    {
      "cell_type": "code",
      "execution_count": 22,
      "metadata": {
        "colab": {
          "base_uri": "https://localhost:8080/"
        },
        "id": "kDWNP5zWoNlS",
        "outputId": "d16df63a-a9be-49da-ac42-e69fb2742e76"
      },
      "outputs": [
        {
          "name": "stdout",
          "output_type": "stream",
          "text": [
            "0\n",
            "1\n",
            "2\n",
            "3\n",
            "4\n",
            "\n",
            " Se va a salir del bucle \n",
            "\n"
          ]
        }
      ],
      "source": [
        "for i in range(10):\n",
        "  if i == 5:\n",
        "    print(\"\\n Se va a salir del bucle \\n\")\n",
        "    break #Sale del bucle\n",
        "  print(i)"
      ]
    },
    {
      "cell_type": "code",
      "execution_count": 23,
      "metadata": {
        "colab": {
          "base_uri": "https://localhost:8080/"
        },
        "id": "eRf00pDKophJ",
        "outputId": "bae14a51-6324-44e5-87fb-8a4a7ca7c564"
      },
      "outputs": [
        {
          "name": "stdout",
          "output_type": "stream",
          "text": [
            "0\n",
            "1\n",
            "3\n",
            "4\n",
            "5\n",
            "6\n",
            "7\n",
            "8\n",
            "9\n"
          ]
        }
      ],
      "source": [
        "#Continue\n",
        "for i in range(10):\n",
        "  if i == 2:\n",
        "    continue # Salta cuando la i == 2\n",
        "  print(i)"
      ]
    },
    {
      "cell_type": "markdown",
      "metadata": {
        "id": "TbxCnSE_pFzS"
      },
      "source": [
        "¿Para Qué Sirven las Estructuras de Control?\n",
        "Las estructuras de control son fundamentales en la programación porque:\n",
        "  * Toman Decisiones: Permiten que el programa responda a diferentes condiciones y situaciones, lo que es esencial para la lógica de negocio.\n",
        "  * Repetición de Tareas: Facilitan la ejecución de tareas repetitivas sin necesidad de duplicar código, lo que mejora la eficiencia y la legibilidad.\n",
        "  * Control del Flujo: Permiten gestionar cómo y cuándo se ejecutan diferentes partes del código, lo que es crucial para el desarrollo de algoritmos complejos.\n",
        "  * Manejo de Errores: Junto con otras estructuras, como try y except, permiten manejar excepciones y errores de manera controlada."
      ]
    },
    {
      "cell_type": "markdown",
      "metadata": {
        "id": "c-Qv9RwTpjD8"
      },
      "source": [
        "##Funciones\n",
        "\n",
        "<p = align=\"justify\">Las funciones en Python son bloques de código reutilizables que realizan una tarea específica. Se definen una vez y se pueden llamar múltiples veces a lo largo de un programa, lo que ayuda a organizar el código, mejorar su legibilidad y facilitar su mantenimiento. Las funciones pueden aceptar parámetros (entradas) y pueden devolver valores (salidas).</p>\n",
        "\n",
        "¿Qué son las Funciones?\n",
        "  1. Definición: Una función es un conjunto de instrucciones que se agrupan bajo un nombre específico. Se define utilizando la palabra clave def, seguida del nombre de la función y paréntesis que pueden incluir parámetros.\n",
        "  2. Parámetros: Las funciones pueden aceptar entradas, conocidas como parámetros o argumentos. Estos permiten que la función opere sobre diferentes datos.\n",
        "  3. Valor de Retorno: Las funciones pueden devolver un valor utilizando la palabra clave return. Si no se especifica un valor de retorno, la función devolverá None por defecto."
      ]
    },
    {
      "cell_type": "code",
      "execution_count": 24,
      "metadata": {
        "colab": {
          "base_uri": "https://localhost:8080/"
        },
        "id": "jciDN_ZKo7lD",
        "outputId": "40065463-89c8-46ca-91df-d1631abc47d0"
      },
      "outputs": [
        {
          "name": "stdout",
          "output_type": "stream",
          "text": [
            "\n",
            "Calificación final: 6.666666666666667\n",
            "\n"
          ]
        }
      ],
      "source": [
        "#Simple regla de 3\n",
        "def calif(aciertos,reactivos):\n",
        "  cal = (aciertos*10)/reactivos\n",
        "  return cal\n",
        "\n",
        "#Ejemplo\n",
        "aciertos = 4\n",
        "reactivos = 6\n",
        "print(f\"\\nCalificación final: {calif(aciertos,reactivos)}\\n\")"
      ]
    },
    {
      "cell_type": "markdown",
      "metadata": {
        "id": "rQg0ZxNblijY"
      },
      "source": [
        "##Otra función"
      ]
    },
    {
      "cell_type": "code",
      "execution_count": 25,
      "metadata": {
        "colab": {
          "base_uri": "https://localhost:8080/"
        },
        "id": "1sqs5zDdqPCI",
        "outputId": "15044b61-fe92-4abe-9f01-b144e1fb69b9"
      },
      "outputs": [
        {
          "name": "stdout",
          "output_type": "stream",
          "text": [
            "8\n"
          ]
        }
      ],
      "source": [
        "def sumar(a,b):\n",
        "  resultado = a+b\n",
        "  return resultado\n",
        "\n",
        "suma = sumar(5,3)\n",
        "print(suma)"
      ]
    },
    {
      "cell_type": "markdown",
      "metadata": {
        "id": "YyACIUa_luo-"
      },
      "source": [
        "##Más complicado"
      ]
    },
    {
      "cell_type": "code",
      "execution_count": 26,
      "metadata": {
        "colab": {
          "base_uri": "https://localhost:8080/"
        },
        "id": "YTF_2VMQlsa6",
        "outputId": "57cd4c3b-ce1f-4a18-90f3-93fe512a92d8"
      },
      "outputs": [
        {
          "name": "stdout",
          "output_type": "stream",
          "text": [
            "36\n"
          ]
        }
      ],
      "source": [
        "def sumar(lista):\n",
        "  acum=0\n",
        "  for i in range(len(lista)):\n",
        "    acum=acum+lista[i]\n",
        "  return acum\n",
        "\n",
        "listax = [1,2,3,4,5,6,7,8]\n",
        "print(sumar(listax))\n"
      ]
    },
    {
      "cell_type": "markdown",
      "metadata": {
        "id": "eGijR8admSZ1"
      },
      "source": [
        "¿Para Qué Sirven las Funciones?\n",
        "  1. Reutilización de Código: Las funciones permiten escribir un bloque de código una vez y reutilizarlo en diferentes partes del programa, lo que reduce la duplicación y mejora la eficiencia.\n",
        "  2. Organización y Legibilidad: Al dividir el código en funciones, se mejora la organización y la legibilidad del programa. Cada función puede tener un propósito específico, lo que facilita la comprensión del código.\n",
        "  3. Facilidad de Mantenimiento: Si se necesita realizar cambios en la lógica de una tarea específica, solo es necesario modificar la función correspondiente, en lugar de buscar y cambiar el código en múltiples lugares.\n",
        "  4. Abstracción: Las funciones permiten ocultar la complejidad de ciertas operaciones. Los usuarios de la función no necesitan conocer los detalles de su implementación, solo cómo llamarla y qué esperar como resultado.\n",
        "  5. Modularidad: Las funciones fomentan un enfoque modular en la programación, lo que facilita la colaboración en proyectos grandes y la integración de diferentes componentes."
      ]
    },
    {
      "cell_type": "markdown",
      "metadata": {
        "id": "D1GRDcaFoay2"
      },
      "source": [
        "#Tipos de Funciones\n",
        "  1. Funciones Integradas (Built-in Functions): Python proporciona muchas funciones integradas, como print(), len(), sum(), entre otras.\n",
        "  2. Funciones Definidas por el Usuario: Son aquellas que los programadores crean para realizar tareas específicas.\n",
        "  3. Funciones Anónimas (Lambdas): Son funciones pequeñas y sin nombre que se definen utilizando la palabra clave lambda. Se utilizan comúnmente para operaciones simples y se pueden pasar como argumentos a otras funciones."
      ]
    },
    {
      "cell_type": "code",
      "execution_count": 27,
      "metadata": {
        "colab": {
          "base_uri": "https://localhost:8080/"
        },
        "id": "hWiCdPrImIjb",
        "outputId": "ee072eef-7143-4546-88d6-8aad2ae287d7"
      },
      "outputs": [
        {
          "name": "stdout",
          "output_type": "stream",
          "text": [
            "8\n"
          ]
        }
      ],
      "source": [
        "suma = lambda x, y: x + y\n",
        "print(suma(5,3))"
      ]
    },
    {
      "cell_type": "markdown",
      "metadata": {
        "id": "STYKGTum5D66"
      },
      "source": [
        "#Lambda con condición"
      ]
    },
    {
      "cell_type": "code",
      "execution_count": 28,
      "metadata": {
        "colab": {
          "base_uri": "https://localhost:8080/"
        },
        "id": "L9otRn7H5IUD",
        "outputId": "9c4e02bd-3038-4b74-eff6-273f3c4b01ca"
      },
      "outputs": [
        {
          "name": "stdout",
          "output_type": "stream",
          "text": [
            "10\n"
          ]
        }
      ],
      "source": [
        "mayor = lambda x, y: x if x > y else y\n",
        "print(mayor(10, 7))  # Resultado: 10"
      ]
    },
    {
      "cell_type": "markdown",
      "metadata": {
        "id": "zQvi_OHE5OER"
      },
      "source": [
        "#Lambda para filtrar números pares"
      ]
    },
    {
      "cell_type": "code",
      "execution_count": 29,
      "metadata": {
        "colab": {
          "base_uri": "https://localhost:8080/"
        },
        "id": "NxnjS0KJ5RqE",
        "outputId": "9b4d09ce-0ce7-41c5-9264-5241e2337b1e"
      },
      "outputs": [
        {
          "name": "stdout",
          "output_type": "stream",
          "text": [
            "[2, 4, 6]\n"
          ]
        }
      ],
      "source": [
        "numeros = [1, 2, 3, 4, 5, 6]\n",
        "pares = list(filter(lambda x: x % 2 == 0, numeros))\n",
        "print(pares)  # Resultado: [2, 4, 6]"
      ]
    },
    {
      "cell_type": "markdown",
      "metadata": {
        "id": "NTZOvvfF5a-o"
      },
      "source": [
        "#Usando lambda con map: elevar cada número al cubo"
      ]
    },
    {
      "cell_type": "code",
      "execution_count": 30,
      "metadata": {
        "colab": {
          "base_uri": "https://localhost:8080/"
        },
        "id": "OtrSPQwr5dJ6",
        "outputId": "cfe9f406-ebf6-4bf5-e3e3-1f0f5fbebf58"
      },
      "outputs": [
        {
          "name": "stdout",
          "output_type": "stream",
          "text": [
            "[1, 8, 27, 64]\n"
          ]
        }
      ],
      "source": [
        "numeros = [1, 2, 3, 4]\n",
        "cubos = list(map(lambda x: x**3, numeros))\n",
        "print(cubos)  # Resultado: [1, 8, 27, 64]"
      ]
    },
    {
      "cell_type": "markdown",
      "metadata": {
        "id": "h6ycxHuhpyth"
      },
      "source": [
        "#Estructuras de datos\n",
        "\n",
        "<p  align=\"justify\">En Python, los vectores y matrices son estructuras de datos que se utilizan para almacenar colecciones de elementos. Aunque Python no tiene un tipo de dato nativo específico para vectores y matrices, se pueden implementar utilizando listas, tuplas o, más comúnmente, utilizando bibliotecas como NumPy que están diseñadas para trabajar con datos numéricos de manera eficiente.</p>\n",
        "\n",
        "##Vectores\n",
        "<p  align=\"justify\">Un vector es una estructura unidimensional que puede almacenar una colección de elementos, generalmente números. En Python, un vector se puede representar como una lista.</p>\n"
      ]
    },
    {
      "cell_type": "code",
      "execution_count": 31,
      "metadata": {
        "id": "-Xe9SwE9qPSq"
      },
      "outputs": [],
      "source": [
        "vector = [1,2,3,4,5]\n",
        "#es una lista pero con todos los datos del mismo tipo"
      ]
    },
    {
      "cell_type": "markdown",
      "metadata": {
        "id": "eZTpNpY8qeSh"
      },
      "source": [
        "##Iteración sobre un vector"
      ]
    },
    {
      "cell_type": "code",
      "execution_count": 32,
      "metadata": {
        "colab": {
          "base_uri": "https://localhost:8080/"
        },
        "id": "xATBgClxqWZb",
        "outputId": "67785059-ebec-4ae8-b2da-a45dd8fc02e3"
      },
      "outputs": [
        {
          "name": "stdout",
          "output_type": "stream",
          "text": [
            "1\n",
            "2\n",
            "3\n",
            "4\n",
            "5\n"
          ]
        }
      ],
      "source": [
        "for elemento in vector:\n",
        "  print(elemento)"
      ]
    },
    {
      "cell_type": "markdown",
      "metadata": {
        "id": "js5jP-BKqpyx"
      },
      "source": [
        "##Matrices\n",
        "<p  align=\"justify\">Una matriz es una estructura bidimensional que puede almacenar datos en filas y columnas. En Python, una matriz se puede representar como una lista de listas.</p>"
      ]
    },
    {
      "cell_type": "code",
      "execution_count": 33,
      "metadata": {
        "id": "W-TFQ0TRqj8Z"
      },
      "outputs": [],
      "source": [
        "matriz = [\n",
        "    [1,2,3],\n",
        "    [4,5,6],\n",
        "    [7,8,9]\n",
        "]"
      ]
    },
    {
      "cell_type": "code",
      "execution_count": 34,
      "metadata": {
        "colab": {
          "base_uri": "https://localhost:8080/"
        },
        "id": "-RJX7Ym0r5i4",
        "outputId": "09ea8e59-860e-476c-9baa-d96e06bdfbad"
      },
      "outputs": [
        {
          "name": "stdout",
          "output_type": "stream",
          "text": [
            "1\n",
            "6\n"
          ]
        }
      ],
      "source": [
        "#Accediendon a los elementos de la matriz\n",
        "print(matriz[0][0]) #Sale 1\n",
        "print(matriz[1][2]) #Sale 6"
      ]
    },
    {
      "cell_type": "code",
      "execution_count": 35,
      "metadata": {
        "colab": {
          "base_uri": "https://localhost:8080/"
        },
        "id": "XSdACz2dsNTR",
        "outputId": "2a31226c-600e-4d5e-87c5-352c2703d220"
      },
      "outputs": [
        {
          "name": "stdout",
          "output_type": "stream",
          "text": [
            "1\n",
            "2\n",
            "3\n",
            "4\n",
            "5\n",
            "6\n",
            "7\n",
            "8\n",
            "9\n"
          ]
        }
      ],
      "source": [
        "#Iteración sobre una matriz\n",
        "for fila in matriz:\n",
        "  for elemento in fila:\n",
        "    print(elemento)"
      ]
    },
    {
      "cell_type": "code",
      "execution_count": 36,
      "metadata": {
        "colab": {
          "base_uri": "https://localhost:8080/"
        },
        "id": "Hp1WhKYvsYYw",
        "outputId": "dd8d264e-84f4-454b-eee7-e8b79834da8e"
      },
      "outputs": [
        {
          "name": "stdout",
          "output_type": "stream",
          "text": [
            "[[1, 2, 3], [4, 5, 6], [7, 8, 9]]\n"
          ]
        }
      ],
      "source": [
        "print(matriz)"
      ]
    },
    {
      "cell_type": "code",
      "execution_count": 37,
      "metadata": {
        "colab": {
          "base_uri": "https://localhost:8080/"
        },
        "id": "kJpOSHa4sa51",
        "outputId": "70a0ddb4-0b5a-4fa4-ad31-724ebb2c110c"
      },
      "outputs": [
        {
          "name": "stdout",
          "output_type": "stream",
          "text": [
            "1\t2\t3\t\n",
            "4\t5\t6\t\n",
            "7\t8\t9\t\n"
          ]
        }
      ],
      "source": [
        "#Iteración sobre una matriz\n",
        "for fila in matriz:\n",
        "  for elemento in fila:\n",
        "    print(elemento, end='\\t')\n",
        "  print()"
      ]
    },
    {
      "cell_type": "markdown",
      "metadata": {
        "id": "WNi_aoMStS5h"
      },
      "source": [
        "\n",
        "##Conjuntos\n",
        "<p  align=\"justify\">Los conjuntos (sets) en Python son una colección desordenada de elementos únicos. Esto significa que no pueden contener duplicados y no tienen un orden específico. Los conjuntos son útiles para realizar operaciones matemáticas como uniones, intersecciones y diferencias, y son especialmente eficientes para verificar la pertenencia de un elemento.</p>\n",
        "\n",
        "Características de los Conjuntos\n",
        "  1. Elementos Únicos: No se permiten duplicados. Si intentas agregar un elemento que ya existe, no se añadirá.\n",
        "  2. Desordenados: No tienen un orden específico, lo que significa que no puedes acceder a los elementos por índice.\n",
        "  3. Mutables: Puedes agregar y eliminar elementos después de que el conjunto ha sido creado.\n",
        "  4. Soporte para Operaciones Matemáticas: Permiten realizar operaciones como unión, intersección y diferencia."
      ]
    },
    {
      "cell_type": "code",
      "execution_count": 38,
      "metadata": {
        "id": "e-Ucvmrttd01"
      },
      "outputs": [],
      "source": [
        "#Usando llaves\n",
        "conjunto1 = {1,2,3,4,5}\n",
        "#Usando la función set()\n",
        "conjunto2 = set([3,4,5,6,7])\n",
        "#conjunto vacio\n",
        "conjunto_vacio = set()"
      ]
    },
    {
      "cell_type": "code",
      "execution_count": 39,
      "metadata": {
        "colab": {
          "base_uri": "https://localhost:8080/"
        },
        "id": "FgZLgm56txGo",
        "outputId": "98fa9f7e-4b41-4751-cf30-5f8f7064dd66"
      },
      "outputs": [
        {
          "name": "stdout",
          "output_type": "stream",
          "text": [
            "{1, 2, 3, 4}\n",
            "{1, 3, 4}\n",
            "{1, 3, 4}\n"
          ]
        }
      ],
      "source": [
        "#AGREGAMOS ELEMENTOS\n",
        "conjunto = {1,2,3}\n",
        "\n",
        "#agrega elemento\n",
        "conjunto.add(4)\n",
        "print(conjunto)\n",
        "\n",
        "#Elimina un elemento\n",
        "conjunto.remove(2)\n",
        "print(conjunto)\n",
        "\n",
        "#discard permite borrar elemento. Si este no existe, no manda mensaje de error\n",
        "conjunto.discard(5)\n",
        "print(conjunto)"
      ]
    },
    {
      "cell_type": "markdown",
      "metadata": {
        "id": "XniqNuDvuxZZ"
      },
      "source": [
        "##Operaciones con Conjuntos\n",
        "Los conjuntos permiten realizar varias operaciones matemáticas:\n",
        "  1. Unión: Combina los elementos de dos conjuntos.\n",
        "  2. Intersección: Obtiene los elementos comunes entre dos conjuntos.\n",
        "  3. Diferencia: Obtiene los elementos que están en un conjunto pero no en el otro.\n",
        "  4. Diferencia Simétrica: Obtiene los elementos que están en uno de los conjuntos, pero no en ambos."
      ]
    },
    {
      "cell_type": "code",
      "execution_count": 40,
      "metadata": {
        "colab": {
          "base_uri": "https://localhost:8080/"
        },
        "id": "WubyKYqWuSU9",
        "outputId": "1a3859c8-c443-4d8d-cfa9-04ff1179182f"
      },
      "outputs": [
        {
          "name": "stdout",
          "output_type": "stream",
          "text": [
            "{1, 2, 3, 4, 5}\n",
            "{3}\n",
            "{1, 2}\n",
            "{1, 2, 4, 5}\n"
          ]
        }
      ],
      "source": [
        "#Operaciones con conjuntos\n",
        "\n",
        "conjuntoA = {1,2,3}\n",
        "conjuntoB = {3,4,5}\n",
        "\n",
        "#Union\n",
        "union = conjuntoA | conjuntoB\n",
        "print(union)\n",
        "\n",
        "#Interseccion\n",
        "interseccion = conjuntoA & conjuntoB\n",
        "print(interseccion)\n",
        "\n",
        "#Diferencia\n",
        "diferencia = conjuntoA - conjuntoB\n",
        "print(diferencia)\n",
        "\n",
        "#Diferencia simétrica\n",
        "dif_simetrica = conjuntoA ^ conjuntoB\n",
        "print(dif_simetrica)"
      ]
    },
    {
      "cell_type": "markdown",
      "metadata": {
        "id": "my_SDOjYv7G0"
      },
      "source": [
        "##Diccionarios\n",
        "\n",
        "<p align=\"justify\">Los diccionarios en Python son una estructura de datos que permite almacenar pares de clave-valor. Son mutables, desordenados y permiten acceder a los valores a través de sus claves. Los diccionarios son muy útiles para organizar y gestionar datos de manera eficiente, especialmente cuando necesitas asociar un valor específico con una clave única.\n",
        "Características de los Diccionarios</p>\n",
        "\n",
        " 1. Pares Clave-Valor: Cada elemento en un diccionario se compone de una clave y un valor asociado. La clave debe ser única dentro del diccionario.\n",
        " 2. Mutables: Puedes modificar, agregar o eliminar pares de clave-valor después de que el diccionario ha sido creado.\n",
        " 3. Desordenados: No tienen un orden específico, lo que significa que no puedes acceder a los elementos por índice, sino por clave.\n",
        " 4. Acceso Rápido: Permiten un acceso rápido a los valores a través de sus claves, lo que los hace eficientes para búsquedas."
      ]
    },
    {
      "cell_type": "code",
      "execution_count": 41,
      "metadata": {
        "id": "6tZWvjuVvrX2"
      },
      "outputs": [],
      "source": [
        "#Creacion\n",
        "diccionario = {\n",
        "    \"nombre\": \"Juan\",\n",
        "    \"edad\"  : 30,\n",
        "    \"ciudad\": \"Madrid\"\n",
        "}\n",
        "\n",
        "diccionario2 = dict(nombre=\"Ana\", edad=25, ciudad=\"Barcelona\")"
      ]
    },
    {
      "cell_type": "code",
      "execution_count": 42,
      "metadata": {
        "colab": {
          "base_uri": "https://localhost:8080/"
        },
        "id": "B0IzVU9txOia",
        "outputId": "5ac9f080-099a-4d5c-e2c5-559f234b9661"
      },
      "outputs": [
        {
          "name": "stdout",
          "output_type": "stream",
          "text": [
            "Juan\n",
            "30\n"
          ]
        }
      ],
      "source": [
        "print(diccionario['nombre'])\n",
        "print(diccionario['edad'])"
      ]
    },
    {
      "cell_type": "code",
      "execution_count": 43,
      "metadata": {
        "colab": {
          "base_uri": "https://localhost:8080/"
        },
        "id": "tKnPQBGOw1M8",
        "outputId": "91b44027-24b1-489c-e585-d690111ef85d"
      },
      "outputs": [
        {
          "name": "stdout",
          "output_type": "stream",
          "text": [
            "nombre: Juan\n",
            "edad: 30\n",
            "ciudad: Madrid\n"
          ]
        }
      ],
      "source": [
        "for k,v in diccionario.items():\n",
        "  print(f'{k}: {v}')"
      ]
    },
    {
      "cell_type": "code",
      "execution_count": 44,
      "metadata": {
        "colab": {
          "base_uri": "https://localhost:8080/"
        },
        "id": "Rze42N7jxC0U",
        "outputId": "2420c5f1-2eea-4554-efb6-5d008adc0587"
      },
      "outputs": [
        {
          "name": "stdout",
          "output_type": "stream",
          "text": [
            "{'nombre': 'Juan', 'edad': 30, 'ciudad': 'Madrid', 'profesion': 'Ingeniero'}\n",
            "{'nombre': 'Juan', 'edad': 30, 'profesion': 'Ingeniero'}\n"
          ]
        }
      ],
      "source": [
        "#Agregar y eliminar valores\n",
        "diccionario[\"profesion\"]=\"Ingeniero\"\n",
        "print(diccionario)\n",
        "\n",
        "#eliminar un par clave-valor\n",
        "del diccionario[\"ciudad\"]\n",
        "print(diccionario)"
      ]
    },
    {
      "cell_type": "markdown",
      "metadata": {
        "id": "9pN0FBP8yWxd"
      },
      "source": [
        "#Bibliotecas\n",
        "<p align=\"justify\">Las bibliotecas en Python son colecciones de módulos y paquetes que proporcionan funcionalidades específicas que pueden ser reutilizadas en diferentes programas. Estas bibliotecas permiten a los desarrolladores aprovechar código ya escrito y probado, lo que facilita el desarrollo de aplicaciones y reduce el tiempo de programación. Las bibliotecas pueden incluir funciones, clases y variables que ayudan a realizar tareas comunes, como manipulación de datos, acceso a bases de datos, creación de interfaces gráficas, procesamiento de imágenes, y mucho más.</p>\n",
        "\n",
        "¿Para qué sirven las bibliotecas en Python?\n",
        "  1. Reutilización de Código: Permiten a los desarrolladores reutilizar código existente, lo que ahorra tiempo y esfuerzo.\n",
        "  2. Facilitan el Desarrollo: Proporcionan herramientas y funciones que simplifican tareas complejas, como el manejo de datos, la creación de gráficos, o la comunicación con APIs.\n",
        "  3. Comunidad y Soporte: Muchas bibliotecas son mantenidas por comunidades activas, lo que significa que están constantemente mejoradas y actualizadas.\n",
        "  4. Estandarización: Usar bibliotecas populares puede ayudar a estandarizar el desarrollo, lo que facilita la colaboración entre desarrolladores.\n",
        "\n",
        "Tipos de Bibliotecas\n",
        "  1. Bibliotecas Estándar: Vienen incluidas con Python y proporcionan funcionalidades básicas. Ejemplos incluyen math, datetime, os, sys, entre otros.\n",
        "  2. Bibliotecas de Terceros: Son desarrolladas por la comunidad y pueden ser instaladas a través de herramientas como pip. Ejemplos incluyen NumPy, Pandas, Requests, Flask, Django, etc."
      ]
    },
    {
      "cell_type": "markdown",
      "metadata": {
        "id": "xf1sOI0OzIO2"
      },
      "source": [
        "##Cómo usar bibliotecas en Python\n",
        "1. Importar Bibliotecas\n",
        "\n",
        "Para usar una biblioteca en tu código, primero debes importarla. Esto se hace utilizando la palabra clave import."
      ]
    },
    {
      "cell_type": "code",
      "execution_count": 45,
      "metadata": {
        "colab": {
          "base_uri": "https://localhost:8080/"
        },
        "id": "few2jyITxzfR",
        "outputId": "e3d62815-d6db-4ecb-aad8-4b30c8bb1fda"
      },
      "outputs": [
        {
          "name": "stdout",
          "output_type": "stream",
          "text": [
            "4.0\n"
          ]
        }
      ],
      "source": [
        "import math #biblioteca para usar varias funciones matemáticas\n",
        "\n",
        "resultado = math.sqrt(16)\n",
        "print(resultado)"
      ]
    },
    {
      "cell_type": "code",
      "execution_count": 46,
      "metadata": {
        "id": "rWnrQ4KlZ6sz"
      },
      "outputs": [],
      "source": [
        "import math"
      ]
    },
    {
      "cell_type": "code",
      "execution_count": 47,
      "metadata": {
        "colab": {
          "base_uri": "https://localhost:8080/"
        },
        "id": "kniYvhsL1SOc",
        "outputId": "4a555535-2454-4ace-8900-ca593e2161eb"
      },
      "outputs": [
        {
          "name": "stdout",
          "output_type": "stream",
          "text": [
            "5.0\n"
          ]
        }
      ],
      "source": [
        "from math import sqrt\n",
        "\n",
        "resultado = sqrt(25)\n",
        "print(resultado)"
      ]
    },
    {
      "cell_type": "markdown",
      "metadata": {
        "id": "5rwKJX311q9-"
      },
      "source": [
        "3. Importar con Alias\n",
        "\n",
        "Puedes asignar un alias a una biblioteca al importarla, lo que puede hacer que el código sea más legible o más corto."
      ]
    },
    {
      "cell_type": "code",
      "execution_count": 48,
      "metadata": {
        "colab": {
          "base_uri": "https://localhost:8080/"
        },
        "id": "FwxLZAZd1oFF",
        "outputId": "2db037c8-c41a-462d-a077-1aff8b4cbe4a"
      },
      "outputs": [
        {
          "name": "stdout",
          "output_type": "stream",
          "text": [
            "[1 2 3 4 5]\n"
          ]
        }
      ],
      "source": [
        "import numpy as np #multiples funciones matemáticas para vectores\n",
        "\n",
        "arreglo = np.array([1,2,3,4,5])\n",
        "print(arreglo)"
      ]
    },
    {
      "cell_type": "markdown",
      "metadata": {
        "id": "ktDpubx96xBm"
      },
      "source": [
        "#NumPy\n",
        "\n",
        "<p align=\"justify\">NumPy es una librería de Python especializada en el cálculo numérico y el análisis de datos, especialmente para un gran volumen de datos.\n",
        "Incorpora una nueva clase de objetos llamados arrays que permite representar colecciones de datos de un mismo tipo en varias dimensiones, y funciones muy eficientes para su manipulación.\n",
        "La ventaja de Numpy frente a las listas predefinidas en Python es que el procesamiento de los arrays se realiza mucho más rápido (hasta 50 veces más) que las listas, lo cual la hace ideal para el procesamiento de vectores y matrices de grandes dimensiones.</p>"
      ]
    },
    {
      "cell_type": "code",
      "execution_count": 49,
      "metadata": {
        "id": "UypN_DZP2Iho"
      },
      "outputs": [],
      "source": [
        "import numpy as np"
      ]
    },
    {
      "cell_type": "code",
      "execution_count": 50,
      "metadata": {
        "colab": {
          "base_uri": "https://localhost:8080/"
        },
        "id": "X9tECwMr69wv",
        "outputId": "f6198c98-9f4d-46a0-b070-5a955626e132"
      },
      "outputs": [
        {
          "name": "stdout",
          "output_type": "stream",
          "text": [
            "[1 2 3 4 5]\n",
            "\n",
            "[[1 2 3]\n",
            " [4 5 6]]\n"
          ]
        }
      ],
      "source": [
        "arreglo = np.array([1,2,3,4,5])\n",
        "print(arreglo)\n",
        "\n",
        "print()\n",
        "matriz = np.array([[1,2,3],[4,5,6]])\n",
        "print(matriz)"
      ]
    },
    {
      "cell_type": "markdown",
      "metadata": {
        "id": "Js0c1oMT7nhb"
      },
      "source": [
        "2. Crear Arreglos con Funciones de NumPy\n",
        "NumPy tiene varias funciones para crear arreglos de manera más eficiente:\n",
        "  * np.zeros(shape): Crea un arreglo lleno de ceros.\n",
        "  * np.ones(shape): Crea un arreglo lleno de unos.\n",
        "  * np.arange(start, stop, step): Crea un arreglo con un rango de valores.\n",
        "  * np.linspace(start, stop, num): Crea un arreglo con un número específico de valores igualmente espaciados."
      ]
    },
    {
      "cell_type": "code",
      "execution_count": 51,
      "metadata": {
        "colab": {
          "base_uri": "https://localhost:8080/"
        },
        "id": "CZpjh4gK7M4K",
        "outputId": "6c3eda19-d1b3-4778-e751-5a1692e76322"
      },
      "outputs": [
        {
          "name": "stdout",
          "output_type": "stream",
          "text": [
            "[[0. 0. 0.]\n",
            " [0. 0. 0.]]\n",
            "\n",
            "[[1. 1. 1.]\n",
            " [1. 1. 1.]]\n",
            "\n",
            "[0 2 4 6 8]\n",
            "\n",
            "[0.   0.25 0.5  0.75 1.  ]\n"
          ]
        }
      ],
      "source": [
        "zeros = np.zeros((2,3))\n",
        "print(zeros)\n",
        "print()\n",
        "\n",
        "unos = np.ones((2,3))\n",
        "print(unos)\n",
        "print()\n",
        "\n",
        "rango = np.arange(0,10,2)\n",
        "print(rango)\n",
        "print()\n",
        "\n",
        "linspace = np.linspace(0,1,5)\n",
        "print(linspace)"
      ]
    },
    {
      "cell_type": "code",
      "execution_count": 52,
      "metadata": {
        "colab": {
          "base_uri": "https://localhost:8080/"
        },
        "id": "TMfcji7C8EmW",
        "outputId": "8ac8439e-6866-4908-9712-253a4c1a6f95"
      },
      "outputs": [
        {
          "name": "stdout",
          "output_type": "stream",
          "text": [
            "(2, 3)\n",
            "2\n",
            "6\n",
            "int64\n"
          ]
        }
      ],
      "source": [
        "#PROPIEDADES DE ARREGLOS\n",
        "arreglo = np.array([[1,2,3],[4,5,6]])\n",
        "\n",
        "print(arreglo.shape) #cantidad de filas y columnas\n",
        "print(arreglo.ndim) #cuantas dimensiones tiene\n",
        "print(arreglo.size) #cuantos elementos hay\n",
        "print(arreglo.dtype) # Tipo de datos de los elementos"
      ]
    },
    {
      "cell_type": "code",
      "execution_count": 53,
      "metadata": {
        "colab": {
          "base_uri": "https://localhost:8080/"
        },
        "id": "pwnfJwYh8vRc",
        "outputId": "10084b49-066f-4167-d58a-6ae1fe0a8021"
      },
      "outputs": [
        {
          "name": "stdout",
          "output_type": "stream",
          "text": [
            "Suma: [5 7 9] \n",
            "\n",
            "Resta: [-3 -3 -3] \n",
            "\n",
            "Multiplicacion: [ 4 10 18] \n",
            "\n",
            "Division: [0.25 0.4  0.5 ] \n",
            "\n",
            "Potencia: [1 4 9]\n"
          ]
        }
      ],
      "source": [
        "#OPERACIONES BASICAS\n",
        "\n",
        "a = np.array([1,2,3])\n",
        "b = np.array([4,5,6])\n",
        "\n",
        "suma = a+b\n",
        "print(f'Suma: {suma} \\n')\n",
        "\n",
        "resta = a-b\n",
        "print(f'Resta: {resta} \\n')\n",
        "\n",
        "multiplicacion = a*b\n",
        "print(f'Multiplicacion: {multiplicacion} \\n')\n",
        "\n",
        "division = a/b\n",
        "print(f'Division: {division} \\n')\n",
        "\n",
        "potencia = a**2\n",
        "print(f'Potencia: {potencia}')"
      ]
    },
    {
      "cell_type": "markdown",
      "metadata": {
        "id": "5HDBXO9e-3-Q"
      },
      "source": [
        "##Pandas\n",
        "\n",
        "Pandas es una librería de Python especializada en el manejo y análisis de estructuras de datos.\n",
        "Las principales características de esta librería son:\n",
        "  * Define nuevas estructuras de datos basadas en los arrays de la librería NumPy pero con nuevas funcionalidades.\n",
        "  * Permite leer y escribir fácilmente ficheros en formato CSV, Excel y bases de datos SQL.\n",
        "  * Permite acceder a los datos mediante índices o nombres para filas y columnas.\n",
        "  * Ofrece métodos para reordenar, dividir y combinar conjuntos de datos.\n",
        "  * Permite trabajar con series temporales.\n",
        "  * Realiza todas estas operaciones de manera muy eficiente.\n",
        "\n",
        "##Tipos de datos de Pandas\n",
        "Pandas dispone de tres estructuras de datos diferentes:\n",
        "  * Series: Estructura de una dimensión.\n",
        "  * DataFrame: Estructura de dos dimensiones (tablas).\n",
        "  * Panel: Estructura de tres dimensiones (cubos).\n",
        "\n",
        "Estas estructuras se construyen a partir de arrays de la librería NumPy, añadiendo nuevas funcionalidades.\n",
        "\n",
        "###La clase de objetos Series\n",
        "\n",
        "Son estructuras similares a los arrays de una dimensión. Son homogéneas, es decir, sus elementos tienen que ser del mismo tipo, y su tamaño es inmutable, es decir, no se puede cambiar, aunque si su contenido.\n",
        "Dispone de un índice que asocia un nombre a cada elemento de la serie, a través de la cuál se accede al elemento.\n",
        "\n",
        "{\"A1\":\"Matemáticas\", \"A2\":\"Economía\", \"A3\":\"Programación\"}\n",
        "\n",
        "##Creación de Dataframe desde cero\n",
        "Podemos crear Dataframe de diferentes maneras pero tres de las más utilizadas son:\n",
        "\n",
        "**Diccionario**"
      ]
    },
    {
      "cell_type": "code",
      "execution_count": 54,
      "metadata": {
        "colab": {
          "base_uri": "https://localhost:8080/"
        },
        "id": "nJYlhQhL-Z98",
        "outputId": "5dfb98f4-9439-4c62-9aed-3932a02ecb7f"
      },
      "outputs": [
        {
          "name": "stdout",
          "output_type": "stream",
          "text": [
            "    name  surname  age\n",
            "0  David   Suarez   32\n",
            "1   Gema  Parreño   31\n"
          ]
        }
      ],
      "source": [
        "import pandas as pd\n",
        "\n",
        "diccionario = [{\"name\":\"David\",\"surname\":\"Suarez\",\"age\":32},{\"name\":\"Gema\",\"surname\":\"Parreño\",\"age\":31}]\n",
        "employees = pd.DataFrame(diccionario,columns=[\"name\",\"surname\",\"age\"])\n",
        "print(employees)"
      ]
    },
    {
      "cell_type": "markdown",
      "metadata": {
        "id": "BN-2DKUKFTOx"
      },
      "source": [
        "##CSV para el ejemplo\n",
        "\n",
        "\n",
        "```\n",
        "ID,Nombre,Edad,Curso,Calificacion\n",
        "1,Ana López,22,Matemáticas,85\n",
        "2,Carlos Ruiz,21,Física,78\n",
        "3,María García,23,Química,92\n",
        "4,Juan Pérez,20,Biología,88\n",
        "5,Laura Díaz,19,Historia,76\n",
        "```\n",
        "\n"
      ]
    },
    {
      "cell_type": "code",
      "execution_count": 68,
      "metadata": {},
      "outputs": [
        {
          "name": "stdout",
          "output_type": "stream",
          "text": [
            "Archivo estudiantes.csv creado exitosamente.\n"
          ]
        }
      ],
      "source": [
        "# Crear un DataFrame con los datos\n",
        "data = {\n",
        "    \"ID\": [1, 2, 3, 4, 5],\n",
        "    \"Nombre\": [\"Ana López\", \"Carlos Ruiz\", \"María García\", \"Juan Pérez\", \"Laura Díaz\"],\n",
        "    \"Edad\": [22, 21, 23, 20, 19],\n",
        "    \"Curso\": [\"Matemáticas\", \"Física\", \"Química\", \"Biología\", \"Historia\"],\n",
        "    \"Calificacion\": [85, 78, 92, 88, 76]\n",
        "}\n",
        "\n",
        "df = pd.DataFrame(data)\n",
        "\n",
        "# Guardar el DataFrame como un archivo CSV\n",
        "df.to_csv('estudiantes.csv', index=False)\n",
        "\n",
        "print(\"Archivo estudiantes.csv creado exitosamente.\")"
      ]
    },
    {
      "cell_type": "code",
      "execution_count": 60,
      "metadata": {
        "colab": {
          "base_uri": "https://localhost:8080/",
          "height": 206
        },
        "id": "rcmlTXbyDISA",
        "outputId": "a81cd9fc-71bb-4315-9e3a-78744ddd31f2"
      },
      "outputs": [
        {
          "data": {
            "text/html": [
              "<div>\n",
              "<style scoped>\n",
              "    .dataframe tbody tr th:only-of-type {\n",
              "        vertical-align: middle;\n",
              "    }\n",
              "\n",
              "    .dataframe tbody tr th {\n",
              "        vertical-align: top;\n",
              "    }\n",
              "\n",
              "    .dataframe thead th {\n",
              "        text-align: right;\n",
              "    }\n",
              "</style>\n",
              "<table border=\"1\" class=\"dataframe\">\n",
              "  <thead>\n",
              "    <tr style=\"text-align: right;\">\n",
              "      <th></th>\n",
              "      <th>ID</th>\n",
              "      <th>Nombre</th>\n",
              "      <th>Edad</th>\n",
              "      <th>Curso</th>\n",
              "      <th>Calificacion</th>\n",
              "    </tr>\n",
              "  </thead>\n",
              "  <tbody>\n",
              "    <tr>\n",
              "      <th>0</th>\n",
              "      <td>1</td>\n",
              "      <td>Ana López</td>\n",
              "      <td>22</td>\n",
              "      <td>Matemáticas</td>\n",
              "      <td>85</td>\n",
              "    </tr>\n",
              "    <tr>\n",
              "      <th>1</th>\n",
              "      <td>2</td>\n",
              "      <td>Carlos Ruiz</td>\n",
              "      <td>21</td>\n",
              "      <td>Física</td>\n",
              "      <td>78</td>\n",
              "    </tr>\n",
              "    <tr>\n",
              "      <th>2</th>\n",
              "      <td>3</td>\n",
              "      <td>María García</td>\n",
              "      <td>23</td>\n",
              "      <td>Química</td>\n",
              "      <td>92</td>\n",
              "    </tr>\n",
              "    <tr>\n",
              "      <th>3</th>\n",
              "      <td>4</td>\n",
              "      <td>Juan Pérez</td>\n",
              "      <td>20</td>\n",
              "      <td>Biología</td>\n",
              "      <td>88</td>\n",
              "    </tr>\n",
              "    <tr>\n",
              "      <th>4</th>\n",
              "      <td>5</td>\n",
              "      <td>Laura Díaz</td>\n",
              "      <td>19</td>\n",
              "      <td>Historia</td>\n",
              "      <td>76</td>\n",
              "    </tr>\n",
              "  </tbody>\n",
              "</table>\n",
              "</div>"
            ],
            "text/plain": [
              "   ID        Nombre  Edad        Curso  Calificacion\n",
              "0   1     Ana López    22  Matemáticas            85\n",
              "1   2   Carlos Ruiz    21       Física            78\n",
              "2   3  María García    23      Química            92\n",
              "3   4    Juan Pérez    20     Biología            88\n",
              "4   5    Laura Díaz    19     Historia            76"
            ]
          },
          "execution_count": 60,
          "metadata": {},
          "output_type": "execute_result"
        }
      ],
      "source": [
        "df = pd.read_csv('estudiantes.csv')\n",
        "df.head()"
      ]
    },
    {
      "cell_type": "code",
      "execution_count": 61,
      "metadata": {
        "id": "LR5TM-TOHLnS"
      },
      "outputs": [],
      "source": [
        "#AGREGAR COLUMNAS\n",
        "df['acredita']=['si','si','si','si','si']"
      ]
    },
    {
      "cell_type": "code",
      "execution_count": 62,
      "metadata": {
        "colab": {
          "base_uri": "https://localhost:8080/",
          "height": 206
        },
        "id": "M3l3wlZTIsCL",
        "outputId": "ccffe157-5166-4260-a406-ba8f6b181b61"
      },
      "outputs": [
        {
          "data": {
            "text/html": [
              "<div>\n",
              "<style scoped>\n",
              "    .dataframe tbody tr th:only-of-type {\n",
              "        vertical-align: middle;\n",
              "    }\n",
              "\n",
              "    .dataframe tbody tr th {\n",
              "        vertical-align: top;\n",
              "    }\n",
              "\n",
              "    .dataframe thead th {\n",
              "        text-align: right;\n",
              "    }\n",
              "</style>\n",
              "<table border=\"1\" class=\"dataframe\">\n",
              "  <thead>\n",
              "    <tr style=\"text-align: right;\">\n",
              "      <th></th>\n",
              "      <th>ID</th>\n",
              "      <th>Nombre</th>\n",
              "      <th>Edad</th>\n",
              "      <th>Curso</th>\n",
              "      <th>Calificacion</th>\n",
              "      <th>acredita</th>\n",
              "    </tr>\n",
              "  </thead>\n",
              "  <tbody>\n",
              "    <tr>\n",
              "      <th>0</th>\n",
              "      <td>1</td>\n",
              "      <td>Ana López</td>\n",
              "      <td>22</td>\n",
              "      <td>Matemáticas</td>\n",
              "      <td>85</td>\n",
              "      <td>si</td>\n",
              "    </tr>\n",
              "    <tr>\n",
              "      <th>1</th>\n",
              "      <td>2</td>\n",
              "      <td>Carlos Ruiz</td>\n",
              "      <td>21</td>\n",
              "      <td>Física</td>\n",
              "      <td>78</td>\n",
              "      <td>si</td>\n",
              "    </tr>\n",
              "    <tr>\n",
              "      <th>2</th>\n",
              "      <td>3</td>\n",
              "      <td>María García</td>\n",
              "      <td>23</td>\n",
              "      <td>Química</td>\n",
              "      <td>92</td>\n",
              "      <td>si</td>\n",
              "    </tr>\n",
              "    <tr>\n",
              "      <th>3</th>\n",
              "      <td>4</td>\n",
              "      <td>Juan Pérez</td>\n",
              "      <td>20</td>\n",
              "      <td>Biología</td>\n",
              "      <td>88</td>\n",
              "      <td>si</td>\n",
              "    </tr>\n",
              "    <tr>\n",
              "      <th>4</th>\n",
              "      <td>5</td>\n",
              "      <td>Laura Díaz</td>\n",
              "      <td>19</td>\n",
              "      <td>Historia</td>\n",
              "      <td>76</td>\n",
              "      <td>si</td>\n",
              "    </tr>\n",
              "  </tbody>\n",
              "</table>\n",
              "</div>"
            ],
            "text/plain": [
              "   ID        Nombre  Edad        Curso  Calificacion acredita\n",
              "0   1     Ana López    22  Matemáticas            85       si\n",
              "1   2   Carlos Ruiz    21       Física            78       si\n",
              "2   3  María García    23      Química            92       si\n",
              "3   4    Juan Pérez    20     Biología            88       si\n",
              "4   5    Laura Díaz    19     Historia            76       si"
            ]
          },
          "execution_count": 62,
          "metadata": {},
          "output_type": "execute_result"
        }
      ],
      "source": [
        "df.head()"
      ]
    },
    {
      "cell_type": "code",
      "execution_count": 63,
      "metadata": {
        "colab": {
          "base_uri": "https://localhost:8080/",
          "height": 143
        },
        "id": "_zarabyWItyR",
        "outputId": "3aa3c6c6-4e8a-4ddb-b9cf-3f96dab06898"
      },
      "outputs": [
        {
          "data": {
            "text/html": [
              "<div>\n",
              "<style scoped>\n",
              "    .dataframe tbody tr th:only-of-type {\n",
              "        vertical-align: middle;\n",
              "    }\n",
              "\n",
              "    .dataframe tbody tr th {\n",
              "        vertical-align: top;\n",
              "    }\n",
              "\n",
              "    .dataframe thead th {\n",
              "        text-align: right;\n",
              "    }\n",
              "</style>\n",
              "<table border=\"1\" class=\"dataframe\">\n",
              "  <thead>\n",
              "    <tr style=\"text-align: right;\">\n",
              "      <th></th>\n",
              "      <th>ID</th>\n",
              "      <th>Nombre</th>\n",
              "      <th>Edad</th>\n",
              "      <th>Curso</th>\n",
              "      <th>Calificacion</th>\n",
              "      <th>acredita</th>\n",
              "    </tr>\n",
              "  </thead>\n",
              "  <tbody>\n",
              "    <tr>\n",
              "      <th>0</th>\n",
              "      <td>1</td>\n",
              "      <td>Ana López</td>\n",
              "      <td>22</td>\n",
              "      <td>Matemáticas</td>\n",
              "      <td>85</td>\n",
              "      <td>si</td>\n",
              "    </tr>\n",
              "    <tr>\n",
              "      <th>2</th>\n",
              "      <td>3</td>\n",
              "      <td>María García</td>\n",
              "      <td>23</td>\n",
              "      <td>Química</td>\n",
              "      <td>92</td>\n",
              "      <td>si</td>\n",
              "    </tr>\n",
              "    <tr>\n",
              "      <th>3</th>\n",
              "      <td>4</td>\n",
              "      <td>Juan Pérez</td>\n",
              "      <td>20</td>\n",
              "      <td>Biología</td>\n",
              "      <td>88</td>\n",
              "      <td>si</td>\n",
              "    </tr>\n",
              "  </tbody>\n",
              "</table>\n",
              "</div>"
            ],
            "text/plain": [
              "   ID        Nombre  Edad        Curso  Calificacion acredita\n",
              "0   1     Ana López    22  Matemáticas            85       si\n",
              "2   3  María García    23      Química            92       si\n",
              "3   4    Juan Pérez    20     Biología            88       si"
            ]
          },
          "execution_count": 63,
          "metadata": {},
          "output_type": "execute_result"
        }
      ],
      "source": [
        "#Filtrar datos\n",
        "df_filtrado = df[df['Calificacion']>=80]\n",
        "df_filtrado.head()"
      ]
    },
    {
      "cell_type": "code",
      "execution_count": 64,
      "metadata": {
        "colab": {
          "base_uri": "https://localhost:8080/",
          "height": 331
        },
        "id": "vFgODulvI8ps",
        "outputId": "cb0f70a8-7929-499b-f91b-7e1b61989b18"
      },
      "outputs": [
        {
          "data": {
            "text/html": [
              "<div>\n",
              "<style scoped>\n",
              "    .dataframe tbody tr th:only-of-type {\n",
              "        vertical-align: middle;\n",
              "    }\n",
              "\n",
              "    .dataframe tbody tr th {\n",
              "        vertical-align: top;\n",
              "    }\n",
              "\n",
              "    .dataframe thead th {\n",
              "        text-align: right;\n",
              "    }\n",
              "</style>\n",
              "<table border=\"1\" class=\"dataframe\">\n",
              "  <thead>\n",
              "    <tr style=\"text-align: right;\">\n",
              "      <th></th>\n",
              "      <th>ID</th>\n",
              "      <th>Nombre</th>\n",
              "      <th>Edad</th>\n",
              "      <th>Curso</th>\n",
              "      <th>Calificacion</th>\n",
              "      <th>acredita</th>\n",
              "    </tr>\n",
              "  </thead>\n",
              "  <tbody>\n",
              "    <tr>\n",
              "      <th>0</th>\n",
              "      <td>1</td>\n",
              "      <td>Ana López</td>\n",
              "      <td>22.0</td>\n",
              "      <td>Matemáticas</td>\n",
              "      <td>85</td>\n",
              "      <td>si</td>\n",
              "    </tr>\n",
              "    <tr>\n",
              "      <th>1</th>\n",
              "      <td>2</td>\n",
              "      <td>Carlos Ruiz</td>\n",
              "      <td>21.0</td>\n",
              "      <td>Física</td>\n",
              "      <td>78</td>\n",
              "      <td>si</td>\n",
              "    </tr>\n",
              "    <tr>\n",
              "      <th>2</th>\n",
              "      <td>3</td>\n",
              "      <td>María García</td>\n",
              "      <td>23.0</td>\n",
              "      <td>Química</td>\n",
              "      <td>92</td>\n",
              "      <td>si</td>\n",
              "    </tr>\n",
              "    <tr>\n",
              "      <th>3</th>\n",
              "      <td>4</td>\n",
              "      <td>Juan Pérez</td>\n",
              "      <td>20.0</td>\n",
              "      <td>Biología</td>\n",
              "      <td>88</td>\n",
              "      <td>si</td>\n",
              "    </tr>\n",
              "    <tr>\n",
              "      <th>4</th>\n",
              "      <td>5</td>\n",
              "      <td>Laura Díaz</td>\n",
              "      <td>19.0</td>\n",
              "      <td>Historia</td>\n",
              "      <td>76</td>\n",
              "      <td>si</td>\n",
              "    </tr>\n",
              "    <tr>\n",
              "      <th>5</th>\n",
              "      <td>6</td>\n",
              "      <td>Adrian Diaz</td>\n",
              "      <td>NaN</td>\n",
              "      <td>Bioquímica</td>\n",
              "      <td>50</td>\n",
              "      <td>no</td>\n",
              "    </tr>\n",
              "    <tr>\n",
              "      <th>6</th>\n",
              "      <td>6</td>\n",
              "      <td>Damian Alfaro</td>\n",
              "      <td>NaN</td>\n",
              "      <td>Arquitectura</td>\n",
              "      <td>52</td>\n",
              "      <td>no</td>\n",
              "    </tr>\n",
              "  </tbody>\n",
              "</table>\n",
              "</div>"
            ],
            "text/plain": [
              "   ID         Nombre  Edad         Curso  Calificacion acredita\n",
              "0   1      Ana López  22.0   Matemáticas            85       si\n",
              "1   2    Carlos Ruiz  21.0        Física            78       si\n",
              "2   3   María García  23.0       Química            92       si\n",
              "3   4     Juan Pérez  20.0      Biología            88       si\n",
              "4   5     Laura Díaz  19.0      Historia            76       si\n",
              "5   6    Adrian Diaz   NaN    Bioquímica            50       no\n",
              "6   6  Damian Alfaro   NaN  Arquitectura            52       no"
            ]
          },
          "execution_count": 64,
          "metadata": {},
          "output_type": "execute_result"
        }
      ],
      "source": [
        "#Agregar nuevo registro\n",
        "df = df._append({\"ID\":6,\"Nombre\":\"Adrian Diaz\",\"Curso\":\"Bioquímica\",\"Calificacion\":50,\"acredita\":\"no\"}, ignore_index=True)\n",
        "df = df._append({\"ID\":6,\"Nombre\":\"Damian Alfaro\",\"Curso\":\"Arquitectura\",\"Calificacion\":52,\"acredita\":\"no\"}, ignore_index=True)\n",
        "df.head(10)"
      ]
    },
    {
      "cell_type": "code",
      "execution_count": 65,
      "metadata": {
        "colab": {
          "base_uri": "https://localhost:8080/",
          "height": 178
        },
        "id": "RCOK-smUJuSI",
        "outputId": "a53857e8-9081-4033-aa70-58cd3993936c"
      },
      "outputs": [
        {
          "data": {
            "text/plain": [
              "acredita\n",
              "no    51.0\n",
              "si    83.8\n",
              "Name: Calificacion, dtype: float64"
            ]
          },
          "execution_count": 65,
          "metadata": {},
          "output_type": "execute_result"
        }
      ],
      "source": [
        "df_agrupado = df.groupby('acredita')['Calificacion'].mean()\n",
        "df_agrupado.head()"
      ]
    },
    {
      "cell_type": "code",
      "execution_count": 66,
      "metadata": {
        "id": "-VBXTCW9K9bd"
      },
      "outputs": [],
      "source": [
        "#GUARDANDO CSV MODIFICADO\n",
        "df.to_csv('nuevoNombre.csv', index=False)"
      ]
    },
    {
      "cell_type": "markdown",
      "metadata": {
        "id": "bd25BfddLTga"
      },
      "source": [
        "Resumen\n",
        "  * Carga de Datos: Utiliza pd.read_csv() para cargar un archivo CSV.\n",
        "  * Transformaciones: Puedes agregar columnas, filtrar datos, agrupar y renombrar columnas.\n",
        "  * Guardar Resultados: Usa to_csv() para guardar el DataFrame modificado en un nuevo archivo CSV.\n",
        "  \n",
        "Este flujo de trabajo básico te permite manejar y transformar datos de manera efectiva utilizando pandas."
      ]
    },
    {
      "cell_type": "markdown",
      "metadata": {
        "id": "NO5oRjkALyQ1"
      },
      "source": [
        "#Actividad\n",
        "\n",
        "<p align=\"justify\" style=\"font-size:18px\">Crear un data frame en pandas para almacenar el nombre, dirección, teléfono y percepción mensual de almenos 10 empleados durante un año. Los identificadores de las columnas serán como se indica a continuación: [nombre,direccion,telefono,enero,febrero,marzo...diciembre].\n",
        "\n",
        "</br></br>\n",
        "Utilizando las diferentes herramientas de programación (estructuras de control) calcular el monto mensual y la retención del ISR anual de cada empleado.</p>\n",
        "\n",
        "Considere salarios entre  18,837.38 y   38,775.38\n",
        "\n",
        "Ejemplo:\n",
        "Si ganas $20,000 MXN al mes:\n",
        "\n",
        "* Tu ingreso cae entre 18,837.38 y 38,775.38.\n",
        "\n",
        "* Límite inferior: $18,837.38\n",
        "\n",
        "* Excedente: $20,000 - $18,837.38 = $1,162.62\n",
        "\n",
        "* Porcentaje: 23.52%\n",
        "\n",
        "* ISR = (0.2352 × $1,162.62) ≈ $ esa multiplicacion"
      ]
    },
    {
      "cell_type": "code",
      "execution_count": 82,
      "metadata": {},
      "outputs": [
        {
          "name": "stdout",
          "output_type": "stream",
          "text": [
            "DataFrame de empleados:\n",
            "\n"
          ]
        },
        {
          "data": {
            "text/html": [
              "<div>\n",
              "<style scoped>\n",
              "    .dataframe tbody tr th:only-of-type {\n",
              "        vertical-align: middle;\n",
              "    }\n",
              "\n",
              "    .dataframe tbody tr th {\n",
              "        vertical-align: top;\n",
              "    }\n",
              "\n",
              "    .dataframe thead th {\n",
              "        text-align: right;\n",
              "    }\n",
              "</style>\n",
              "<table border=\"1\" class=\"dataframe\">\n",
              "  <thead>\n",
              "    <tr style=\"text-align: right;\">\n",
              "      <th></th>\n",
              "      <th>nombre</th>\n",
              "      <th>direccion</th>\n",
              "      <th>telefono</th>\n",
              "      <th>enero</th>\n",
              "      <th>febrero</th>\n",
              "      <th>marzo</th>\n",
              "      <th>abril</th>\n",
              "      <th>mayo</th>\n",
              "      <th>junio</th>\n",
              "      <th>julio</th>\n",
              "      <th>agosto</th>\n",
              "      <th>septiembre</th>\n",
              "      <th>octubre</th>\n",
              "      <th>noviembre</th>\n",
              "      <th>diciembre</th>\n",
              "    </tr>\n",
              "  </thead>\n",
              "  <tbody>\n",
              "    <tr>\n",
              "      <th>0</th>\n",
              "      <td>Ana López</td>\n",
              "      <td>Calle 1 #100</td>\n",
              "      <td>5551112233</td>\n",
              "      <td>29779.62</td>\n",
              "      <td>29779.62</td>\n",
              "      <td>29779.62</td>\n",
              "      <td>29779.62</td>\n",
              "      <td>29779.62</td>\n",
              "      <td>29779.62</td>\n",
              "      <td>29779.62</td>\n",
              "      <td>29779.62</td>\n",
              "      <td>29779.62</td>\n",
              "      <td>29779.62</td>\n",
              "      <td>29779.62</td>\n",
              "      <td>29779.62</td>\n",
              "    </tr>\n",
              "    <tr>\n",
              "      <th>1</th>\n",
              "      <td>Luis Pérez</td>\n",
              "      <td>Calle 2 #200</td>\n",
              "      <td>5552223344</td>\n",
              "      <td>33096.83</td>\n",
              "      <td>33096.83</td>\n",
              "      <td>33096.83</td>\n",
              "      <td>33096.83</td>\n",
              "      <td>33096.83</td>\n",
              "      <td>33096.83</td>\n",
              "      <td>33096.83</td>\n",
              "      <td>33096.83</td>\n",
              "      <td>33096.83</td>\n",
              "      <td>33096.83</td>\n",
              "      <td>33096.83</td>\n",
              "      <td>33096.83</td>\n",
              "    </tr>\n",
              "    <tr>\n",
              "      <th>2</th>\n",
              "      <td>Miguel Torres</td>\n",
              "      <td>Calle 3 #300</td>\n",
              "      <td>5553334455</td>\n",
              "      <td>30855.28</td>\n",
              "      <td>30855.28</td>\n",
              "      <td>30855.28</td>\n",
              "      <td>30855.28</td>\n",
              "      <td>30855.28</td>\n",
              "      <td>30855.28</td>\n",
              "      <td>30855.28</td>\n",
              "      <td>30855.28</td>\n",
              "      <td>30855.28</td>\n",
              "      <td>30855.28</td>\n",
              "      <td>30855.28</td>\n",
              "      <td>30855.28</td>\n",
              "    </tr>\n",
              "    <tr>\n",
              "      <th>3</th>\n",
              "      <td>Sofía García</td>\n",
              "      <td>Calle 4 #400</td>\n",
              "      <td>5554445566</td>\n",
              "      <td>29701.26</td>\n",
              "      <td>29701.26</td>\n",
              "      <td>29701.26</td>\n",
              "      <td>29701.26</td>\n",
              "      <td>29701.26</td>\n",
              "      <td>29701.26</td>\n",
              "      <td>29701.26</td>\n",
              "      <td>29701.26</td>\n",
              "      <td>29701.26</td>\n",
              "      <td>29701.26</td>\n",
              "      <td>29701.26</td>\n",
              "      <td>29701.26</td>\n",
              "    </tr>\n",
              "    <tr>\n",
              "      <th>4</th>\n",
              "      <td>Carlos Ruiz</td>\n",
              "      <td>Calle 5 #500</td>\n",
              "      <td>5555556677</td>\n",
              "      <td>27284.21</td>\n",
              "      <td>27284.21</td>\n",
              "      <td>27284.21</td>\n",
              "      <td>27284.21</td>\n",
              "      <td>27284.21</td>\n",
              "      <td>27284.21</td>\n",
              "      <td>27284.21</td>\n",
              "      <td>27284.21</td>\n",
              "      <td>27284.21</td>\n",
              "      <td>27284.21</td>\n",
              "      <td>27284.21</td>\n",
              "      <td>27284.21</td>\n",
              "    </tr>\n",
              "    <tr>\n",
              "      <th>5</th>\n",
              "      <td>Elena Reyes</td>\n",
              "      <td>Calle 6 #600</td>\n",
              "      <td>5556667788</td>\n",
              "      <td>31715.22</td>\n",
              "      <td>31715.22</td>\n",
              "      <td>31715.22</td>\n",
              "      <td>31715.22</td>\n",
              "      <td>31715.22</td>\n",
              "      <td>31715.22</td>\n",
              "      <td>31715.22</td>\n",
              "      <td>31715.22</td>\n",
              "      <td>31715.22</td>\n",
              "      <td>31715.22</td>\n",
              "      <td>31715.22</td>\n",
              "      <td>31715.22</td>\n",
              "    </tr>\n",
              "    <tr>\n",
              "      <th>6</th>\n",
              "      <td>Mario Mendoza</td>\n",
              "      <td>Calle 7 #700</td>\n",
              "      <td>5557778899</td>\n",
              "      <td>27561.99</td>\n",
              "      <td>27561.99</td>\n",
              "      <td>27561.99</td>\n",
              "      <td>27561.99</td>\n",
              "      <td>27561.99</td>\n",
              "      <td>27561.99</td>\n",
              "      <td>27561.99</td>\n",
              "      <td>27561.99</td>\n",
              "      <td>27561.99</td>\n",
              "      <td>27561.99</td>\n",
              "      <td>27561.99</td>\n",
              "      <td>27561.99</td>\n",
              "    </tr>\n",
              "    <tr>\n",
              "      <th>7</th>\n",
              "      <td>Paula Jiménez</td>\n",
              "      <td>Calle 8 #800</td>\n",
              "      <td>5558889900</td>\n",
              "      <td>36617.55</td>\n",
              "      <td>36617.55</td>\n",
              "      <td>36617.55</td>\n",
              "      <td>36617.55</td>\n",
              "      <td>36617.55</td>\n",
              "      <td>36617.55</td>\n",
              "      <td>36617.55</td>\n",
              "      <td>36617.55</td>\n",
              "      <td>36617.55</td>\n",
              "      <td>36617.55</td>\n",
              "      <td>36617.55</td>\n",
              "      <td>36617.55</td>\n",
              "    </tr>\n",
              "    <tr>\n",
              "      <th>8</th>\n",
              "      <td>Arturo Lima</td>\n",
              "      <td>Calle 9 #900</td>\n",
              "      <td>5559990011</td>\n",
              "      <td>38050.89</td>\n",
              "      <td>38050.89</td>\n",
              "      <td>38050.89</td>\n",
              "      <td>38050.89</td>\n",
              "      <td>38050.89</td>\n",
              "      <td>38050.89</td>\n",
              "      <td>38050.89</td>\n",
              "      <td>38050.89</td>\n",
              "      <td>38050.89</td>\n",
              "      <td>38050.89</td>\n",
              "      <td>38050.89</td>\n",
              "      <td>38050.89</td>\n",
              "    </tr>\n",
              "    <tr>\n",
              "      <th>9</th>\n",
              "      <td>Lucía Estrada</td>\n",
              "      <td>Calle 10 #1000</td>\n",
              "      <td>5550001122</td>\n",
              "      <td>26482.44</td>\n",
              "      <td>26482.44</td>\n",
              "      <td>26482.44</td>\n",
              "      <td>26482.44</td>\n",
              "      <td>26482.44</td>\n",
              "      <td>26482.44</td>\n",
              "      <td>26482.44</td>\n",
              "      <td>26482.44</td>\n",
              "      <td>26482.44</td>\n",
              "      <td>26482.44</td>\n",
              "      <td>26482.44</td>\n",
              "      <td>26482.44</td>\n",
              "    </tr>\n",
              "  </tbody>\n",
              "</table>\n",
              "</div>"
            ],
            "text/plain": [
              "          nombre       direccion    telefono     enero   febrero     marzo  \\\n",
              "0      Ana López    Calle 1 #100  5551112233  29779.62  29779.62  29779.62   \n",
              "1     Luis Pérez    Calle 2 #200  5552223344  33096.83  33096.83  33096.83   \n",
              "2  Miguel Torres    Calle 3 #300  5553334455  30855.28  30855.28  30855.28   \n",
              "3   Sofía García    Calle 4 #400  5554445566  29701.26  29701.26  29701.26   \n",
              "4    Carlos Ruiz    Calle 5 #500  5555556677  27284.21  27284.21  27284.21   \n",
              "5    Elena Reyes    Calle 6 #600  5556667788  31715.22  31715.22  31715.22   \n",
              "6  Mario Mendoza    Calle 7 #700  5557778899  27561.99  27561.99  27561.99   \n",
              "7  Paula Jiménez    Calle 8 #800  5558889900  36617.55  36617.55  36617.55   \n",
              "8    Arturo Lima    Calle 9 #900  5559990011  38050.89  38050.89  38050.89   \n",
              "9  Lucía Estrada  Calle 10 #1000  5550001122  26482.44  26482.44  26482.44   \n",
              "\n",
              "      abril      mayo     junio     julio    agosto  septiembre   octubre  \\\n",
              "0  29779.62  29779.62  29779.62  29779.62  29779.62    29779.62  29779.62   \n",
              "1  33096.83  33096.83  33096.83  33096.83  33096.83    33096.83  33096.83   \n",
              "2  30855.28  30855.28  30855.28  30855.28  30855.28    30855.28  30855.28   \n",
              "3  29701.26  29701.26  29701.26  29701.26  29701.26    29701.26  29701.26   \n",
              "4  27284.21  27284.21  27284.21  27284.21  27284.21    27284.21  27284.21   \n",
              "5  31715.22  31715.22  31715.22  31715.22  31715.22    31715.22  31715.22   \n",
              "6  27561.99  27561.99  27561.99  27561.99  27561.99    27561.99  27561.99   \n",
              "7  36617.55  36617.55  36617.55  36617.55  36617.55    36617.55  36617.55   \n",
              "8  38050.89  38050.89  38050.89  38050.89  38050.89    38050.89  38050.89   \n",
              "9  26482.44  26482.44  26482.44  26482.44  26482.44    26482.44  26482.44   \n",
              "\n",
              "   noviembre  diciembre  \n",
              "0   29779.62   29779.62  \n",
              "1   33096.83   33096.83  \n",
              "2   30855.28   30855.28  \n",
              "3   29701.26   29701.26  \n",
              "4   27284.21   27284.21  \n",
              "5   31715.22   31715.22  \n",
              "6   27561.99   27561.99  \n",
              "7   36617.55   36617.55  \n",
              "8   38050.89   38050.89  \n",
              "9   26482.44   26482.44  "
            ]
          },
          "execution_count": 82,
          "metadata": {},
          "output_type": "execute_result"
        }
      ],
      "source": [
        "import pandas as pd\n",
        "import numpy as np\n",
        "\n",
        "# Datos de ejemplo\n",
        "empleados = [\n",
        "    {\"nombre\": \"Ana López\",      \"direccion\": \"Calle 1 #100\", \"telefono\": \"5551112233\"},\n",
        "    {\"nombre\": \"Luis Pérez\",     \"direccion\": \"Calle 2 #200\", \"telefono\": \"5552223344\"},\n",
        "    {\"nombre\": \"Miguel Torres\",  \"direccion\": \"Calle 3 #300\", \"telefono\": \"5553334455\"},\n",
        "    {\"nombre\": \"Sofía García\",   \"direccion\": \"Calle 4 #400\", \"telefono\": \"5554445566\"},\n",
        "    {\"nombre\": \"Carlos Ruiz\",    \"direccion\": \"Calle 5 #500\", \"telefono\": \"5555556677\"},\n",
        "    {\"nombre\": \"Elena Reyes\",    \"direccion\": \"Calle 6 #600\", \"telefono\": \"5556667788\"},\n",
        "    {\"nombre\": \"Mario Mendoza\",  \"direccion\": \"Calle 7 #700\", \"telefono\": \"5557778899\"},\n",
        "    {\"nombre\": \"Paula Jiménez\",  \"direccion\": \"Calle 8 #800\", \"telefono\": \"5558889900\"},\n",
        "    {\"nombre\": \"Arturo Lima\",    \"direccion\": \"Calle 9 #900\", \"telefono\": \"5559990011\"},\n",
        "    {\"nombre\": \"Lucía Estrada\",  \"direccion\": \"Calle 10 #1000\", \"telefono\": \"5550001122\"},\n",
        "]\n",
        "\n",
        "# Generar percepciones mensuales aleatorias dentro del rango\n",
        "np.random.seed(0)\n",
        "for emp in empleados:\n",
        "    salario = np.round(np.random.uniform(18837.38, 38775.38), 2)\n",
        "    for mes in ['enero','febrero','marzo','abril','mayo','junio',\n",
        "                'julio','agosto','septiembre','octubre','noviembre','diciembre']:\n",
        "        emp[mes] = salario\n",
        "\n",
        "# Crear el DataFrame\n",
        "df = pd.DataFrame(empleados)\n",
        "print(\"DataFrame de empleados:\\n\")\n",
        "\n",
        "df"
      ]
    },
    {
      "cell_type": "code",
      "execution_count": 84,
      "metadata": {},
      "outputs": [
        {
          "name": "stdout",
          "output_type": "stream",
          "text": [
            "\n",
            "DataFrame con ISR:\n",
            "\n"
          ]
        },
        {
          "data": {
            "text/html": [
              "<div>\n",
              "<style scoped>\n",
              "    .dataframe tbody tr th:only-of-type {\n",
              "        vertical-align: middle;\n",
              "    }\n",
              "\n",
              "    .dataframe tbody tr th {\n",
              "        vertical-align: top;\n",
              "    }\n",
              "\n",
              "    .dataframe thead th {\n",
              "        text-align: right;\n",
              "    }\n",
              "</style>\n",
              "<table border=\"1\" class=\"dataframe\">\n",
              "  <thead>\n",
              "    <tr style=\"text-align: right;\">\n",
              "      <th></th>\n",
              "      <th>nombre</th>\n",
              "      <th>monto_anual</th>\n",
              "      <th>ISR_mensual</th>\n",
              "      <th>ISR_anual</th>\n",
              "    </tr>\n",
              "  </thead>\n",
              "  <tbody>\n",
              "    <tr>\n",
              "      <th>0</th>\n",
              "      <td>Ana López</td>\n",
              "      <td>357355.44</td>\n",
              "      <td>2573.614848</td>\n",
              "      <td>30883.378176</td>\n",
              "    </tr>\n",
              "    <tr>\n",
              "      <th>1</th>\n",
              "      <td>Luis Pérez</td>\n",
              "      <td>397161.96</td>\n",
              "      <td>3353.822640</td>\n",
              "      <td>40245.871680</td>\n",
              "    </tr>\n",
              "    <tr>\n",
              "      <th>2</th>\n",
              "      <td>Miguel Torres</td>\n",
              "      <td>370263.36</td>\n",
              "      <td>2826.610080</td>\n",
              "      <td>33919.320960</td>\n",
              "    </tr>\n",
              "    <tr>\n",
              "      <th>3</th>\n",
              "      <td>Sofía García</td>\n",
              "      <td>356415.12</td>\n",
              "      <td>2555.184576</td>\n",
              "      <td>30662.214912</td>\n",
              "    </tr>\n",
              "    <tr>\n",
              "      <th>4</th>\n",
              "      <td>Carlos Ruiz</td>\n",
              "      <td>327410.52</td>\n",
              "      <td>1986.694416</td>\n",
              "      <td>23840.332992</td>\n",
              "    </tr>\n",
              "    <tr>\n",
              "      <th>5</th>\n",
              "      <td>Elena Reyes</td>\n",
              "      <td>380582.64</td>\n",
              "      <td>3028.867968</td>\n",
              "      <td>36346.415616</td>\n",
              "    </tr>\n",
              "    <tr>\n",
              "      <th>6</th>\n",
              "      <td>Mario Mendoza</td>\n",
              "      <td>330743.88</td>\n",
              "      <td>2052.028272</td>\n",
              "      <td>24624.339264</td>\n",
              "    </tr>\n",
              "    <tr>\n",
              "      <th>7</th>\n",
              "      <td>Paula Jiménez</td>\n",
              "      <td>439410.60</td>\n",
              "      <td>4181.895984</td>\n",
              "      <td>50182.751808</td>\n",
              "    </tr>\n",
              "    <tr>\n",
              "      <th>8</th>\n",
              "      <td>Arturo Lima</td>\n",
              "      <td>456610.68</td>\n",
              "      <td>4519.017552</td>\n",
              "      <td>54228.210624</td>\n",
              "    </tr>\n",
              "    <tr>\n",
              "      <th>9</th>\n",
              "      <td>Lucía Estrada</td>\n",
              "      <td>317789.28</td>\n",
              "      <td>1798.118112</td>\n",
              "      <td>21577.417344</td>\n",
              "    </tr>\n",
              "  </tbody>\n",
              "</table>\n",
              "</div>"
            ],
            "text/plain": [
              "          nombre  monto_anual  ISR_mensual     ISR_anual\n",
              "0      Ana López    357355.44  2573.614848  30883.378176\n",
              "1     Luis Pérez    397161.96  3353.822640  40245.871680\n",
              "2  Miguel Torres    370263.36  2826.610080  33919.320960\n",
              "3   Sofía García    356415.12  2555.184576  30662.214912\n",
              "4    Carlos Ruiz    327410.52  1986.694416  23840.332992\n",
              "5    Elena Reyes    380582.64  3028.867968  36346.415616\n",
              "6  Mario Mendoza    330743.88  2052.028272  24624.339264\n",
              "7  Paula Jiménez    439410.60  4181.895984  50182.751808\n",
              "8    Arturo Lima    456610.68  4519.017552  54228.210624\n",
              "9  Lucía Estrada    317789.28  1798.118112  21577.417344"
            ]
          },
          "execution_count": 84,
          "metadata": {},
          "output_type": "execute_result"
        }
      ],
      "source": [
        "# Función para calcular ISR mensual\n",
        "def calcular_isr(salario_mensual):\n",
        "    limite_inferior = 18837.38\n",
        "    porcentaje = 0.2352\n",
        "    if salario_mensual > limite_inferior:\n",
        "        excedente = salario_mensual - limite_inferior\n",
        "        isr = porcentaje * excedente\n",
        "    else:\n",
        "        isr = 0\n",
        "    return isr\n",
        "\n",
        "# Calcular ISR mensual y total anual para cada empleado\n",
        "isr_mensual = []\n",
        "isr_anual = []\n",
        "monto_anual = []\n",
        "\n",
        "for idx, row in df.iterrows():\n",
        "    total_anual = 0\n",
        "    total_isr = 0\n",
        "    for mes in ['enero','febrero','marzo','abril','mayo','junio',\n",
        "                'julio','agosto','septiembre','octubre','noviembre','diciembre']:\n",
        "        salario = row[mes]\n",
        "        total_anual += salario\n",
        "        total_isr += calcular_isr(salario)\n",
        "    monto_anual.append(total_anual)\n",
        "    isr_mensual.append(calcular_isr(row['enero']))  # ISR de enero representa el mensual (todos los meses igual en este ejemplo)\n",
        "    isr_anual.append(total_isr)\n",
        "\n",
        "df['monto_anual'] = monto_anual\n",
        "df['ISR_mensual'] = isr_mensual\n",
        "df['ISR_anual'] = isr_anual\n",
        "\n",
        "print(\"\\nDataFrame con ISR:\\n\")\n",
        "\n",
        "df[['nombre', 'monto_anual', 'ISR_mensual', 'ISR_anual']]"
      ]
    }
  ],
  "metadata": {
    "colab": {
      "provenance": []
    },
    "kernelspec": {
      "display_name": ".venv",
      "language": "python",
      "name": "python3"
    },
    "language_info": {
      "codemirror_mode": {
        "name": "ipython",
        "version": 3
      },
      "file_extension": ".py",
      "mimetype": "text/x-python",
      "name": "python",
      "nbconvert_exporter": "python",
      "pygments_lexer": "ipython3",
      "version": "3.13.3"
    }
  },
  "nbformat": 4,
  "nbformat_minor": 0
}
